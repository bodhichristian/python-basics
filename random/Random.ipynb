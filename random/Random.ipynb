{
 "cells": [
  {
   "cell_type": "markdown",
   "id": "e92a660b-911e-4df2-b44e-26f6663668cf",
   "metadata": {},
   "source": [
    "# Random"
   ]
  },
  {
   "cell_type": "code",
   "execution_count": 1,
   "id": "2bf1ff94-4fea-4b75-8ff3-f3f2531c3c31",
   "metadata": {},
   "outputs": [
    {
     "name": "stdout",
     "output_type": "stream",
     "text": [
      "['BPF', 'LOG4', 'NV_MAGICCONST', 'RECIP_BPF', 'Random', 'SG_MAGICCONST', 'SystemRandom', 'TWOPI', '_ONE', '_Sequence', '__all__', '__builtins__', '__cached__', '__doc__', '__file__', '__loader__', '__name__', '__package__', '__spec__', '_accumulate', '_acos', '_bisect', '_ceil', '_cos', '_e', '_exp', '_fabs', '_floor', '_index', '_inst', '_isfinite', '_lgamma', '_log', '_log2', '_os', '_pi', '_random', '_repeat', '_sha512', '_sin', '_sqrt', '_test', '_test_generator', '_urandom', '_warn', 'betavariate', 'binomialvariate', 'choice', 'choices', 'expovariate', 'gammavariate', 'gauss', 'getrandbits', 'getstate', 'lognormvariate', 'normalvariate', 'paretovariate', 'randbytes', 'randint', 'random', 'randrange', 'sample', 'seed', 'setstate', 'shuffle', 'triangular', 'uniform', 'vonmisesvariate', 'weibullvariate']\n"
     ]
    }
   ],
   "source": [
    "import random\n",
    "\n",
    "print(dir(random))"
   ]
  },
  {
   "cell_type": "code",
   "execution_count": 2,
   "id": "23122188-4612-4948-9b31-d5b47fa1d175",
   "metadata": {},
   "outputs": [
    {
     "name": "stdout",
     "output_type": "stream",
     "text": [
      "Help on built-in function random:\n",
      "\n",
      "random() method of random.Random instance\n",
      "    random() -> x in the interval [0, 1).\n",
      "\n",
      "None\n"
     ]
    }
   ],
   "source": [
    "print(help(random.random))"
   ]
  },
  {
   "cell_type": "code",
   "execution_count": 3,
   "id": "c821d38b-ca96-46ac-8dc2-752d3eeba015",
   "metadata": {},
   "outputs": [
    {
     "name": "stdout",
     "output_type": "stream",
     "text": [
      "0.3227720274835165\n",
      "0.1025025919554885\n",
      "0.3575147003931216\n",
      "0.9994738647396998\n",
      "0.8983163596784438\n",
      "0.22366136447818463\n",
      "0.34629367125605004\n",
      "0.7853771332449676\n",
      "0.2102830713226711\n",
      "0.7012935697954683\n"
     ]
    }
   ],
   "source": [
    "for i in range(10):\n",
    "    print(random.random())"
   ]
  },
  {
   "cell_type": "code",
   "execution_count": 4,
   "id": "53e1c9b6-a5b6-4d7a-bafc-26584406ed2b",
   "metadata": {},
   "outputs": [
    {
     "name": "stdout",
     "output_type": "stream",
     "text": [
      "4.734981660659161\n",
      "3.466430076885423\n",
      "5.322558590314037\n",
      "5.360875303023758\n",
      "5.3098540798247225\n",
      "3.770563948430422\n",
      "3.105867779257691\n",
      "5.790538024249497\n",
      "3.7047217673378925\n",
      "3.869774759225149\n"
     ]
    }
   ],
   "source": [
    "# Generate random numbers from interval [3, 7)\n",
    "\n",
    "# Get a random number in [0, 1)    \n",
    "# Scale number by 4--width of the range [3, 7)\n",
    "# Shift number by 3--start of range\n",
    "\n",
    "def my_random():\n",
    "    return 4*random.random() + 3\n",
    "\n",
    "for i in range(10):\n",
    "    print(my_random())"
   ]
  },
  {
   "cell_type": "markdown",
   "id": "de874fb5-c5d1-4f5a-8fd2-aa1320f6c559",
   "metadata": {},
   "source": [
    "## Normal Distribution"
   ]
  },
  {
   "cell_type": "markdown",
   "id": "6e9445e2-d1a4-4d9b-a5fc-82ba24aa54e1",
   "metadata": {},
   "source": [
    "random.normalvariate(mean, standard_distribution)"
   ]
  },
  {
   "cell_type": "code",
   "execution_count": 7,
   "id": "a6ed6138-ed40-42f6-b4af-b7aa76701ded",
   "metadata": {},
   "outputs": [
    {
     "name": "stdout",
     "output_type": "stream",
     "text": [
      "-0.0018951984526667661\n",
      "-1.0453541251936673\n",
      "-0.729369907933108\n",
      "-0.2751688890313798\n",
      "-0.7850652019515915\n",
      "0.5500920633093018\n",
      "-0.32150152239740937\n",
      "-0.096584783026749\n",
      "-0.7049650022530183\n",
      "0.2634155097191031\n",
      "0.4872295511093235\n",
      "0.10785625363414397\n",
      "-0.040373068183667406\n",
      "-0.19770737311080813\n",
      "-0.590956555825178\n",
      "0.14064414724042285\n",
      "-0.03544483517152005\n",
      "-0.2523414885756719\n",
      "1.2747304071560968\n",
      "-0.05785966547790154\n"
     ]
    }
   ],
   "source": [
    "for i in range(20):\n",
    "    print(random.normalvariate(0, 0.5))"
   ]
  },
  {
   "cell_type": "markdown",
   "id": "0db9356e-e74c-4f3f-a271-9113eff51c24",
   "metadata": {},
   "source": [
    "## Random Int"
   ]
  },
  {
   "cell_type": "markdown",
   "id": "0b1b53ed-4276-4793-8e96-af419cf98bd3",
   "metadata": {},
   "source": [
    "Takes a range of numbers as bounds"
   ]
  },
  {
   "cell_type": "code",
   "execution_count": 10,
   "id": "0b6a63fc-67ec-4f30-8e92-817d77489d14",
   "metadata": {},
   "outputs": [
    {
     "name": "stdout",
     "output_type": "stream",
     "text": [
      "8\n",
      "3\n",
      "10\n",
      "2\n",
      "5\n",
      "1\n",
      "9\n",
      "9\n",
      "4\n",
      "1\n"
     ]
    }
   ],
   "source": [
    "for i in range(10):\n",
    "    print(random.randint(1, 10))"
   ]
  },
  {
   "cell_type": "markdown",
   "id": "e2af86b6-015f-46ec-bd3a-1d622da1d2a5",
   "metadata": {},
   "source": [
    "## Random choice"
   ]
  },
  {
   "cell_type": "code",
   "execution_count": 11,
   "id": "b1988aa6-1524-4513-abde-1158d2386841",
   "metadata": {},
   "outputs": [
    {
     "name": "stdout",
     "output_type": "stream",
     "text": [
      "rock\n",
      "paper\n",
      "rock\n",
      "paper\n",
      "scissors\n",
      "paper\n",
      "paper\n",
      "scissors\n",
      "paper\n",
      "rock\n"
     ]
    }
   ],
   "source": [
    "moves = ['rock', 'paper', 'scissors']\n",
    "\n",
    "for i in range(10):\n",
    "    print(random.choice(moves))"
   ]
  },
  {
   "cell_type": "markdown",
   "id": "64b86e01-a0db-4c77-8772-d345a91083d5",
   "metadata": {},
   "source": [
    "## Random Walk"
   ]
  },
  {
   "cell_type": "code",
   "execution_count": 13,
   "id": "59fc4796-a419-496a-90f3-31c8f4dfcae6",
   "metadata": {},
   "outputs": [
    {
     "name": "stdout",
     "output_type": "stream",
     "text": [
      "new location: (1, -1) distance from home: 2\n",
      "new location: (-1, -1) distance from home: 2\n",
      "new location: (-2, 0) distance from home: 4\n",
      "new location: (-4, 2) distance from home: 8\n",
      "new location: (-1, -1) distance from home: 2\n",
      "new location: (1, 5) distance from home: 2\n",
      "new location: (2, 2) distance from home: 4\n",
      "new location: (0, -2) distance from home: 0\n",
      "new location: (7, 1) distance from home: 14\n",
      "new location: (0, 0) distance from home: 0\n",
      "new location: (1, 1) distance from home: 2\n",
      "new location: (0, 0) distance from home: 0\n",
      "new location: (1, 1) distance from home: 2\n",
      "new location: (0, 0) distance from home: 0\n",
      "new location: (1, -1) distance from home: 2\n",
      "new location: (3, 1) distance from home: 6\n",
      "new location: (-1, 3) distance from home: 2\n",
      "new location: (-1, 1) distance from home: 2\n",
      "new location: (0, -2) distance from home: 0\n",
      "new location: (-1, -5) distance from home: 2\n",
      "new location: (2, 2) distance from home: 4\n",
      "new location: (5, 5) distance from home: 10\n",
      "new location: (-6, 0) distance from home: 12\n",
      "new location: (2, 2) distance from home: 4\n",
      "new location: (-3, 1) distance from home: 6\n"
     ]
    }
   ],
   "source": [
    "def random_walk(n):\n",
    "    \"\"\"Return coordinates after 'n' block random walk\"\"\"\n",
    "    x, y = 0, 0\n",
    "\n",
    "    for i in range(n):\n",
    "        (dx, dy) = random.choice([(0,1), (0,-1), (1,0), (-1,0)])\n",
    "        x += dx\n",
    "        y += dy\n",
    "\n",
    "    return (x,y)\n",
    "\n",
    "for i in range(25):\n",
    "    walk = random_walk(10)\n",
    "    print(\"new location: \" + str(walk) + ' distance from home: ' + str(abs(walk[0]) + abs(walk[0]) ))\n"
   ]
  },
  {
   "cell_type": "code",
   "execution_count": null,
   "id": "e21998f6-904a-4f75-bc87-9143e68305c6",
   "metadata": {},
   "outputs": [],
   "source": []
  }
 ],
 "metadata": {
  "kernelspec": {
   "display_name": "Python 3 (ipykernel)",
   "language": "python",
   "name": "python3"
  },
  "language_info": {
   "codemirror_mode": {
    "name": "ipython",
    "version": 3
   },
   "file_extension": ".py",
   "mimetype": "text/x-python",
   "name": "python",
   "nbconvert_exporter": "python",
   "pygments_lexer": "ipython3",
   "version": "3.12.8"
  }
 },
 "nbformat": 4,
 "nbformat_minor": 5
}
