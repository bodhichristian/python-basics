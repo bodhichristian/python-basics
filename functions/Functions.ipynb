{
 "cells": [
  {
   "cell_type": "markdown",
   "id": "6b65cda9-8bd0-401a-b95a-2a2b05cd3bf8",
   "metadata": {},
   "source": [
    "# Functions"
   ]
  },
  {
   "cell_type": "markdown",
   "id": "ad204959-ce61-4ceb-8d93-66e601a70180",
   "metadata": {},
   "source": [
    "## Get help "
   ]
  },
  {
   "cell_type": "code",
   "execution_count": 18,
   "id": "03dbb433-5b5d-4dbc-a52e-82495d92b324",
   "metadata": {},
   "outputs": [
    {
     "name": "stdout",
     "output_type": "stream",
     "text": [
      "Help on built-in function pow in module builtins:\n",
      "\n",
      "pow(base, exp, mod=None)\n",
      "    Equivalent to base**exp with 2 arguments or base**exp % mod with 3 arguments\n",
      "\n",
      "    Some types, such as ints, are able to use a more efficient algorithm when\n",
      "    invoked using the three argument form.\n",
      "\n"
     ]
    }
   ],
   "source": [
    "help(pow)"
   ]
  },
  {
   "cell_type": "markdown",
   "id": "38c04348-32af-462c-94d8-869af28ae3ee",
   "metadata": {},
   "source": [
    "## Type method look-up"
   ]
  },
  {
   "cell_type": "code",
   "execution_count": 19,
   "id": "4338c914-aecc-4044-90dc-0f10e79d75d6",
   "metadata": {},
   "outputs": [
    {
     "data": {
      "text/plain": [
       "['__abs__', '__add__', '__and__', '__bool__', '__ceil__']"
      ]
     },
     "execution_count": 19,
     "metadata": {},
     "output_type": "execute_result"
    }
   ],
   "source": [
    "dir(int)[0:5]"
   ]
  },
  {
   "cell_type": "markdown",
   "id": "663abc83-7253-4188-b46a-85e6434dae6b",
   "metadata": {},
   "source": [
    "## Common methods"
   ]
  },
  {
   "cell_type": "code",
   "execution_count": 20,
   "id": "b011e95d-a553-4815-b692-73f0735b087a",
   "metadata": {},
   "outputs": [
    {
     "name": "stdout",
     "output_type": "stream",
     "text": [
      "5\n"
     ]
    }
   ],
   "source": [
    "# return the length of a sequence\n",
    "var1 = [1, 2, 3, 4, 5]\n",
    "print(len(var1))"
   ]
  },
  {
   "cell_type": "code",
   "execution_count": 21,
   "id": "8e0b1bd1-b8aa-4f32-90b4-b42c19668b78",
   "metadata": {},
   "outputs": [
    {
     "name": "stdout",
     "output_type": "stream",
     "text": [
      "<class 'bool'>\n"
     ]
    }
   ],
   "source": [
    "# return an object's type \n",
    "var2 = True\n",
    "print(type(var2))"
   ]
  },
  {
   "cell_type": "code",
   "execution_count": 22,
   "id": "85a4d9e5-3097-4e3b-9197-07c92760270a",
   "metadata": {},
   "outputs": [
    {
     "name": "stdout",
     "output_type": "stream",
     "text": [
      "[1, 2, 3, 4, 5, 6, 7, 8, 9, 10]\n",
      "[10, 9, 8, 7, 6, 5, 4, 3, 2, 1]\n"
     ]
    }
   ],
   "source": [
    "# sort a list\n",
    "nums = [1, 3, 5, 7, 9, 2, 4, 6, 8, 10]\n",
    "nums_asc = sorted(nums)\n",
    "nums_desc = sorted(nums, reverse=True)\n",
    "print(nums_asc)\n",
    "print(nums_desc)"
   ]
  },
  {
   "cell_type": "markdown",
   "id": "fe272d35-77e7-449d-a128-e04e05e9693b",
   "metadata": {},
   "source": [
    "## String methods"
   ]
  },
  {
   "cell_type": "code",
   "execution_count": 23,
   "id": "eae2b636-07d0-4672-a3b3-546e30520f6f",
   "metadata": {},
   "outputs": [
    {
     "name": "stdout",
     "output_type": "stream",
     "text": [
      "New York in upper case is NEW YORK\n",
      "New York in lower case is new york\n",
      "1 occurrence(s) of 'e' in New York\n"
     ]
    }
   ],
   "source": [
    "state = 'New York'\n",
    "\n",
    "upper_case = state.upper()\n",
    "print(f'{state} in upper case is {upper_case}')\n",
    "\n",
    "lower_case = state.lower()\n",
    "print(f'{state} in lower case is {lower_case}')\n",
    "\n",
    "e_count = state.lower().count('e')\n",
    "print(f'{e_count} occurrence(s) of \\'e\\' in {state}')"
   ]
  },
  {
   "cell_type": "markdown",
   "id": "80f247d3-9c56-41b7-99bc-f3120a66c861",
   "metadata": {},
   "source": [
    "## List methods"
   ]
  },
  {
   "cell_type": "code",
   "execution_count": 24,
   "id": "49e8415d-5b79-4ce7-9d71-1ba9bd7eff0a",
   "metadata": {},
   "outputs": [
    {
     "name": "stdout",
     "output_type": "stream",
     "text": [
      "2\n",
      "1\n",
      "[11.25, 18.0, 20.0, 10.75, 9.5, 24.5, 15.45]\n",
      "[15.45, 24.5, 9.5, 10.75, 20.0, 18.0, 11.25]\n"
     ]
    }
   ],
   "source": [
    "areas = [11.25, 18.0, 20.0, 10.75, 9.50]\n",
    "\n",
    "# Return the index of the argument\n",
    "print(areas.index(20.0))\n",
    "\n",
    "# Count the occurrences of the argument\n",
    "print(areas.count(9.50))\n",
    "\n",
    "# Append elements\n",
    "areas.append(24.5)\n",
    "areas.append(15.45)\n",
    "\n",
    "print(areas)\n",
    "\n",
    "# Reverse is performed on the object directly\n",
    "areas.reverse()\n",
    "\n",
    "# Print out areas\n",
    "print(areas)"
   ]
  },
  {
   "cell_type": "markdown",
   "id": "ed3283ba-cc43-42b7-b912-69254cebe4e7",
   "metadata": {},
   "source": [
    "## Custom functions"
   ]
  },
  {
   "cell_type": "markdown",
   "id": "dc52a048-3911-4881-87cd-5a0b772f301c",
   "metadata": {},
   "source": [
    "Arguments that are provided default arguments are optional at the callsite. Triple quotes create documentation for the function that is viewable by calling help()"
   ]
  },
  {
   "cell_type": "code",
   "execution_count": 25,
   "id": "d78b3433-90e8-4cdb-b556-c455928f5354",
   "metadata": {},
   "outputs": [
    {
     "name": "stdout",
     "output_type": "stream",
     "text": [
      "187.96\n"
     ]
    }
   ],
   "source": [
    "def cm(feet = 0, inches = 0):\n",
    "    \"\"\"Converts a length from feet and inches to centimeters.\"\"\" #doc string\n",
    "    feet_to_cm = feet * 12 * 2.54\n",
    "    inches_to_cm = inches * 2.54\n",
    "    return feet_to_cm + inches_to_cm\n",
    "\n",
    "height = cm(6, 2)\n",
    "print(height)\n",
    "    "
   ]
  },
  {
   "cell_type": "markdown",
   "id": "b0aa9d96-7b2a-4938-bd6c-4cc4e20ebb21",
   "metadata": {},
   "source": [
    "## Lambda functions"
   ]
  },
  {
   "cell_type": "markdown",
   "id": "c918a130-ec94-4a7a-acd2-f87ff2d03cb0",
   "metadata": {},
   "source": [
    "Lambda functions are small, anonymous, throwaway functions  \n",
    "\n",
    "syntax:\n",
    "lambda variable_name: functionality    "
   ]
  },
  {
   "cell_type": "code",
   "execution_count": 31,
   "id": "f3d7db8f-b869-43de-965c-0f89b41bf566",
   "metadata": {},
   "outputs": [
    {
     "name": "stdout",
     "output_type": "stream",
     "text": [
      "<map object at 0x11c106e00>\n"
     ]
    }
   ],
   "source": [
    "doubleX = lambda x: x * 2  \n",
    "doubledList = map(doubleX, [1, 2, 3]) \n",
    "print(doubled_list)"
   ]
  },
  {
   "cell_type": "code",
   "execution_count": 33,
   "id": "1b13c4a3-c5e6-46c9-b900-e38ceb62c79d",
   "metadata": {},
   "outputs": [
    {
     "name": "stdout",
     "output_type": "stream",
     "text": [
      "HI\n",
      "HELLO\n",
      "HOW ARE YOU\n",
      "I'M FINE\n"
     ]
    }
   ],
   "source": [
    "strings = ['hi', 'hello', 'how are you', 'i\\'m fine']\n",
    "upper = lambda x: x.upper()\n",
    "\n",
    "upper_strings = map(upper, strings)\n",
    "for string in upper_strings:\n",
    "    print(string)"
   ]
  },
  {
   "cell_type": "markdown",
   "id": "04d75c82-73b8-4838-92a5-fef8f0829a29",
   "metadata": {},
   "source": [
    "## Expense Tracker Program"
   ]
  },
  {
   "cell_type": "markdown",
   "id": "5cd3ffa9-490a-4a92-ba55-61d3b534b524",
   "metadata": {},
   "source": [
    "An interactive program for adding and referencing expenses.  \n",
    "  \n",
    "Challenge from freecodecamp.com"
   ]
  },
  {
   "cell_type": "code",
   "execution_count": 35,
   "id": "b3823126-54b2-48e0-b6b7-73e0ef41e217",
   "metadata": {},
   "outputs": [
    {
     "name": "stdout",
     "output_type": "stream",
     "text": [
      "\n",
      "Expense Tracker\n",
      "1. Add an expense\n",
      "2. List all expenses\n",
      "3. Show total expenses\n",
      "4. Filter expenses by category\n",
      "5. Exit\n"
     ]
    },
    {
     "name": "stdin",
     "output_type": "stream",
     "text": [
      "Enter your choice:  5\n"
     ]
    },
    {
     "name": "stdout",
     "output_type": "stream",
     "text": [
      "Exiting the program.\n"
     ]
    }
   ],
   "source": [
    "# Expense Tracker Program\n",
    "# An interactive program for adding and referencing expenses\n",
    "def add_expense(expenses, amount, category):\n",
    "    expenses.append({'amount': amount, 'category': category})\n",
    "    \n",
    "def print_expenses(expenses):\n",
    "    for expense in expenses:\n",
    "        print(f'Amount: {expense[\"amount\"]}, Category: {expense[\"category\"]}')\n",
    "    \n",
    "def total_expenses(expenses):\n",
    "    return sum(map(lambda expense: expense['amount'], expenses))\n",
    "    \n",
    "def filter_expenses_by_category(expenses, category):\n",
    "    return filter(lambda expense: expense['category'] == category, expenses)\n",
    "\n",
    "def main():\n",
    "    expenses = []\n",
    "    while True:\n",
    "        print('\\nExpense Tracker')\n",
    "        print('1. Add an expense')\n",
    "        print('2. List all expenses')\n",
    "        print('3. Show total expenses')\n",
    "        print('4. Filter expenses by category')\n",
    "        print('5. Exit')\n",
    "       \n",
    "        choice = input('Enter your choice: ')\n",
    "\n",
    "        if choice == '1':\n",
    "            amount = float(input('Enter amount: '))\n",
    "            category = input('Enter category: ')\n",
    "            add_expense(expenses, amount, category)\n",
    "\n",
    "        elif choice == '2':\n",
    "            print('\\nAll Expenses:')\n",
    "            print_expenses(expenses)\n",
    "    \n",
    "        elif choice == '3':\n",
    "            print('\\nTotal Expenses: ', total_expenses(expenses))\n",
    "    \n",
    "        elif choice == '4':\n",
    "            category = input('Enter category to filter: ')\n",
    "            print(f'\\nExpenses for {category}:')\n",
    "            expenses_from_category = filter_expenses_by_category(expenses, category)\n",
    "            print_expenses(expenses_from_category)\n",
    "    \n",
    "        elif choice == '5':\n",
    "            print('Exiting the program.')\n",
    "            break\n",
    "main()"
   ]
  },
  {
   "cell_type": "markdown",
   "id": "8ee2c158-879c-4646-8498-d3514ae09fde",
   "metadata": {},
   "source": [
    "## Encryption methods"
   ]
  },
  {
   "cell_type": "markdown",
   "id": "250a533a-8631-4435-89ee-49171a7daec9",
   "metadata": {},
   "source": [
    "### Viginere's Encryption\n",
    "Encyrpt a message where each letter is shifted by varying offset"
   ]
  },
  {
   "cell_type": "code",
   "execution_count": 36,
   "id": "4ba06de5-121f-41ec-8724-11614975d9f5",
   "metadata": {},
   "outputs": [
    {
     "name": "stdout",
     "output_type": "stream",
     "text": [
      "jcyev, eotjq!\n",
      "hello, world!\n"
     ]
    }
   ],
   "source": [
    "def vigenere(message, key, direction = 1):\n",
    "    key_index = 0\n",
    "    alphabet = 'abcdefghijklmnopqrstuvwxyz'\n",
    "    final_message = ''\n",
    "\n",
    "    for char in message.lower():\n",
    "\n",
    "        # Append any non-letter character to the message\n",
    "        if not char.isalpha():\n",
    "            final_message += char\n",
    "        else:        \n",
    "            # Find the right key character to encode/decode\n",
    "            key_char = key[key_index % len(key)]\n",
    "            key_index += 1\n",
    "\n",
    "            # Define the offset and the encrypted/decrypted letter\n",
    "            offset = alphabet.index(key_char)\n",
    "            index = alphabet.find(char)\n",
    "            new_index = (index + offset*direction) % len(alphabet)\n",
    "            final_message += alphabet[new_index]\n",
    "    return final_message\n",
    "\n",
    "def encrypt(message, key):\n",
    "    return vigenere(message, key)\n",
    "    \n",
    "def decrypt(message, key):\n",
    "    return vigenere(message, key, -1)\n",
    "    \n",
    "text = \"Hello, world!\"\n",
    "custom_key = \"cynthia\"    \n",
    "encryption = encrypt(text, custom_key)\n",
    "print(encryption)\n",
    "decryption = decrypt(encryption, custom_key)\n",
    "print(decryption)"
   ]
  },
  {
   "cell_type": "markdown",
   "id": "9b36ad06-4f80-4cd0-9cb4-0d9b75642b13",
   "metadata": {},
   "source": [
    "### Caesar's Encryption\n",
    "Return an encrpyted message where each letter is shifted by a specified `offset`."
   ]
  },
  {
   "cell_type": "code",
   "execution_count": 38,
   "id": "d47c8157-fcd2-4a69-9d18-f8b1f660cf43",
   "metadata": {},
   "outputs": [
    {
     "name": "stdout",
     "output_type": "stream",
     "text": [
      "plain text: Hello Zaira\n",
      "encrypted text: khoor cdlud\n"
     ]
    }
   ],
   "source": [
    "def caesar(message, offset):\n",
    "    alphabet = 'abcdefghijklmnopqrstuvwxyz'\n",
    "    encrypted_text = ''\n",
    "\n",
    "    for char in message.lower():\n",
    "        if char == ' ':\n",
    "            encrypted_text += char\n",
    "        else:\n",
    "            index = alphabet.find(char)\n",
    "            new_index = (index + offset) % len(alphabet)\n",
    "            encrypted_text += alphabet[new_index]\n",
    "    print('plain text:', message)\n",
    "    print('encrypted text:', encrypted_text)\n",
    "\n",
    "text = 'Hello Zaira'\n",
    "shift = 3\n",
    "\n",
    "caesar(text, shift)"
   ]
  },
  {
   "cell_type": "markdown",
   "id": "5009f9ab-132e-46c3-b105-512cabd6675b",
   "metadata": {},
   "source": [
    "## Luhn Algorithm\n",
    "The Luhn Algorithm is a means of validating card numbers.\n",
    "\n",
    "1. From the right to left, double the value of every second digit; if the product is greater than 9, sum the digits of the products.\n",
    "2. Take the sum of all the digits.\n",
    "3. If the sum of all the digits is a multiple of 10, then the number is valid; else it is not valid."
   ]
  },
  {
   "cell_type": "code",
   "execution_count": 40,
   "id": "46db8715-f557-4529-b938-12a30d350805",
   "metadata": {},
   "outputs": [
    {
     "name": "stdout",
     "output_type": "stream",
     "text": [
      "50\n",
      "VALID!\n"
     ]
    }
   ],
   "source": [
    "def verify_card_number(card_number):\n",
    "    sum_of_odd_digits = 0\n",
    "    card_number_reversed = card_number[::-1]\n",
    "    odd_digits = card_number_reversed[::2]\n",
    "\n",
    "    for digit in odd_digits:\n",
    "        sum_of_odd_digits += int(digit)\n",
    "\n",
    "    sum_of_even_digits = 0\n",
    "    even_digits = card_number_reversed[1::2]\n",
    "    for digit in even_digits:\n",
    "        number = int(digit) * 2\n",
    "        if number >= 10:\n",
    "            number = (number // 10) + (number % 10)\n",
    "        sum_of_even_digits += number\n",
    "    total = sum_of_odd_digits + sum_of_even_digits\n",
    "    print(total)\n",
    "    return total % 10 == 0\n",
    "\n",
    "def main():\n",
    "    card_number = '4111-1111-4555-1142' # known valid number\n",
    "    card_translation = str.maketrans({'-': '', ' ': ''})\n",
    "    translated_card_number = card_number.translate(card_translation)\n",
    "\n",
    "    if verify_card_number(translated_card_number):\n",
    "        print('VALID!')\n",
    "    else:\n",
    "        print('INVALID!')\n",
    "\n",
    "main()"
   ]
  },
  {
   "cell_type": "markdown",
   "id": "fa2062db-50a6-4c9f-97db-73afd14801a4",
   "metadata": {},
   "source": [
    "## Scope"
   ]
  },
  {
   "cell_type": "markdown",
   "id": "b5cd521c-573d-447a-bd61-a855f10192d0",
   "metadata": {},
   "source": [
    "Python functions look to access a variable name local to a function call, and if the variable name is unfound, it will attempt to access a global variable by the same name. The <b>global</b> keyword brings global values into the local scope of functions.  \n",
    "\n",
    "The full scope search hierarchy:\n",
    "- Local scope\n",
    "- Encolsing functions\n",
    "- Global\n",
    "- Built-in"
   ]
  },
  {
   "cell_type": "code",
   "execution_count": 1,
   "id": "49828df9-d80d-4549-8045-7f794659f182",
   "metadata": {},
   "outputs": [
    {
     "name": "stdout",
     "output_type": "stream",
     "text": [
      "7\n"
     ]
    }
   ],
   "source": [
    "score = 0\n",
    "\n",
    "def add_points(amount):\n",
    "    global score\n",
    "    score += amount\n",
    "\n",
    "add_points(7)\n",
    "print(score)"
   ]
  },
  {
   "cell_type": "markdown",
   "id": "32f4f938-baad-4e4d-9114-039c3565fe78",
   "metadata": {},
   "source": [
    "## Nested functions"
   ]
  },
  {
   "cell_type": "markdown",
   "id": "0881eb74-5301-458e-b221-016e3604f2a2",
   "metadata": {},
   "source": [
    "In nested functions, python will look to access variable names at each level of scope from local to global"
   ]
  },
  {
   "cell_type": "markdown",
   "id": "4fecdea4-d389-41b9-b4f4-62788ab901e5",
   "metadata": {},
   "source": [
    "### Using nonlocal"
   ]
  },
  {
   "cell_type": "code",
   "execution_count": 2,
   "id": "3db0773d-b747-41ec-a2cf-613ef7c35955",
   "metadata": {},
   "outputs": [
    {
     "name": "stdout",
     "output_type": "stream",
     "text": [
      "2\n",
      "2\n"
     ]
    }
   ],
   "source": [
    "def outer():\n",
    "    \"\"\"Prints the value of n\"\"\"\n",
    "    n = 1\n",
    "\n",
    "    def inner():\n",
    "        nonlocal n\n",
    "        n = 2\n",
    "        print(n)\n",
    "\n",
    "    inner()\n",
    "    print(n)\n",
    "\n",
    "outer()"
   ]
  },
  {
   "cell_type": "markdown",
   "id": "2c09dcb9-c34d-4ba5-ab45-bde4267221cb",
   "metadata": {},
   "source": [
    "## Returning functions"
   ]
  },
  {
   "cell_type": "code",
   "execution_count": 1,
   "id": "19e9d90a-3ced-4296-9f76-1e69962a7fc7",
   "metadata": {},
   "outputs": [
    {
     "name": "stdout",
     "output_type": "stream",
     "text": [
      "4 64\n"
     ]
    }
   ],
   "source": [
    "def raise_val(n):\n",
    "    \"\"\"Return the inner function\"\"\"\n",
    "\n",
    "    def inner(x):\n",
    "        raised = x ** n\n",
    "        return raised\n",
    "\n",
    "    return inner\n",
    "\n",
    "square = raise_val(2)\n",
    "cube = raise_val(3)\n",
    "print(square(2), cube(4))\n"
   ]
  },
  {
   "cell_type": "markdown",
   "id": "dc29e118-860c-49be-b93b-40035f5b5a23",
   "metadata": {},
   "source": [
    "Similar to global, <b>nonlocal</b> keyword lets a function know the value will be in an enclosing scope."
   ]
  },
  {
   "cell_type": "markdown",
   "id": "ff1238e2-05d2-43df-acac-f6e463c3dc82",
   "metadata": {},
   "source": [
    "## Flexible arguments"
   ]
  },
  {
   "cell_type": "code",
   "execution_count": null,
   "id": "c20212ba-823a-4d7b-bb47-123a58cb2301",
   "metadata": {},
   "outputs": [],
   "source": [
    "asdgaafhafhadfhadfha"
   ]
  },
  {
   "cell_type": "code",
   "execution_count": null,
   "id": "73f2fbda-814d-4ce6-add2-9405226a8f22",
   "metadata": {},
   "outputs": [],
   "source": [
    "afafhafhafh"
   ]
  },
  {
   "cell_type": "markdown",
   "id": "1186e6a8-d06e-442e-924b-437e66a220b8",
   "metadata": {},
   "source": [
    "Using *args will convert all provided arguments into a tuple for use inside the function body."
   ]
  },
  {
   "cell_type": "code",
   "execution_count": 2,
   "id": "f7a414dc-c919-4c01-9ab0-fcb937f68668",
   "metadata": {},
   "outputs": [
    {
     "data": {
      "text/plain": [
       "15"
      ]
     },
     "execution_count": 2,
     "metadata": {},
     "output_type": "execute_result"
    }
   ],
   "source": [
    "def add_all(*args):\n",
    "    sum = 0\n",
    "    for num in args:\n",
    "        sum += num\n",
    "    return sum\n",
    "\n",
    "add_all(1, 2, 3, 4, 5)"
   ]
  },
  {
   "cell_type": "code",
   "execution_count": null,
   "id": "1bea31b9-c1f8-4007-a2f6-96ea460d915a",
   "metadata": {},
   "outputs": [],
   "source": []
  },
  {
   "cell_type": "markdown",
   "id": "3499a43e-d54f-46ae-8388-ae63050f1f0e",
   "metadata": {},
   "source": [
    "Using *kwargs will convert all provided arguments into a dictionary for use inside the function body."
   ]
  },
  {
   "cell_type": "code",
   "execution_count": 9,
   "id": "5bc85420-2f40-4f5a-9796-a8ecaeb0f67d",
   "metadata": {},
   "outputs": [
    {
     "name": "stdout",
     "output_type": "stream",
     "text": [
      "name: Christian\n",
      "age: 34\n",
      "slogan: Howdy Doody\n"
     ]
    }
   ],
   "source": [
    "def print_all(**kwargs):\n",
    "    for key, value in kwargs.items():\n",
    "        print(key + ':', value)\n",
    "\n",
    "print_all(name='Christian', age=34, slogan='Howdy Doody')"
   ]
  },
  {
   "cell_type": "code",
   "execution_count": null,
   "id": "b6dcff75-c16b-434c-a158-cc7257502909",
   "metadata": {},
   "outputs": [],
   "source": []
  },
  {
   "cell_type": "code",
   "execution_count": null,
   "id": "ff48c503-e831-44da-afaf-57d3d7258d40",
   "metadata": {},
   "outputs": [],
   "source": []
  }
 ],
 "metadata": {
  "kernelspec": {
   "display_name": "Python 3 (ipykernel)",
   "language": "python",
   "name": "python3"
  },
  "language_info": {
   "codemirror_mode": {
    "name": "ipython",
    "version": 3
   },
   "file_extension": ".py",
   "mimetype": "text/x-python",
   "name": "python",
   "nbconvert_exporter": "python",
   "pygments_lexer": "ipython3",
   "version": "3.12.8"
  }
 },
 "nbformat": 4,
 "nbformat_minor": 5
}
