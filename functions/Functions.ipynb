{
 "cells": [
  {
   "cell_type": "markdown",
   "id": "6b65cda9-8bd0-401a-b95a-2a2b05cd3bf8",
   "metadata": {},
   "source": [
    "# Functions"
   ]
  },
  {
   "cell_type": "markdown",
   "id": "9dfca14f-310a-4bfd-b5ce-bf737f1236f3",
   "metadata": {},
   "source": [
    "## Built-in functions"
   ]
  },
  {
   "cell_type": "markdown",
   "id": "ad204959-ce61-4ceb-8d93-66e601a70180",
   "metadata": {},
   "source": [
    "## Get help "
   ]
  },
  {
   "cell_type": "code",
   "execution_count": 18,
   "id": "03dbb433-5b5d-4dbc-a52e-82495d92b324",
   "metadata": {},
   "outputs": [
    {
     "name": "stdout",
     "output_type": "stream",
     "text": [
      "Help on built-in function pow in module builtins:\n",
      "\n",
      "pow(base, exp, mod=None)\n",
      "    Equivalent to base**exp with 2 arguments or base**exp % mod with 3 arguments\n",
      "\n",
      "    Some types, such as ints, are able to use a more efficient algorithm when\n",
      "    invoked using the three argument form.\n",
      "\n"
     ]
    }
   ],
   "source": [
    "help(pow)"
   ]
  },
  {
   "cell_type": "markdown",
   "id": "38c04348-32af-462c-94d8-869af28ae3ee",
   "metadata": {},
   "source": [
    "## Type method look-up"
   ]
  },
  {
   "cell_type": "code",
   "execution_count": 19,
   "id": "4338c914-aecc-4044-90dc-0f10e79d75d6",
   "metadata": {},
   "outputs": [
    {
     "data": {
      "text/plain": [
       "['__abs__', '__add__', '__and__', '__bool__', '__ceil__']"
      ]
     },
     "execution_count": 19,
     "metadata": {},
     "output_type": "execute_result"
    }
   ],
   "source": [
    "dir(int)[0:5]"
   ]
  },
  {
   "cell_type": "markdown",
   "id": "663abc83-7253-4188-b46a-85e6434dae6b",
   "metadata": {},
   "source": [
    "## Common methods"
   ]
  },
  {
   "cell_type": "code",
   "execution_count": 20,
   "id": "b011e95d-a553-4815-b692-73f0735b087a",
   "metadata": {},
   "outputs": [
    {
     "name": "stdout",
     "output_type": "stream",
     "text": [
      "5\n"
     ]
    }
   ],
   "source": [
    "# return the length of a sequence\n",
    "var1 = [1, 2, 3, 4, 5]\n",
    "print(len(var1))"
   ]
  },
  {
   "cell_type": "code",
   "execution_count": 21,
   "id": "8e0b1bd1-b8aa-4f32-90b4-b42c19668b78",
   "metadata": {},
   "outputs": [
    {
     "name": "stdout",
     "output_type": "stream",
     "text": [
      "<class 'bool'>\n"
     ]
    }
   ],
   "source": [
    "# return an object's type \n",
    "var2 = True\n",
    "print(type(var2))"
   ]
  },
  {
   "cell_type": "code",
   "execution_count": 22,
   "id": "85a4d9e5-3097-4e3b-9197-07c92760270a",
   "metadata": {},
   "outputs": [
    {
     "name": "stdout",
     "output_type": "stream",
     "text": [
      "[1, 2, 3, 4, 5, 6, 7, 8, 9, 10]\n",
      "[10, 9, 8, 7, 6, 5, 4, 3, 2, 1]\n"
     ]
    }
   ],
   "source": [
    "# sort a list\n",
    "nums = [1, 3, 5, 7, 9, 2, 4, 6, 8, 10]\n",
    "nums_asc = sorted(nums)\n",
    "nums_desc = sorted(nums, reverse=True)\n",
    "print(nums_asc)\n",
    "print(nums_desc)"
   ]
  },
  {
   "cell_type": "markdown",
   "id": "fe272d35-77e7-449d-a128-e04e05e9693b",
   "metadata": {},
   "source": [
    "## String methods"
   ]
  },
  {
   "cell_type": "code",
   "execution_count": 23,
   "id": "eae2b636-07d0-4672-a3b3-546e30520f6f",
   "metadata": {},
   "outputs": [
    {
     "name": "stdout",
     "output_type": "stream",
     "text": [
      "New York in upper case is NEW YORK\n",
      "New York in lower case is new york\n",
      "1 occurrence(s) of 'e' in New York\n"
     ]
    }
   ],
   "source": [
    "state = 'New York'\n",
    "\n",
    "upper_case = state.upper()\n",
    "print(f'{state} in upper case is {upper_case}')\n",
    "\n",
    "lower_case = state.lower()\n",
    "print(f'{state} in lower case is {lower_case}')\n",
    "\n",
    "e_count = state.lower().count('e')\n",
    "print(f'{e_count} occurrence(s) of \\'e\\' in {state}')"
   ]
  },
  {
   "cell_type": "markdown",
   "id": "80f247d3-9c56-41b7-99bc-f3120a66c861",
   "metadata": {},
   "source": [
    "## List methods"
   ]
  },
  {
   "cell_type": "code",
   "execution_count": 24,
   "id": "49e8415d-5b79-4ce7-9d71-1ba9bd7eff0a",
   "metadata": {},
   "outputs": [
    {
     "name": "stdout",
     "output_type": "stream",
     "text": [
      "2\n",
      "1\n",
      "[11.25, 18.0, 20.0, 10.75, 9.5, 24.5, 15.45]\n",
      "[15.45, 24.5, 9.5, 10.75, 20.0, 18.0, 11.25]\n"
     ]
    }
   ],
   "source": [
    "areas = [11.25, 18.0, 20.0, 10.75, 9.50]\n",
    "\n",
    "# Return the index of the argument\n",
    "print(areas.index(20.0))\n",
    "\n",
    "# Count the occurrences of the argument\n",
    "print(areas.count(9.50))\n",
    "\n",
    "# Append elements\n",
    "areas.append(24.5)\n",
    "areas.append(15.45)\n",
    "\n",
    "print(areas)\n",
    "\n",
    "# Reverse is performed on the object directly\n",
    "areas.reverse()\n",
    "\n",
    "# Print out areas\n",
    "print(areas)"
   ]
  },
  {
   "cell_type": "markdown",
   "id": "ed3283ba-cc43-42b7-b912-69254cebe4e7",
   "metadata": {},
   "source": [
    "## Custom functions"
   ]
  },
  {
   "cell_type": "markdown",
   "id": "dc52a048-3911-4881-87cd-5a0b772f301c",
   "metadata": {},
   "source": [
    "Arguments that are provided default arguments are optional at the callsite. Triple quotes create documentation for the function that is viewable by calling help()"
   ]
  },
  {
   "cell_type": "code",
   "execution_count": 25,
   "id": "d78b3433-90e8-4cdb-b556-c455928f5354",
   "metadata": {},
   "outputs": [
    {
     "name": "stdout",
     "output_type": "stream",
     "text": [
      "187.96\n"
     ]
    }
   ],
   "source": [
    "def cm(feet = 0, inches = 0):\n",
    "    \"\"\"Converts a length from feet and inches to centimeters.\"\"\" #doc string\n",
    "    feet_to_cm = feet * 12 * 2.54\n",
    "    inches_to_cm = inches * 2.54\n",
    "    return feet_to_cm + inches_to_cm\n",
    "\n",
    "height = cm(6, 2)\n",
    "print(height)\n",
    "    "
   ]
  }
 ],
 "metadata": {
  "kernelspec": {
   "display_name": "Python 3 (ipykernel)",
   "language": "python",
   "name": "python3"
  },
  "language_info": {
   "codemirror_mode": {
    "name": "ipython",
    "version": 3
   },
   "file_extension": ".py",
   "mimetype": "text/x-python",
   "name": "python",
   "nbconvert_exporter": "python",
   "pygments_lexer": "ipython3",
   "version": "3.12.8"
  }
 },
 "nbformat": 4,
 "nbformat_minor": 5
}
