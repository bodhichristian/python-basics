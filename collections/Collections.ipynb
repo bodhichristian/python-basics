{
 "cells": [
  {
   "cell_type": "markdown",
   "id": "6258eabe-e07f-434e-b78b-5bdbaafbf701",
   "metadata": {},
   "source": [
    "# Collections"
   ]
  },
  {
   "cell_type": "markdown",
   "id": "ca949603-fcfc-4d5c-bec1-bec45bbb8611",
   "metadata": {},
   "source": [
    "Containers are built-in data structures that can hold multiple items such as:\n",
    "- List\n",
    "- Set\n",
    "- Tuple\n",
    "- Dict\n",
    "\n",
    "The Collections module provides addtional data structures such as:"
   ]
  },
  {
   "cell_type": "markdown",
   "id": "af901915-66c1-4501-b2eb-261f191c0d29",
   "metadata": {},
   "source": [
    "## Counter"
   ]
  },
  {
   "cell_type": "markdown",
   "id": "7823e094-b354-40fb-920a-9b0dff1b2a32",
   "metadata": {},
   "source": [
    "A dictionary subclass for counting hashable objects."
   ]
  },
  {
   "cell_type": "code",
   "execution_count": 1,
   "id": "ea234f77-1fb5-4cd2-aaa3-a2ece1653755",
   "metadata": {},
   "outputs": [
    {
     "name": "stdout",
     "output_type": "stream",
     "text": [
      "Counter({'c': 7, 'f': 5, 'a': 4, 'b': 3, 'd': 3, 'e': 3})\n"
     ]
    }
   ],
   "source": [
    "from collections import Counter\n",
    "\n",
    "c = Counter('aaaabbbcccccccdddeeefffff')\n",
    "print(c)"
   ]
  },
  {
   "cell_type": "code",
   "execution_count": 2,
   "id": "fb6a4ab5-7d79-416c-a2c8-ad39c9529804",
   "metadata": {},
   "outputs": [
    {
     "name": "stdout",
     "output_type": "stream",
     "text": [
      "Counter({'wed': 3, 'tue': 2, 'mon': 1})\n"
     ]
    }
   ],
   "source": [
    "c = Counter({'mon': 1, 'tue': 2, 'wed': 3})\n",
    "print(c)"
   ]
  },
  {
   "cell_type": "code",
   "execution_count": 6,
   "id": "8d07a1f7-bde5-4fd0-8402-96c3711e82de",
   "metadata": {},
   "outputs": [
    {
     "name": "stdout",
     "output_type": "stream",
     "text": [
      "Counter({'birds': 5, 'cats': 3, 'dogs': 2})\n",
      "3  cats\n"
     ]
    }
   ],
   "source": [
    "c = Counter(dogs=2, cats=3, birds=5)\n",
    "print(c)\n",
    "print(c['cats'], ' cats')"
   ]
  },
  {
   "cell_type": "markdown",
   "id": "77b272fa-9f51-4ea3-a70f-da4055dedf3e",
   "metadata": {},
   "source": [
    "Accessing a non-existent key in a Counter objects returns 0 rather than producing an error as with a standard Dictionary."
   ]
  },
  {
   "cell_type": "code",
   "execution_count": 7,
   "id": "5266a401-eb0b-45d2-a1e4-d84bcb6d97ed",
   "metadata": {},
   "outputs": [
    {
     "name": "stdout",
     "output_type": "stream",
     "text": [
      "0\n"
     ]
    }
   ],
   "source": [
    "print(c['lizards'])"
   ]
  },
  {
   "cell_type": "markdown",
   "id": "8632136c-7dde-47df-a253-37867ca2a73a",
   "metadata": {},
   "source": [
    "## Elements method"
   ]
  },
  {
   "cell_type": "code",
   "execution_count": 9,
   "id": "5ba20040-89f2-4516-9aca-1f0fd11e5bb6",
   "metadata": {},
   "outputs": [
    {
     "name": "stdout",
     "output_type": "stream",
     "text": [
      "['dogs', 'dogs', 'cats', 'cats', 'cats', 'birds', 'birds', 'birds', 'birds', 'birds']\n"
     ]
    }
   ],
   "source": [
    "elements = list(c.elements())\n",
    "print(elements)"
   ]
  },
  {
   "cell_type": "markdown",
   "id": "57c18fe4-6c87-4bbe-aecc-b1fcc7142113",
   "metadata": {},
   "source": [
    "## Most Common method"
   ]
  },
  {
   "cell_type": "code",
   "execution_count": 15,
   "id": "f4a18d2a-f1b6-4385-ae92-a9a1f3bc2f7e",
   "metadata": {},
   "outputs": [
    {
     "name": "stdout",
     "output_type": "stream",
     "text": [
      "[('birds', 5), ('cats', 3), ('dogs', 2)]\n"
     ]
    }
   ],
   "source": [
    "most_common = c.most_common() # returns a list of tuples as (key, count)\n",
    "print(most_common)"
   ]
  },
  {
   "cell_type": "code",
   "execution_count": 16,
   "id": "fee6abb9-5304-4f68-bc16-ddc38d98dfa6",
   "metadata": {},
   "outputs": [
    {
     "name": "stdout",
     "output_type": "stream",
     "text": [
      "[('birds', 5), ('cats', 3)]\n"
     ]
    }
   ],
   "source": [
    "top_two = c.most_common(2) # returns the n-most common keys\n",
    "print(top_two)"
   ]
  },
  {
   "cell_type": "markdown",
   "id": "4da6caa3-5618-43d4-9c32-1f4a73ce1e4c",
   "metadata": {},
   "source": [
    "## Subtract method"
   ]
  },
  {
   "cell_type": "markdown",
   "id": "76523ac8-a861-4e96-948b-8b6b35b43134",
   "metadata": {},
   "source": [
    "Decrement the count of values in the counter object for each key in the list"
   ]
  },
  {
   "cell_type": "code",
   "execution_count": 23,
   "id": "d73a1f99-2282-4749-a967-042248ef261a",
   "metadata": {},
   "outputs": [
    {
     "name": "stdout",
     "output_type": "stream",
     "text": [
      "Counter({'a': 3, 'b': 1, 'c': -1, 'd': -3})\n"
     ]
    }
   ],
   "source": [
    "counter = Counter(a=4, b=2, c=0, d=-2)\n",
    "d = ['a', 'b', 'c', 'd']\n",
    "\n",
    "counter.subtract(d)\n",
    "print(counter)"
   ]
  },
  {
   "cell_type": "markdown",
   "id": "43728a5c-0fa1-4a38-b54e-441f71b73347",
   "metadata": {},
   "source": [
    "## Update method"
   ]
  },
  {
   "cell_type": "markdown",
   "id": "a0ba87ea-b19d-4057-b155-59bcdefb7408",
   "metadata": {},
   "source": [
    "Increment the count of values in the counter for each key in the list."
   ]
  },
  {
   "cell_type": "code",
   "execution_count": 24,
   "id": "a8d3cd98-183e-4ce9-974c-11528bc82343",
   "metadata": {},
   "outputs": [
    {
     "name": "stdout",
     "output_type": "stream",
     "text": [
      "Counter({'a': 4, 'b': 2, 'c': 0, 'd': -2})\n"
     ]
    }
   ],
   "source": [
    "counter.update(d)\n",
    "print(counter)"
   ]
  },
  {
   "cell_type": "markdown",
   "id": "f55696f9-e6e0-4fae-876c-f3a1eac05b4a",
   "metadata": {},
   "source": [
    "## Clear method"
   ]
  },
  {
   "cell_type": "markdown",
   "id": "5040aa5b-3230-4382-969c-35ab7af83b84",
   "metadata": {},
   "source": [
    "Remove all counts from counter object"
   ]
  },
  {
   "cell_type": "code",
   "execution_count": 25,
   "id": "589014a8-916f-4180-accf-9b549b4df7ff",
   "metadata": {},
   "outputs": [
    {
     "name": "stdout",
     "output_type": "stream",
     "text": [
      "Counter()\n"
     ]
    }
   ],
   "source": [
    "counter.clear()\n",
    "print(counter)"
   ]
  },
  {
   "cell_type": "markdown",
   "id": "43521a17-5acf-4ff0-91a3-c939506ffff3",
   "metadata": {},
   "source": [
    "## Add/Subtract Counter Objects"
   ]
  },
  {
   "cell_type": "code",
   "execution_count": 26,
   "id": "b1dbb56f-ee1e-4670-82d5-53b01bb7c2c6",
   "metadata": {},
   "outputs": [
    {
     "name": "stdout",
     "output_type": "stream",
     "text": [
      "Counter({'green': 5, 'yellow': 4, 'orange': 3, 'red': 2})\n",
      "Counter({'green': 3, 'yellow': 2, 'orange': 1})\n"
     ]
    }
   ],
   "source": [
    "counter1 = Counter(red=1, orange=2, yellow=3, green=4)\n",
    "counter2 = Counter(['red', 'orange', 'yellow', 'green'])\n",
    "\n",
    "print(counter1 + counter2)\n",
    "print(counter1 - counter2)"
   ]
  },
  {
   "cell_type": "markdown",
   "id": "f123c211-a304-40fd-b0fe-55155519cd92",
   "metadata": {},
   "source": [
    "## Intersection"
   ]
  },
  {
   "cell_type": "code",
   "execution_count": 30,
   "id": "8460608e-efb6-4fa1-972f-a98371e76cd1",
   "metadata": {},
   "outputs": [
    {
     "name": "stdout",
     "output_type": "stream",
     "text": [
      "Counter({'riley': 2, 'bob': 1})\n"
     ]
    }
   ],
   "source": [
    "teamA = Counter(bob=2, chris=1, jessica=4, riley=2)\n",
    "teamB = Counter(bob=1, jasmine=1, riley=2, xavier=2,)\n",
    "\n",
    "print(teamA & teamB) # return Counter object of intersecting key-value pair"
   ]
  },
  {
   "cell_type": "markdown",
   "id": "82ae07b1-c7b6-4bf1-8094-fcb0a4658747",
   "metadata": {},
   "source": [
    "## Union"
   ]
  },
  {
   "cell_type": "code",
   "execution_count": 32,
   "id": "aefd0ff2-1010-454a-bb19-9cac8c3f69c7",
   "metadata": {},
   "outputs": [
    {
     "name": "stdout",
     "output_type": "stream",
     "text": [
      "Counter({'jessica': 4, 'bob': 2, 'riley': 2, 'xavier': 2, 'chris': 1, 'jasmine': 1})\n"
     ]
    }
   ],
   "source": [
    "print(teamA | teamB) # return the max value for each of the matching keys in the counter objects"
   ]
  },
  {
   "cell_type": "code",
   "execution_count": null,
   "id": "632b14aa-025d-480d-99c1-d16c9b230ac5",
   "metadata": {},
   "outputs": [],
   "source": []
  }
 ],
 "metadata": {
  "kernelspec": {
   "display_name": "Python 3 (ipykernel)",
   "language": "python",
   "name": "python3"
  },
  "language_info": {
   "codemirror_mode": {
    "name": "ipython",
    "version": 3
   },
   "file_extension": ".py",
   "mimetype": "text/x-python",
   "name": "python",
   "nbconvert_exporter": "python",
   "pygments_lexer": "ipython3",
   "version": "3.12.8"
  }
 },
 "nbformat": 4,
 "nbformat_minor": 5
}
