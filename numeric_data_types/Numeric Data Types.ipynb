{
 "cells": [
  {
   "cell_type": "markdown",
   "id": "751d54eb-3c19-4301-aff0-715ec0b0868e",
   "metadata": {},
   "source": [
    "# Numeric Data Types"
   ]
  },
  {
   "cell_type": "markdown",
   "id": "ded71dff-fd49-4569-b0e8-f1074cb12562",
   "metadata": {},
   "source": [
    "## Int"
   ]
  },
  {
   "cell_type": "markdown",
   "id": "ff45eb02-8923-4bed-ac00-12550523f18c",
   "metadata": {},
   "source": [
    "Whole numbers. Great for substantial values"
   ]
  },
  {
   "cell_type": "code",
   "execution_count": 5,
   "id": "9690f15a-45af-4ca5-b4a3-7a6760531431",
   "metadata": {},
   "outputs": [
    {
     "data": {
      "text/plain": [
       "1234567890123456789"
      ]
     },
     "execution_count": 5,
     "metadata": {},
     "output_type": "execute_result"
    }
   ],
   "source": [
    "int(1234567890123456789)"
   ]
  },
  {
   "cell_type": "markdown",
   "id": "4c774000-7e66-416f-a07b-61eed3f41b37",
   "metadata": {},
   "source": [
    "## Float"
   ]
  },
  {
   "cell_type": "markdown",
   "id": "9b111493-a67d-40d0-a182-a7765dc06117",
   "metadata": {},
   "source": [
    "Fractional amounts (approximation). Great for scientific notation."
   ]
  },
  {
   "cell_type": "code",
   "execution_count": 9,
   "id": "da0f020c-a8f0-4430-9e4f-e4f71f76cee0",
   "metadata": {},
   "outputs": [
    {
     "data": {
      "text/plain": [
       "1.2345678901234568e+18"
      ]
     },
     "execution_count": 9,
     "metadata": {},
     "output_type": "execute_result"
    }
   ],
   "source": [
    "float(1234567890123456789)"
   ]
  },
  {
   "cell_type": "markdown",
   "id": "b7f701bb-60ad-4da3-97c1-8c76804d2089",
   "metadata": {},
   "source": [
    "Use f strings to print floats (up to 6 decimal places by default) in an easy to read fashion. "
   ]
  },
  {
   "cell_type": "code",
   "execution_count": 8,
   "id": "98652ad4-5a76-49c8-b715-61927bfbad7c",
   "metadata": {},
   "outputs": [
    {
     "name": "stdout",
     "output_type": "stream",
     "text": [
      "1e-06\n",
      "0.000001\n",
      "0.000000\n"
     ]
    }
   ],
   "source": [
    "print(0.000001)\n",
    "print(f'{0.000001:f}')\n",
    "print(f'{0.000000001:f}')"
   ]
  },
  {
   "cell_type": "markdown",
   "id": "a92636e2-c9ad-48e6-8374-ab4c4dd4702b",
   "metadata": {},
   "source": [
    "Provide a decimal parameter to print floats with the desired accuracy."
   ]
  },
  {
   "cell_type": "code",
   "execution_count": 10,
   "id": "9382d3c4-5aa3-4709-b1ec-1ae3a9d422ba",
   "metadata": {},
   "outputs": [
    {
     "name": "stdout",
     "output_type": "stream",
     "text": [
      "0.0000010\n"
     ]
    }
   ],
   "source": [
    "print(f'{0.000001:.7f}')"
   ]
  },
  {
   "cell_type": "markdown",
   "id": "9f041c09-419b-4322-b09f-ff444308672c",
   "metadata": {},
   "source": [
    "## Decimal"
   ]
  },
  {
   "cell_type": "markdown",
   "id": "983b9f91-9891-4b0a-8ed7-6552a07ec62c",
   "metadata": {},
   "source": [
    "Precision decimal values. Great for currency operations."
   ]
  },
  {
   "cell_type": "code",
   "execution_count": 4,
   "id": "c83189e5-2ad0-4a22-bf36-a621bc7df38c",
   "metadata": {},
   "outputs": [
    {
     "data": {
      "text/plain": [
       "Decimal('1234567890123456789')"
      ]
     },
     "execution_count": 4,
     "metadata": {},
     "output_type": "execute_result"
    }
   ],
   "source": [
    "from decimal import Decimal\n",
    "\n",
    "Decimal(1234567890123456789)"
   ]
  },
  {
   "cell_type": "markdown",
   "id": "d25f36d6-36f0-4635-9cce-2c7e782253a1",
   "metadata": {},
   "source": [
    "## Python division types"
   ]
  },
  {
   "cell_type": "code",
   "execution_count": 11,
   "id": "77ca6068-91e7-455b-8966-85b14d7eb378",
   "metadata": {},
   "outputs": [
    {
     "data": {
      "text/plain": [
       "3.5"
      ]
     },
     "execution_count": 11,
     "metadata": {},
     "output_type": "execute_result"
    }
   ],
   "source": [
    "7 / 2 # Float Division"
   ]
  },
  {
   "cell_type": "code",
   "execution_count": 12,
   "id": "8cba4f4a-683b-4ef9-8157-34fe90e57da0",
   "metadata": {},
   "outputs": [
    {
     "data": {
      "text/plain": [
       "3"
      ]
     },
     "execution_count": 12,
     "metadata": {},
     "output_type": "execute_result"
    }
   ],
   "source": [
    "7 // 2 # Floor Division"
   ]
  },
  {
   "cell_type": "code",
   "execution_count": null,
   "id": "3e7c73f9-5726-4cc6-813d-5989a4518553",
   "metadata": {},
   "outputs": [],
   "source": []
  }
 ],
 "metadata": {
  "kernelspec": {
   "display_name": "Python 3 (ipykernel)",
   "language": "python",
   "name": "python3"
  },
  "language_info": {
   "codemirror_mode": {
    "name": "ipython",
    "version": 3
   },
   "file_extension": ".py",
   "mimetype": "text/x-python",
   "name": "python",
   "nbconvert_exporter": "python",
   "pygments_lexer": "ipython3",
   "version": "3.12.8"
  }
 },
 "nbformat": 4,
 "nbformat_minor": 5
}
