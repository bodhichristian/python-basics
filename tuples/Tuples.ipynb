{
 "cells": [
  {
   "cell_type": "markdown",
   "id": "ce2f25b2-2ee1-489b-aaea-88d9714652cf",
   "metadata": {},
   "source": [
    "# Tuples"
   ]
  },
  {
   "cell_type": "markdown",
   "id": "5ade4442-e213-4dec-ae1a-371e8e37d687",
   "metadata": {},
   "source": [
    "Immutable collections of ordered data"
   ]
  },
  {
   "cell_type": "markdown",
   "id": "09b5a795-8028-4277-9382-885f6c764e4c",
   "metadata": {},
   "source": [
    "## Init"
   ]
  },
  {
   "cell_type": "code",
   "execution_count": 15,
   "id": "bb2b741c-7d27-4c85-b251-f0c60d3fd569",
   "metadata": {},
   "outputs": [
    {
     "name": "stdout",
     "output_type": "stream",
     "text": [
      "()\n",
      "('a',)\n",
      "(1, 2)\n"
     ]
    }
   ],
   "source": [
    "empty_tuple = ()\n",
    "one_value_tuple = ('a',) # comma is needed to identify as tuple and not a single element\n",
    "two_value_tuple = (1, 2)\n",
    "\n",
    "print(empty_tuple)\n",
    "print(one_value_tuple)\n",
    "print(two_value_tuple)"
   ]
  },
  {
   "cell_type": "markdown",
   "id": "9d3ae21b-36b8-43e8-890a-b6fabc097a8b",
   "metadata": {},
   "source": [
    "## Alternative Init"
   ]
  },
  {
   "cell_type": "code",
   "execution_count": 16,
   "id": "ce14ce2d-54b1-45fd-b8c1-9825f8d67f73",
   "metadata": {},
   "outputs": [
    {
     "name": "stdout",
     "output_type": "stream",
     "text": [
      "(1,)\n",
      "(1, 2)\n",
      "(1, 2, 3)\n"
     ]
    }
   ],
   "source": [
    "test1 = 1, \n",
    "test2 = 1, 2\n",
    "test3 = 1, 2, 3\n",
    "print(test1)\n",
    "print(test2)\n",
    "print(test3)"
   ]
  },
  {
   "cell_type": "markdown",
   "id": "745488fb-f304-408e-9a3a-584f0f4de2e8",
   "metadata": {},
   "source": [
    "## Memory implications"
   ]
  },
  {
   "cell_type": "markdown",
   "id": "93089d18-ac3f-4b44-8d29-7a54d542234c",
   "metadata": {},
   "source": [
    "Tuples are sequences that are more lightweight than lists. They are immutable, and come with less functionality taking up less space in memory."
   ]
  },
  {
   "cell_type": "code",
   "execution_count": 17,
   "id": "89de4237-ac87-48dc-882a-6a5bd1d72c4d",
   "metadata": {},
   "outputs": [
    {
     "data": {
      "text/plain": [
       "['__breakpointhook__',\n",
       " '__displayhook__',\n",
       " '__doc__',\n",
       " '__excepthook__',\n",
       " '__interactivehook__',\n",
       " '__loader__',\n",
       " '__name__',\n",
       " '__package__',\n",
       " '__spec__',\n",
       " '__stderr__',\n",
       " '__stdin__',\n",
       " '__stdout__',\n",
       " '__unraisablehook__',\n",
       " '_base_executable',\n",
       " '_clear_type_cache',\n",
       " '_current_exceptions',\n",
       " '_current_frames',\n",
       " '_debugmallocstats',\n",
       " '_framework',\n",
       " '_getframe',\n",
       " '_getframemodulename',\n",
       " '_git',\n",
       " '_home',\n",
       " '_setprofileallthreads',\n",
       " '_settraceallthreads',\n",
       " '_stdlib_dir',\n",
       " '_xoptions',\n",
       " 'abiflags',\n",
       " 'activate_stack_trampoline',\n",
       " 'addaudithook',\n",
       " 'api_version',\n",
       " 'argv',\n",
       " 'audit',\n",
       " 'base_exec_prefix',\n",
       " 'base_prefix',\n",
       " 'breakpointhook',\n",
       " 'builtin_module_names',\n",
       " 'byteorder',\n",
       " 'call_tracing',\n",
       " 'copyright',\n",
       " 'deactivate_stack_trampoline',\n",
       " 'displayhook',\n",
       " 'dont_write_bytecode',\n",
       " 'exc_info',\n",
       " 'excepthook',\n",
       " 'exception',\n",
       " 'exec_prefix',\n",
       " 'executable',\n",
       " 'exit',\n",
       " 'flags',\n",
       " 'float_info',\n",
       " 'float_repr_style',\n",
       " 'get_asyncgen_hooks',\n",
       " 'get_coroutine_origin_tracking_depth',\n",
       " 'get_int_max_str_digits',\n",
       " 'getallocatedblocks',\n",
       " 'getdefaultencoding',\n",
       " 'getdlopenflags',\n",
       " 'getfilesystemencodeerrors',\n",
       " 'getfilesystemencoding',\n",
       " 'getprofile',\n",
       " 'getrecursionlimit',\n",
       " 'getrefcount',\n",
       " 'getsizeof',\n",
       " 'getswitchinterval',\n",
       " 'gettrace',\n",
       " 'getunicodeinternedsize',\n",
       " 'hash_info',\n",
       " 'hexversion',\n",
       " 'implementation',\n",
       " 'int_info',\n",
       " 'intern',\n",
       " 'is_finalizing',\n",
       " 'is_stack_trampoline_active',\n",
       " 'last_traceback',\n",
       " 'last_type',\n",
       " 'last_value',\n",
       " 'maxsize',\n",
       " 'maxunicode',\n",
       " 'meta_path',\n",
       " 'modules',\n",
       " 'monitoring',\n",
       " 'orig_argv',\n",
       " 'path',\n",
       " 'path_hooks',\n",
       " 'path_importer_cache',\n",
       " 'platform',\n",
       " 'platlibdir',\n",
       " 'prefix',\n",
       " 'ps1',\n",
       " 'ps2',\n",
       " 'ps3',\n",
       " 'pycache_prefix',\n",
       " 'set_asyncgen_hooks',\n",
       " 'set_coroutine_origin_tracking_depth',\n",
       " 'set_int_max_str_digits',\n",
       " 'setdlopenflags',\n",
       " 'setprofile',\n",
       " 'setrecursionlimit',\n",
       " 'setswitchinterval',\n",
       " 'settrace',\n",
       " 'stderr',\n",
       " 'stdin',\n",
       " 'stdlib_module_names',\n",
       " 'stdout',\n",
       " 'thread_info',\n",
       " 'unraisablehook',\n",
       " 'version',\n",
       " 'version_info',\n",
       " 'warnoptions']"
      ]
     },
     "execution_count": 17,
     "metadata": {},
     "output_type": "execute_result"
    }
   ],
   "source": [
    "import sys\n",
    "\n",
    "list_ex = [1, 2, 3, 'a', 'b', 'c', True, False, 0.5555]\n",
    "tuple_ex = (1, 2, 3, 'a', 'b', 'c', True, False, 0.5555)\n",
    "\n",
    "dir(sys)\n"
   ]
  },
  {
   "cell_type": "code",
   "execution_count": 18,
   "id": "52d5d59e-7ef7-4323-9e10-0f31a77a52f3",
   "metadata": {},
   "outputs": [
    {
     "name": "stdout",
     "output_type": "stream",
     "text": [
      "List size:  432\n",
      "Tuple size:  432\n"
     ]
    }
   ],
   "source": [
    "print('List size: ', sys.getsizeof(list))\n",
    "print('Tuple size: ', sys.getsizeof(tuple))"
   ]
  },
  {
   "cell_type": "markdown",
   "id": "1932f606-d928-4938-bda2-62394b393ca5",
   "metadata": {},
   "source": [
    "## Timeit"
   ]
  },
  {
   "cell_type": "code",
   "execution_count": 13,
   "id": "4634642e-f3a6-4a12-96d9-0b78b895b6bf",
   "metadata": {},
   "outputs": [
    {
     "name": "stdout",
     "output_type": "stream",
     "text": [
      "List time:  0.059876417042687535\n",
      "Tuple time:  0.005580874974839389\n"
     ]
    }
   ],
   "source": [
    "import timeit\n",
    "\n",
    "list_test = timeit.timeit(stmt= '[1, 2, 3, 4, 5]', number=1000000)\n",
    "tuple_test = timeit.timeit(stmt= '(1, 2, 3, 4, 5)', number=1000000)\n",
    "\n",
    "print('List time: ', list_test)\n",
    "print('Tuple time: ', tuple_test)"
   ]
  },
  {
   "cell_type": "markdown",
   "id": "83d0fb04-6295-40cc-96b1-bd6b0866e9ad",
   "metadata": {},
   "source": [
    "## Access values via index"
   ]
  },
  {
   "cell_type": "code",
   "execution_count": 20,
   "id": "57dc168a-1d29-48bb-8716-0e16fcc39311",
   "metadata": {},
   "outputs": [
    {
     "name": "stdout",
     "output_type": "stream",
     "text": [
      "34 USA True\n"
     ]
    }
   ],
   "source": [
    "sequence = (34, 'USA', True)\n",
    "print(sequence[0], sequence[1], sequence[2])"
   ]
  },
  {
   "cell_type": "markdown",
   "id": "b03b5fb0-31a9-4d68-8ba6-cb2a4a21928b",
   "metadata": {},
   "source": [
    "## Extract Tuple elements into new variables"
   ]
  },
  {
   "cell_type": "code",
   "execution_count": 23,
   "id": "6917bc9b-571b-488a-bea7-177e9ec70240",
   "metadata": {},
   "outputs": [
    {
     "name": "stdout",
     "output_type": "stream",
     "text": [
      "34\n",
      "USA\n",
      "True\n"
     ]
    }
   ],
   "source": [
    "age, country, knows_python = sequence\n",
    "print(age)\n",
    "print(country)\n",
    "print(knows_python)"
   ]
  },
  {
   "cell_type": "markdown",
   "id": "b1c505c1-d871-4273-a0f9-5c6f66d00307",
   "metadata": {},
   "source": [
    "## Create a tuple with zip"
   ]
  },
  {
   "cell_type": "code",
   "execution_count": 5,
   "id": "aa9a7448-739a-4fb8-8bde-86f518a02d5a",
   "metadata": {},
   "outputs": [
    {
     "name": "stdout",
     "output_type": "stream",
     "text": [
      "[(0, 1), (2, 3), (4, 5), (6, 7), (8, 9)]\n"
     ]
    }
   ],
   "source": [
    "list_a = [0, 2, 4, 6, 8]\n",
    "list_b = [1, 3, 5, 7, 9]\n",
    "pairs = list(zip(list_a, list_b))\n",
    "print(pairs)"
   ]
  },
  {
   "cell_type": "markdown",
   "id": "bdf2c394-a9de-4338-9218-c4baac22cfcc",
   "metadata": {},
   "source": [
    "## Tuple unpacking (expansion)"
   ]
  },
  {
   "cell_type": "code",
   "execution_count": 6,
   "id": "17297922-201a-42ec-9ee4-1ba642697311",
   "metadata": {},
   "outputs": [
    {
     "name": "stdout",
     "output_type": "stream",
     "text": [
      "0\n",
      "1\n"
     ]
    }
   ],
   "source": [
    "first_element, second_element = pairs[0]\n",
    "print(first_element)\n",
    "print(second_element)"
   ]
  },
  {
   "cell_type": "code",
   "execution_count": 7,
   "id": "f17a7e25-881d-4286-8589-deec9a1c2ca5",
   "metadata": {},
   "outputs": [
    {
     "name": "stdout",
     "output_type": "stream",
     "text": [
      "0 1\n",
      "2 3\n",
      "4 5\n",
      "6 7\n",
      "8 9\n"
     ]
    }
   ],
   "source": [
    "for x, y in pairs:\n",
    "    print(x, y)"
   ]
  },
  {
   "cell_type": "markdown",
   "id": "2e7edcff-29b1-430b-bdb1-438ecc5c391b",
   "metadata": {},
   "source": [
    "## Enumerating Positions"
   ]
  },
  {
   "cell_type": "code",
   "execution_count": 10,
   "id": "dee7b4b8-6888-4ee2-937d-c8a7f3c16ec9",
   "metadata": {},
   "outputs": [
    {
     "name": "stdout",
     "output_type": "stream",
     "text": [
      "0 :  USA\n",
      "1 :  China\n",
      "2 :  India\n",
      "3 :  Great Britain\n"
     ]
    }
   ],
   "source": [
    "countries = ['USA', 'China', 'India', 'Great Britain']\n",
    "for index, item in enumerate(countries):\n",
    "    print(index, ': ', item)"
   ]
  },
  {
   "cell_type": "code",
   "execution_count": null,
   "id": "95b35dd6-6f54-4933-93ae-0a459b74f420",
   "metadata": {},
   "outputs": [],
   "source": []
  },
  {
   "cell_type": "code",
   "execution_count": null,
   "id": "4e70b51f-c9a7-40bc-ba5d-497689f97be2",
   "metadata": {},
   "outputs": [],
   "source": []
  }
 ],
 "metadata": {
  "kernelspec": {
   "display_name": "Python 3 (ipykernel)",
   "language": "python",
   "name": "python3"
  },
  "language_info": {
   "codemirror_mode": {
    "name": "ipython",
    "version": 3
   },
   "file_extension": ".py",
   "mimetype": "text/x-python",
   "name": "python",
   "nbconvert_exporter": "python",
   "pygments_lexer": "ipython3",
   "version": "3.12.8"
  }
 },
 "nbformat": 4,
 "nbformat_minor": 5
}
