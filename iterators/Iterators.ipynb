{
 "cells": [
  {
   "cell_type": "markdown",
   "id": "060fa044-3438-4dd1-b714-559309fcebf8",
   "metadata": {},
   "source": [
    "# Iterators"
   ]
  },
  {
   "cell_type": "markdown",
   "id": "42cec4b9-a1bf-4998-bdc7-dd231a47dc2d",
   "metadata": {},
   "source": [
    "Python includes abstract base classes such as container.__iter__() and iterable.__next__(), useful for programmatically implementing an iteration."
   ]
  },
  {
   "cell_type": "code",
   "execution_count": 13,
   "id": "dd67b298-98a8-4bac-b3d9-d4efcc4aac18",
   "metadata": {},
   "outputs": [
    {
     "data": {
      "text/plain": [
       "tuple_iterator"
      ]
     },
     "execution_count": 13,
     "metadata": {},
     "output_type": "execute_result"
    }
   ],
   "source": [
    "usernames = ('Rainer', 'Alfons', 'Flatsheep')\n",
    "looper1 = usernames.__iter__()\n",
    "type(looper1)"
   ]
  },
  {
   "cell_type": "code",
   "execution_count": 3,
   "id": "09f05088-04e8-49fd-a666-12f2e321e932",
   "metadata": {},
   "outputs": [
    {
     "data": {
      "text/plain": [
       "'Rainer'"
      ]
     },
     "execution_count": 3,
     "metadata": {},
     "output_type": "execute_result"
    }
   ],
   "source": [
    "looper1.__next__()"
   ]
  },
  {
   "cell_type": "code",
   "execution_count": 4,
   "id": "152262ac-f13a-4d8e-8220-f91d9e549f96",
   "metadata": {},
   "outputs": [
    {
     "data": {
      "text/plain": [
       "'Alfons'"
      ]
     },
     "execution_count": 4,
     "metadata": {},
     "output_type": "execute_result"
    }
   ],
   "source": [
    "looper1.__next__()"
   ]
  },
  {
   "cell_type": "code",
   "execution_count": 5,
   "id": "958d6e64-0367-4709-9fe7-7ca2e6179f2a",
   "metadata": {},
   "outputs": [
    {
     "data": {
      "text/plain": [
       "'Flatsheep'"
      ]
     },
     "execution_count": 5,
     "metadata": {},
     "output_type": "execute_result"
    }
   ],
   "source": [
    "looper1.__next__()"
   ]
  },
  {
   "cell_type": "code",
   "execution_count": 6,
   "id": "21425526-8915-49c3-8501-7a6f5a479e12",
   "metadata": {},
   "outputs": [
    {
     "ename": "StopIteration",
     "evalue": "",
     "output_type": "error",
     "traceback": [
      "\u001b[0;31m---------------------------------------------------------------------------\u001b[0m",
      "\u001b[0;31mStopIteration\u001b[0m                             Traceback (most recent call last)",
      "Cell \u001b[0;32mIn[6], line 1\u001b[0m\n\u001b[0;32m----> 1\u001b[0m \u001b[43mlooper1\u001b[49m\u001b[38;5;241;43m.\u001b[39;49m\u001b[38;5;21;43m__next__\u001b[39;49m\u001b[43m(\u001b[49m\u001b[43m)\u001b[49m\n",
      "\u001b[0;31mStopIteration\u001b[0m: "
     ]
    }
   ],
   "source": [
    "looper1.__next__()"
   ]
  },
  {
   "cell_type": "markdown",
   "id": "45554a73-90d1-4a96-9ae5-aeb7cb840c16",
   "metadata": {},
   "source": [
    "The same result may be achieved by accessing the iter and next functions directly."
   ]
  },
  {
   "cell_type": "code",
   "execution_count": 9,
   "id": "5eedef27-6c3b-449b-ab00-62db74a2e4b0",
   "metadata": {},
   "outputs": [
    {
     "data": {
      "text/plain": [
       "'Rainer'"
      ]
     },
     "execution_count": 9,
     "metadata": {},
     "output_type": "execute_result"
    }
   ],
   "source": [
    "looper2 = iter(usernames)\n",
    "next(looper2)"
   ]
  },
  {
   "cell_type": "code",
   "execution_count": 10,
   "id": "cb9eed12-3ada-4f30-8da6-c3388b711a7b",
   "metadata": {},
   "outputs": [
    {
     "data": {
      "text/plain": [
       "'Alfons'"
      ]
     },
     "execution_count": 10,
     "metadata": {},
     "output_type": "execute_result"
    }
   ],
   "source": [
    "next(looper2)"
   ]
  },
  {
   "cell_type": "markdown",
   "id": "9b73f1e5-00bd-4e33-bf13-0398e2961236",
   "metadata": {},
   "source": [
    "## Manual for loop"
   ]
  },
  {
   "cell_type": "code",
   "execution_count": 15,
   "id": "45dc9b20-cb30-4dc6-8a16-468a017159e0",
   "metadata": {},
   "outputs": [
    {
     "name": "stdout",
     "output_type": "stream",
     "text": [
      "Rainer\n",
      "Alfons\n",
      "Flatsheep\n"
     ]
    }
   ],
   "source": [
    "looper = iter(usernames)\n",
    "while True:\n",
    "    try:\n",
    "        user = next(looper)\n",
    "        print(user)\n",
    "    except StopIteration:\n",
    "        break"
   ]
  },
  {
   "cell_type": "markdown",
   "id": "204267cf-34b6-4a9c-819c-ad28c758097f",
   "metadata": {},
   "source": [
    "## Examples"
   ]
  },
  {
   "cell_type": "markdown",
   "id": "044832c4-8850-4e41-a77d-5b7a192c2c38",
   "metadata": {},
   "source": [
    "The Portfolio class below implements an iter method that returns an iterator over its holdings property. This allows the caller to access the iterator directly, without having to specify a call to holdings."
   ]
  },
  {
   "cell_type": "code",
   "execution_count": 18,
   "id": "257e263a-6be6-44ba-8539-b81875864401",
   "metadata": {},
   "outputs": [
    {
     "name": "stdout",
     "output_type": "stream",
     "text": [
      "ALPHA 15\n",
      "BETA -2\n",
      "GAMMA 20\n"
     ]
    }
   ],
   "source": [
    "class Portfolio:\n",
    "    def __init__(self):\n",
    "        self.holdings = {} # key = ticker, value = share quantity\n",
    "\n",
    "    def transact(self, ticker, shares):\n",
    "        self.holdings[ticker] = self.holdings.get(ticker, 0) + shares\n",
    "\n",
    "    def __iter__(self):\n",
    "        return iter(self.holdings.items())\n",
    "\n",
    "p = Portfolio()\n",
    "\n",
    "p.transact('ALPHA', 15)\n",
    "p.transact('BETA', -2)\n",
    "p.transact('GAMMA', 20)\n",
    "\n",
    "for ticker, shares in p:\n",
    "    print(ticker, shares)"
   ]
  },
  {
   "cell_type": "markdown",
   "id": "e8b83f3a-a432-464b-a95c-3cc78d44f875",
   "metadata": {},
   "source": [
    "### itertools"
   ]
  },
  {
   "cell_type": "code",
   "execution_count": 23,
   "id": "3836f1d8-fadf-4e46-be5a-0f3847dcfdf4",
   "metadata": {},
   "outputs": [
    {
     "name": "stdout",
     "output_type": "stream",
     "text": [
      "['2', '3', '4', '5', '6', '7', '8', '9', '10', 'J', 'Q', 'K', 'A']\n",
      "1 ('2', 'Hearts')\n",
      "2 ('2', 'Clubs')\n",
      "3 ('2', 'Diamonds')\n",
      "4 ('2', 'Spades')\n",
      "5 ('3', 'Hearts')\n",
      "6 ('3', 'Clubs')\n",
      "7 ('3', 'Diamonds')\n",
      "8 ('3', 'Spades')\n",
      "9 ('4', 'Hearts')\n",
      "10 ('4', 'Clubs')\n",
      "11 ('4', 'Diamonds')\n",
      "12 ('4', 'Spades')\n",
      "13 ('5', 'Hearts')\n",
      "14 ('5', 'Clubs')\n",
      "15 ('5', 'Diamonds')\n",
      "16 ('5', 'Spades')\n",
      "17 ('6', 'Hearts')\n",
      "18 ('6', 'Clubs')\n",
      "19 ('6', 'Diamonds')\n",
      "20 ('6', 'Spades')\n",
      "21 ('7', 'Hearts')\n",
      "22 ('7', 'Clubs')\n",
      "23 ('7', 'Diamonds')\n",
      "24 ('7', 'Spades')\n",
      "25 ('8', 'Hearts')\n",
      "26 ('8', 'Clubs')\n",
      "27 ('8', 'Diamonds')\n",
      "28 ('8', 'Spades')\n",
      "29 ('9', 'Hearts')\n",
      "30 ('9', 'Clubs')\n",
      "31 ('9', 'Diamonds')\n",
      "32 ('9', 'Spades')\n",
      "33 ('10', 'Hearts')\n",
      "34 ('10', 'Clubs')\n",
      "35 ('10', 'Diamonds')\n",
      "36 ('10', 'Spades')\n",
      "37 ('J', 'Hearts')\n",
      "38 ('J', 'Clubs')\n",
      "39 ('J', 'Diamonds')\n",
      "40 ('J', 'Spades')\n",
      "41 ('Q', 'Hearts')\n",
      "42 ('Q', 'Clubs')\n",
      "43 ('Q', 'Diamonds')\n",
      "44 ('Q', 'Spades')\n",
      "45 ('K', 'Hearts')\n",
      "46 ('K', 'Clubs')\n",
      "47 ('K', 'Diamonds')\n",
      "48 ('K', 'Spades')\n",
      "49 ('A', 'Hearts')\n",
      "50 ('A', 'Clubs')\n",
      "51 ('A', 'Diamonds')\n",
      "52 ('A', 'Spades')\n"
     ]
    }
   ],
   "source": [
    "import itertools\n",
    "\n",
    "ranks = list(range(2, 11)) + ['J', 'Q', 'K', 'A']\n",
    "ranks = [str(rank) for rank in ranks]\n",
    "print(ranks)\n",
    "\n",
    "suits = ['Hearts', 'Clubs', 'Diamonds', 'Spades']\n",
    "deck = [card for card in itertools.product(ranks, suits)]\n",
    "\n",
    "for (index, card) in enumerate(deck):\n",
    "    print(index+1, card)"
   ]
  },
  {
   "cell_type": "code",
   "execution_count": 25,
   "id": "a338a659-cc41-4f70-9d6f-f34facb35de3",
   "metadata": {},
   "outputs": [
    {
     "name": "stdout",
     "output_type": "stream",
     "text": [
      "The number of potential 5-card poker hands is 2598960\n"
     ]
    }
   ],
   "source": [
    "possible_hands = [hand for hand in itertools.combinations(deck, 5)]\n",
    "\n",
    "print(f'The number of potential 5-card poker hands is {len(possible_hands)}')"
   ]
  },
  {
   "cell_type": "markdown",
   "id": "face2f2d-1724-46c3-8743-82c5325e4dcd",
   "metadata": {},
   "source": [
    "## Splat method"
   ]
  },
  {
   "cell_type": "markdown",
   "id": "f44fcaff-9d70-42ef-9666-08ca34b16c3c",
   "metadata": {},
   "source": [
    "Userful for accessing all values from an iterator object."
   ]
  },
  {
   "cell_type": "code",
   "execution_count": 1,
   "id": "1ed03029-5cda-4d9b-9f7d-5f009beff5f8",
   "metadata": {},
   "outputs": [
    {
     "name": "stdout",
     "output_type": "stream",
     "text": [
      "C h r i s t i a n\n"
     ]
    }
   ],
   "source": [
    "i = iter('Christian')\n",
    "print(*i)"
   ]
  },
  {
   "cell_type": "markdown",
   "id": "cabb5e05-8382-4d81-bc01-7d91cc6cda74",
   "metadata": {},
   "source": [
    "Tread carefully. Since all values have now been iterated over, there are no remaining iterations on the iterator object."
   ]
  },
  {
   "cell_type": "code",
   "execution_count": 3,
   "id": "a2f17702-a111-4dcd-bb63-883cc09746a9",
   "metadata": {},
   "outputs": [
    {
     "name": "stdout",
     "output_type": "stream",
     "text": [
      "\n"
     ]
    }
   ],
   "source": [
    "print(*i) # prints nothing if previous cell has run"
   ]
  },
  {
   "cell_type": "code",
   "execution_count": 4,
   "id": "5a035fee-148c-4a44-be08-0164e9d0b006",
   "metadata": {},
   "outputs": [
    {
     "data": {
      "text/plain": [
       "'This is the first line of the file.\\n'"
      ]
     },
     "execution_count": 4,
     "metadata": {},
     "output_type": "execute_result"
    }
   ],
   "source": [
    "f = open('test_file.txt')\n",
    "next(f)"
   ]
  },
  {
   "cell_type": "code",
   "execution_count": 5,
   "id": "a6ee6182-01a4-4252-8a71-0d6184be95bf",
   "metadata": {},
   "outputs": [
    {
     "data": {
      "text/plain": [
       "'This line is second.\\n'"
      ]
     },
     "execution_count": 5,
     "metadata": {},
     "output_type": "execute_result"
    }
   ],
   "source": [
    "next(f)"
   ]
  },
  {
   "cell_type": "code",
   "execution_count": 6,
   "id": "82301902-5c58-475b-898c-91c5a1cb8174",
   "metadata": {},
   "outputs": [
    {
     "data": {
      "text/plain": [
       "'This is the third, and final line of the file.\\n'"
      ]
     },
     "execution_count": 6,
     "metadata": {},
     "output_type": "execute_result"
    }
   ],
   "source": [
    "next(f)"
   ]
  },
  {
   "cell_type": "code",
   "execution_count": null,
   "id": "eb879fe9-9f15-4ff8-91a9-8e85af529dc4",
   "metadata": {},
   "outputs": [],
   "source": []
  }
 ],
 "metadata": {
  "kernelspec": {
   "display_name": "Python 3 (ipykernel)",
   "language": "python",
   "name": "python3"
  },
  "language_info": {
   "codemirror_mode": {
    "name": "ipython",
    "version": 3
   },
   "file_extension": ".py",
   "mimetype": "text/x-python",
   "name": "python",
   "nbconvert_exporter": "python",
   "pygments_lexer": "ipython3",
   "version": "3.12.8"
  }
 },
 "nbformat": 4,
 "nbformat_minor": 5
}
