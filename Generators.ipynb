{
 "cells": [
  {
   "cell_type": "markdown",
   "id": "b6d17aef-3e94-48c2-b0b1-dc28daf8a41d",
   "metadata": {},
   "source": [
    "# Generators"
   ]
  },
  {
   "cell_type": "markdown",
   "id": "5da14ae1-7d8a-415d-b9e8-8dea0ad2064f",
   "metadata": {},
   "source": [
    "Generators act as lazy iterators. Rather than storing the entire iterable in memory, generators yield the next element in the sequence, and store state in memory. In this way, only the next iteration needing evaluation is generated in memory as needed.\n"
   ]
  },
  {
   "cell_type": "code",
   "execution_count": 1,
   "id": "6cc18232-32b7-4c4c-b21a-8485614804b2",
   "metadata": {},
   "outputs": [],
   "source": [
    "def num_sequence(n):\n",
    "    \"\"\"Generate values from 0 to n.\"\"\"\n",
    "    i = 0\n",
    "    while i < n:\n",
    "        yield i\n",
    "        i+= 1 # incremented value is available on the next iteration"
   ]
  },
  {
   "cell_type": "code",
   "execution_count": 2,
   "id": "63b536c1-059b-4e9e-bb9c-d93da4a83469",
   "metadata": {},
   "outputs": [
    {
     "name": "stdout",
     "output_type": "stream",
     "text": [
      "0\n",
      "1\n",
      "2\n",
      "3\n",
      "4\n",
      "5\n",
      "6\n",
      "7\n",
      "8\n",
      "9\n"
     ]
    }
   ],
   "source": [
    "result = num_sequence(10)\n",
    "\n",
    "for i in result:\n",
    "    print(i)"
   ]
  },
  {
   "cell_type": "code",
   "execution_count": null,
   "id": "7c5089b9-f29b-447b-9225-f65e5dafd453",
   "metadata": {},
   "outputs": [],
   "source": []
  }
 ],
 "metadata": {
  "kernelspec": {
   "display_name": "Python 3 (ipykernel)",
   "language": "python",
   "name": "python3"
  },
  "language_info": {
   "codemirror_mode": {
    "name": "ipython",
    "version": 3
   },
   "file_extension": ".py",
   "mimetype": "text/x-python",
   "name": "python",
   "nbconvert_exporter": "python",
   "pygments_lexer": "ipython3",
   "version": "3.12.8"
  }
 },
 "nbformat": 4,
 "nbformat_minor": 5
}
