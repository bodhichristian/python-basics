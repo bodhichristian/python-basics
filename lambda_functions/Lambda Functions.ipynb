{
 "cells": [
  {
   "cell_type": "markdown",
   "id": "e0cb15c2-66f3-4d46-88a3-3cccf41536ce",
   "metadata": {},
   "source": [
    "# Lambda Functions"
   ]
  },
  {
   "cell_type": "markdown",
   "id": "1cc2e9ed-821d-4fb5-92bd-639e221fc04a",
   "metadata": {},
   "source": [
    "Lambda functions are nameless, anonymous functions"
   ]
  },
  {
   "cell_type": "code",
   "execution_count": 1,
   "id": "9089f561-c311-4bc4-9a7a-b34f93871bf5",
   "metadata": {},
   "outputs": [
    {
     "data": {
      "text/plain": [
       "<function __main__.<lambda>(x)>"
      ]
     },
     "execution_count": 1,
     "metadata": {},
     "output_type": "execute_result"
    }
   ],
   "source": [
    "lambda x: 3*x + 1"
   ]
  },
  {
   "cell_type": "code",
   "execution_count": 2,
   "id": "d515646b-2b0b-49ef-973a-8a5de4bc52f7",
   "metadata": {},
   "outputs": [
    {
     "data": {
      "text/plain": [
       "7"
      ]
     },
     "execution_count": 2,
     "metadata": {},
     "output_type": "execute_result"
    }
   ],
   "source": [
    "g = lambda x: 3*x + 1\n",
    "g(2)"
   ]
  },
  {
   "cell_type": "code",
   "execution_count": 3,
   "id": "9895ae45-c571-4386-9e6e-d88a6e95c74e",
   "metadata": {},
   "outputs": [
    {
     "data": {
      "text/plain": [
       "'Leonhard Euler'"
      ]
     },
     "execution_count": 3,
     "metadata": {},
     "output_type": "execute_result"
    }
   ],
   "source": [
    "full_name = lambda fn, ln: fn.strip().title() + \" \" + ln.strip().title()\n",
    "\n",
    "full_name('    leonhard', ' EULER   ')"
   ]
  },
  {
   "cell_type": "code",
   "execution_count": 4,
   "id": "3816b664-bb1e-44d3-b296-15d9d8d319be",
   "metadata": {},
   "outputs": [
    {
     "data": {
      "text/plain": [
       "['Jane Austen',\n",
       " 'Agatha Christie',\n",
       " 'Fyodor Dostoevsky',\n",
       " 'Toni Morrison',\n",
       " 'Haruki Murakami',\n",
       " 'Gabriel García Márquez',\n",
       " 'George Orwell',\n",
       " 'J.R.R. Tolkien',\n",
       " 'Mark Twain',\n",
       " 'Virginia Woolf']"
      ]
     },
     "execution_count": 4,
     "metadata": {},
     "output_type": "execute_result"
    }
   ],
   "source": [
    "authors = [\n",
    "    \"Jane Austen\",\n",
    "    \"George Orwell\",\n",
    "    \"Mark Twain\",\n",
    "    \"Virginia Woolf\",\n",
    "    \"J.R.R. Tolkien\",\n",
    "    \"Haruki Murakami\",\n",
    "    \"Gabriel García Márquez\",\n",
    "    \"Toni Morrison\",\n",
    "    \"Fyodor Dostoevsky\",\n",
    "    \"Agatha Christie\"\n",
    "]\n",
    "\n",
    "authors.sort(key=lambda name: name.split(' ')[-1].lower())\n",
    "authors"
   ]
  },
  {
   "cell_type": "code",
   "execution_count": 5,
   "id": "27fff9e8-577e-451a-8cc1-e8733b241e6e",
   "metadata": {},
   "outputs": [
    {
     "name": "stdout",
     "output_type": "stream",
     "text": [
      "Help on method_descriptor:\n",
      "\n",
      "split(self, /, sep=None, maxsplit=-1) unbound builtins.str method\n",
      "    Return a list of the substrings in the string, using sep as the separator string.\n",
      "\n",
      "      sep\n",
      "        The separator used to split the string.\n",
      "\n",
      "        When set to None (the default value), will split on any whitespace\n",
      "        character (including \\n \\r \\t \\f and spaces) and will discard\n",
      "        empty strings from the result.\n",
      "      maxsplit\n",
      "        Maximum number of splits.\n",
      "        -1 (the default value) means no limit.\n",
      "\n",
      "    Splitting starts at the front of the string and works to the end.\n",
      "\n",
      "    Note, str.split() is mainly useful for data that has been intentionally\n",
      "    delimited.  With natural text that includes punctuation, consider using\n",
      "    the regular expression module.\n",
      "\n"
     ]
    }
   ],
   "source": [
    "help(str.split)"
   ]
  },
  {
   "cell_type": "code",
   "execution_count": 1,
   "id": "5251684c-ca4d-4c43-a8e5-0e47fe118f72",
   "metadata": {},
   "outputs": [],
   "source": [
    "def build_quadratic_function(a, b, c):\n",
    "    \"\"\"Returns the function f(x) = ax^2 + bx + c\"\"\"\n",
    "\n",
    "    return lambda x: a*x**2 + b*x + c\n",
    "\n",
    "f = build_quadratic_function(2, 3, -5)"
   ]
  },
  {
   "cell_type": "code",
   "execution_count": 3,
   "id": "fc58f9ae-2d3a-4f13-8507-8115302b8c67",
   "metadata": {},
   "outputs": [
    {
     "name": "stdout",
     "output_type": "stream",
     "text": [
      "-5\n",
      "0\n",
      "60\n"
     ]
    }
   ],
   "source": [
    "print(f(0))\n",
    "print(f(1))\n",
    "print(f(5))"
   ]
  },
  {
   "cell_type": "markdown",
   "id": "b4159e83-ad95-4916-8d56-26dada576804",
   "metadata": {},
   "source": [
    "### Alternative syntax"
   ]
  },
  {
   "cell_type": "code",
   "execution_count": 5,
   "id": "b623bb19-8bc3-49b1-ad30-830f27bce379",
   "metadata": {},
   "outputs": [
    {
     "name": "stdout",
     "output_type": "stream",
     "text": [
      "13\n"
     ]
    }
   ],
   "source": [
    "result = build_quadratic_function(3, 0, 1)(2) # where a, b, c = (3, 0, 1) and x = 2\n",
    "print(result)"
   ]
  },
  {
   "cell_type": "code",
   "execution_count": null,
   "id": "d5c713df-4f08-4bef-97e9-5dc6182df7b0",
   "metadata": {},
   "outputs": [],
   "source": []
  }
 ],
 "metadata": {
  "kernelspec": {
   "display_name": "Python 3 (ipykernel)",
   "language": "python",
   "name": "python3"
  },
  "language_info": {
   "codemirror_mode": {
    "name": "ipython",
    "version": 3
   },
   "file_extension": ".py",
   "mimetype": "text/x-python",
   "name": "python",
   "nbconvert_exporter": "python",
   "pygments_lexer": "ipython3",
   "version": "3.12.8"
  }
 },
 "nbformat": 4,
 "nbformat_minor": 5
}
