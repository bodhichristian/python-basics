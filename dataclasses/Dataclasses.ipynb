{
 "cells": [
  {
   "cell_type": "markdown",
   "id": "3ec7d660-a3b1-4467-8800-621ddb317906",
   "metadata": {},
   "source": [
    "# Dataclass"
   ]
  },
  {
   "cell_type": "markdown",
   "id": "52601fb5-c539-4a52-b318-a33fb400c2a2",
   "metadata": {},
   "source": [
    "- Supports default values\n",
    "- Custom representations for print and log outputs\n",
    "- Functions to easily convert to tuple or dict\n",
    "- Create custom properties\n",
    "- Frozen instances allow for immutability\n",
    "- Auto-generated initializer"
   ]
  },
  {
   "cell_type": "code",
   "execution_count": 8,
   "id": "f6d40ba1-8743-4792-94f5-29c28158669b",
   "metadata": {},
   "outputs": [
    {
     "name": "stdout",
     "output_type": "stream",
     "text": [
      "chocolate chip\n",
      "13\n"
     ]
    }
   ],
   "source": [
    "from dataclasses import dataclass\n",
    "\n",
    "@dataclass # decorator\n",
    "class Cookie: \n",
    "    name: str\n",
    "    quantity: int = 0 # option to include default value\n",
    "\n",
    "chocolate_chip = Cookie('chocolate chip', 13)\n",
    "print(chocolate_chip.name)\n",
    "print(chocolate_chip.quantity)"
   ]
  },
  {
   "cell_type": "markdown",
   "id": "b4ce65d9-5cc2-4ae6-9c3c-c395baef029a",
   "metadata": {},
   "source": [
    "## Dictionary / Tuple conversion"
   ]
  },
  {
   "cell_type": "code",
   "execution_count": 11,
   "id": "1ba81824-e908-4f8e-9206-3bba7fa984c1",
   "metadata": {},
   "outputs": [
    {
     "name": "stdout",
     "output_type": "stream",
     "text": [
      "Dictionary:  {'name': 'chocolate chip', 'quantity': 13}\n",
      "Tuple:  ('chocolate chip', 13)\n"
     ]
    }
   ],
   "source": [
    "from dataclasses import asdict, astuple\n",
    "\n",
    "d = asdict(chocolate_chip)\n",
    "t = astuple(chocolate_chip)\n",
    "\n",
    "print('Dictionary: ', d)\n",
    "print('Tuple: ', t)"
   ]
  },
  {
   "cell_type": "markdown",
   "id": "8c5be9f1-02ce-4c72-bc48-95b1bd15cae8",
   "metadata": {},
   "source": [
    "## Custom properties"
   ]
  },
  {
   "cell_type": "code",
   "execution_count": 16,
   "id": "41c2f322-e85f-49fa-beef-aed0cff018b0",
   "metadata": {},
   "outputs": [],
   "source": [
    "@dataclass\n",
    "class Person:\n",
    "    name: str\n",
    "    age: int\n",
    "    \n",
    "    @property # decorator\n",
    "    def age_in_dog_years(self):\n",
    "        return self.age * 7"
   ]
  },
  {
   "cell_type": "code",
   "execution_count": 17,
   "id": "4e87621d-d859-45cc-aa0b-ce2b8d5e563d",
   "metadata": {},
   "outputs": [
    {
     "name": "stdout",
     "output_type": "stream",
     "text": [
      "238\n"
     ]
    }
   ],
   "source": [
    "christian = Person(name='Christian', age=34)\n",
    "print(christian.age_in_dog_years)"
   ]
  },
  {
   "cell_type": "markdown",
   "id": "ff0d5b06-9d8d-44ed-97db-28436ad7140b",
   "metadata": {},
   "source": [
    "## Frozen instances"
   ]
  },
  {
   "cell_type": "code",
   "execution_count": 19,
   "id": "4e1921ea-d3bd-442e-991f-4bb6fd6891be",
   "metadata": {},
   "outputs": [
    {
     "ename": "FrozenInstanceError",
     "evalue": "cannot assign to field 'release_year'",
     "output_type": "error",
     "traceback": [
      "\u001b[0;31m---------------------------------------------------------------------------\u001b[0m",
      "\u001b[0;31mFrozenInstanceError\u001b[0m                       Traceback (most recent call last)",
      "Cell \u001b[0;32mIn[19], line 8\u001b[0m\n\u001b[1;32m      5\u001b[0m     release_year: \u001b[38;5;28mint\u001b[39m\n\u001b[1;32m      7\u001b[0m it \u001b[38;5;241m=\u001b[39m Book(\u001b[38;5;124m'\u001b[39m\u001b[38;5;124mIt\u001b[39m\u001b[38;5;124m'\u001b[39m, \u001b[38;5;124m'\u001b[39m\u001b[38;5;124mStephen King\u001b[39m\u001b[38;5;124m'\u001b[39m, \u001b[38;5;241m1986\u001b[39m)\n\u001b[0;32m----> 8\u001b[0m \u001b[43mit\u001b[49m\u001b[38;5;241;43m.\u001b[39;49m\u001b[43mrelease_year\u001b[49m \u001b[38;5;241m+\u001b[39m\u001b[38;5;241m=\u001b[39m \u001b[38;5;241m1\u001b[39m\n",
      "File \u001b[0;32m<string>:4\u001b[0m, in \u001b[0;36m__setattr__\u001b[0;34m(self, name, value)\u001b[0m\n",
      "\u001b[0;31mFrozenInstanceError\u001b[0m: cannot assign to field 'release_year'"
     ]
    }
   ],
   "source": [
    "@dataclass(frozen=True)\n",
    "class Book:\n",
    "    title: str\n",
    "    author: str\n",
    "    release_year: int\n",
    "\n",
    "it = Book('It', 'Stephen King', 1986)\n",
    "# it.release_year += 1 # throws error "
   ]
  },
  {
   "cell_type": "code",
   "execution_count": null,
   "id": "a2a752ab-3391-4c6d-a506-d88b867b85ab",
   "metadata": {},
   "outputs": [],
   "source": []
  }
 ],
 "metadata": {
  "kernelspec": {
   "display_name": "Python 3 (ipykernel)",
   "language": "python",
   "name": "python3"
  },
  "language_info": {
   "codemirror_mode": {
    "name": "ipython",
    "version": 3
   },
   "file_extension": ".py",
   "mimetype": "text/x-python",
   "name": "python",
   "nbconvert_exporter": "python",
   "pygments_lexer": "ipython3",
   "version": "3.12.8"
  }
 },
 "nbformat": 4,
 "nbformat_minor": 5
}
