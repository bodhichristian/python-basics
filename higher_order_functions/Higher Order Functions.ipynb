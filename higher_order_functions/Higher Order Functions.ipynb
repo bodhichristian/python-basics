{
 "cells": [
  {
   "cell_type": "markdown",
   "id": "12550eef-1a4c-44ff-8f7c-9bf29c244fc5",
   "metadata": {},
   "source": [
    "# Higher Order Functions"
   ]
  },
  {
   "cell_type": "markdown",
   "id": "4d763cce-3fb0-430e-ac83-85e42c45d56e",
   "metadata": {},
   "source": [
    "## Map"
   ]
  },
  {
   "cell_type": "code",
   "execution_count": 3,
   "id": "6f0314e5-da80-4e82-b76d-9000df2f45da",
   "metadata": {},
   "outputs": [
    {
     "name": "stdout",
     "output_type": "stream",
     "text": [
      "[28.274333882308138, 78.53981633974483, 153.93804002589985, 254.46900494077323, 380.132711084365]\n"
     ]
    }
   ],
   "source": [
    "import math\n",
    "\n",
    "def area(r):\n",
    "    \"\"\"Area of a circle with radius 'r'.\"\"\"\n",
    "    return math.pi * (r**2)\n",
    "\n",
    "radii = [3, 5, 7, 9, 11]\n",
    "mapped = map(area, radii) # Create a map object iterator passing in the function and the iterable\n",
    "areas = list(mapped)\n",
    "print(areas)"
   ]
  },
  {
   "cell_type": "code",
   "execution_count": 5,
   "id": "4cb1552d-cd60-4e60-99cd-631828fb564c",
   "metadata": {},
   "outputs": [
    {
     "name": "stdout",
     "output_type": "stream",
     "text": [
      "[('Berlin', 84), ('Cairo', 96), ('Buenos Aires', 66), ('Los Angeles', 78)]\n"
     ]
    }
   ],
   "source": [
    "temps = [('Berlin', 29), ('Cairo', 36), ('Buenos Aires', 19), ('Los Angeles', 26)]\n",
    "\n",
    "c_to_f = lambda data: (data[0], int((9/5)*data[1] + 32))\n",
    "\n",
    "temps_f = list(map(c_to_f, temps))\n",
    "print(temps_f)"
   ]
  },
  {
   "cell_type": "markdown",
   "id": "522fe9f0-eb5f-45b3-864d-f012e9817af1",
   "metadata": {},
   "source": [
    "## Filter"
   ]
  },
  {
   "cell_type": "markdown",
   "id": "6757da9f-1be0-4997-8905-393d9a93557c",
   "metadata": {},
   "source": [
    "## Filter on a condition"
   ]
  },
  {
   "cell_type": "code",
   "execution_count": 11,
   "id": "a48f7d1f-d6bb-43e5-b308-75dbbd200e02",
   "metadata": {},
   "outputs": [
    {
     "name": "stdout",
     "output_type": "stream",
     "text": [
      "2.183333333333333\n",
      "Above average values: [2.7, 4.1, 4.3]\n"
     ]
    }
   ],
   "source": [
    "import statistics\n",
    "\n",
    "data = [1.3, 2.7, 0.8, 4.1, 4.3, -0.1]\n",
    "avg = statistics.mean(data)\n",
    "print(avg)\n",
    "\n",
    "filtered = filter(lambda x: x>avg, data) # Create a filter object iterator\n",
    "print('Above average values:', list(filtered))"
   ]
  },
  {
   "cell_type": "markdown",
   "id": "353bd204-23ba-43de-bc65-6124e8fce011",
   "metadata": {},
   "source": [
    "### Filter on the absence of value"
   ]
  },
  {
   "cell_type": "code",
   "execution_count": 13,
   "id": "665979e7-ec60-43df-80e8-14457573aab4",
   "metadata": {},
   "outputs": [
    {
     "name": "stdout",
     "output_type": "stream",
     "text": [
      "['Argentina', 'Brazil', 'Chile', 'Columbia']\n"
     ]
    }
   ],
   "source": [
    "countries = ['', 'Argentina', '', 'Brazil', 'Chile', '', 'Columbia']\n",
    "filtered = filter(None, countries)\n",
    "print(list(filtered))"
   ]
  },
  {
   "cell_type": "markdown",
   "id": "9b0a0e11-e1c8-40fe-a3fd-e5577bdf021e",
   "metadata": {},
   "source": [
    "## Reduce "
   ]
  },
  {
   "cell_type": "markdown",
   "id": "022d72b6-1f49-4e85-8d7e-dd0f8656a26b",
   "metadata": {},
   "source": [
    "The reduce function is not recommended in most cases, and as of Python 3 has been removed from builtins."
   ]
  },
  {
   "cell_type": "code",
   "execution_count": 14,
   "id": "3d6e9c4f-2d11-463a-a88e-5116ff4b97f0",
   "metadata": {},
   "outputs": [
    {
     "data": {
      "text/plain": [
       "20790"
      ]
     },
     "execution_count": 14,
     "metadata": {},
     "output_type": "execute_result"
    }
   ],
   "source": [
    "from functools import reduce\n",
    "\n",
    "data = [2, 3, 5, 7, 9 , 11]\n",
    "multiplier = lambda x, y: x*y\n",
    "reduce(multiplier, data)"
   ]
  },
  {
   "cell_type": "code",
   "execution_count": null,
   "id": "741df6c8-9548-47c0-a8ed-5085cabe2c91",
   "metadata": {},
   "outputs": [],
   "source": []
  }
 ],
 "metadata": {
  "kernelspec": {
   "display_name": "Python 3 (ipykernel)",
   "language": "python",
   "name": "python3"
  },
  "language_info": {
   "codemirror_mode": {
    "name": "ipython",
    "version": 3
   },
   "file_extension": ".py",
   "mimetype": "text/x-python",
   "name": "python",
   "nbconvert_exporter": "python",
   "pygments_lexer": "ipython3",
   "version": "3.12.8"
  }
 },
 "nbformat": 4,
 "nbformat_minor": 5
}
