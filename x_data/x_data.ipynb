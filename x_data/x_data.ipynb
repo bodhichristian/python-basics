{
 "cells": [
  {
   "cell_type": "markdown",
   "id": "4f8fd724-6232-4573-9ecc-2f1accccc177",
   "metadata": {},
   "source": [
    "# X Account and Post Data Analysis\n",
    "**Objective:** Analyze engagment metrics and identify trends."
   ]
  },
  {
   "cell_type": "markdown",
   "id": "961b00dd-7eba-4188-ba6f-5fd59b39b4ff",
   "metadata": {},
   "source": [
    "This notebook is an exploration of X user and post data using pandas, numpy, and matplotlib to generate useful insights.\n",
    "\n",
    "CSVs in current directory:  \n",
    "- <b>overview_4M.csv</b> - 4 weeks of account-related data such as Likes, New follows, and Profile visits  \n",
    "- <b>posts_4M.csv</b> - 4 weeks of post-related data such as Post Id, Post text, and Engagements  "
   ]
  },
  {
   "cell_type": "markdown",
   "id": "95f6c569-c26c-4678-9c9d-b4e1b40856a5",
   "metadata": {
    "jp-MarkdownHeadingCollapsed": true
   },
   "source": [
    "# Setup"
   ]
  },
  {
   "cell_type": "markdown",
   "id": "310f6c29-08a3-4641-9dea-b8e1e803646e",
   "metadata": {},
   "source": [
    "### Environment"
   ]
  },
  {
   "cell_type": "code",
   "execution_count": 229,
   "id": "8186df15-1fd8-4445-b326-d70441401152",
   "metadata": {},
   "outputs": [],
   "source": [
    "import matplotlib.pyplot as plt\n",
    "import numpy as np\n",
    "import pandas as pd\n",
    "\n",
    "pd.options.display.max_columns = None"
   ]
  },
  {
   "cell_type": "markdown",
   "id": "6c5b5803-c478-4f89-a965-3d491e5ce836",
   "metadata": {},
   "source": [
    "### Load data"
   ]
  },
  {
   "cell_type": "code",
   "execution_count": 230,
   "id": "48fe50a7-b6cd-474c-a04d-109956832d43",
   "metadata": {},
   "outputs": [],
   "source": [
    "overview = pd.read_csv('overview_4W.csv')\n",
    "posts = pd.read_csv('posts_4W.csv')"
   ]
  },
  {
   "cell_type": "markdown",
   "id": "57f54519-9a97-49eb-855e-0e1f41691926",
   "metadata": {
    "jp-MarkdownHeadingCollapsed": true
   },
   "source": [
    "# Clean data"
   ]
  },
  {
   "cell_type": "markdown",
   "id": "d12a6758-f02c-467f-bfbd-27f7abdf95d8",
   "metadata": {},
   "source": [
    "### Format dates"
   ]
  },
  {
   "cell_type": "code",
   "execution_count": 231,
   "id": "982ffee8-8f61-4cd9-9c34-d7db8e1becc2",
   "metadata": {},
   "outputs": [],
   "source": [
    "# %a - abbreviated weekday name ('Mon')\n",
    "# %b - abbreviated month name ('Feb')\n",
    "# %d - day of the month ('25')\n",
    "# %Y - four digit year (2025)\n",
    "\n",
    "overview['Date'] = pd.to_datetime(overview['Date'], format='%a, %b %d, %Y')\n",
    "posts['Date'] = pd.to_datetime(posts['Date'], format='%a %b %d %Y')"
   ]
  },
  {
   "cell_type": "markdown",
   "id": "56dbfb07-f0f2-4b14-a89f-5afab33cd6d3",
   "metadata": {},
   "source": [
    "### Drop unused columns"
   ]
  },
  {
   "cell_type": "code",
   "execution_count": 232,
   "id": "37c2f5fd-67ab-4cdc-97b4-9857751d43e1",
   "metadata": {},
   "outputs": [],
   "source": [
    "unused_columns_overview = ['Video views', 'Media views']\n",
    "unused_columns_post = ['Post id', 'Link', 'Hashtag clicks', 'Permalink clicks']\n",
    "posts = posts.drop(unused_columns_post, axis=1)\n",
    "overview = overview.drop(unused_columns_overview, axis=1)"
   ]
  },
  {
   "cell_type": "markdown",
   "id": "df73c172-bff7-4e46-84be-9ca4880d3904",
   "metadata": {},
   "source": [
    "### Merge dataframes"
   ]
  },
  {
   "cell_type": "code",
   "execution_count": 233,
   "id": "79dd9c79-66dd-4c9e-84f4-1e11b1bf7eff",
   "metadata": {},
   "outputs": [],
   "source": [
    "x_data = overview.merge(posts, how='left', on='Date', suffixes=['_o', '_p'])"
   ]
  },
  {
   "cell_type": "markdown",
   "id": "0bea786b-60a8-41b0-b713-394928b6fe46",
   "metadata": {},
   "source": [
    "### Convert values to snake case"
   ]
  },
  {
   "cell_type": "code",
   "execution_count": 234,
   "id": "885b1022-94d8-4b4b-8df8-27b5e799c4b7",
   "metadata": {},
   "outputs": [
    {
     "name": "stdout",
     "output_type": "stream",
     "text": [
      "Cool Metric is converted to cool_metric\n"
     ]
    }
   ],
   "source": [
    "def snake_case(text):\n",
    "    snake_cased = []\n",
    "    for i, char in enumerate(text):\n",
    "        if char.isupper():\n",
    "            if snake_cased and snake_cased[-1] != '_': \n",
    "                snake_cased.append('_')\n",
    "            snake_cased.append(char.lower())\n",
    "        elif char == ' ':\n",
    "            if snake_cased and snake_cased[-1] != '_':\n",
    "                snake_cased.append('_')\n",
    "        else:\n",
    "            snake_cased.append(char)\n",
    "    \n",
    "    return ''.join(snake_cased)\n",
    "\n",
    "sample_name = 'Cool Metric'    \n",
    "print(f'{sample_name} is converted to {snake_case('Cool Metric')}')"
   ]
  },
  {
   "cell_type": "markdown",
   "id": "e0fc177e-1a77-4e1e-839f-51aa7c8045e5",
   "metadata": {},
   "source": [
    "### Convert column names to snake case"
   ]
  },
  {
   "cell_type": "code",
   "execution_count": 235,
   "id": "63206e8b-9a54-4c6a-bdf5-bf116914d24a",
   "metadata": {},
   "outputs": [],
   "source": [
    "x_data.columns = [snake_case(col) for col in x_data.columns]\n",
    "\n",
    "# convert floats back to int after merge\n",
    "affected_columns = ['impressions_p', 'likes_p', 'engagements_p', 'bookmarks_p', 'share', 'new_follows_p', 'replies_p', 'reposts_p', 'profile_visits_p', 'detail_expands']\n",
    "\n",
    "for col in affected_columns:\n",
    "    x_data[col] = x_data[col].fillna(0).astype(int)"
   ]
  },
  {
   "cell_type": "markdown",
   "id": "68827af2-5101-44d7-90c5-d08f3407776e",
   "metadata": {
    "jp-MarkdownHeadingCollapsed": true
   },
   "source": [
    "# Feature engineering"
   ]
  },
  {
   "cell_type": "markdown",
   "id": "39a9619a-2dda-4cb6-bb98-5d3c04d553c2",
   "metadata": {},
   "source": [
    "### Add datetime helper values"
   ]
  },
  {
   "cell_type": "code",
   "execution_count": 236,
   "id": "8040c0fd-b059-4810-90b0-b9212b5ecf54",
   "metadata": {},
   "outputs": [],
   "source": [
    "x_data['month'] = pd.Categorical(\n",
    "    x_data['date'].dt.strftime('%b'),\n",
    "    categories=['Jan', 'Feb', 'Mar', 'Apr', 'May', 'Jun', \n",
    "                'Jul', 'Aug', 'Sep', 'Oct', 'Nov', 'Dec'],\n",
    "    ordered=True\n",
    ")\n",
    "\n",
    "x_data['week_number'] = (x_data['date'] - x_data['date'].min()).dt.days // 7 + 1\n",
    "\n",
    "x_data['weekday'] = pd.Categorical(\n",
    "    x_data['date'].dt.strftime('%a'),\n",
    "    categories=['Sun', 'Mon', 'Tue', 'Wed', 'Thu', 'Fri', 'Sat'],\n",
    "    ordered=True\n",
    ")\n",
    "\n",
    "# reverse row order\n",
    "# merged = merged[::-1]\n",
    "\n",
    "# preview\n",
    "# x_data[['date', 'month', 'week_number', 'weekday']]"
   ]
  },
  {
   "cell_type": "code",
   "execution_count": null,
   "id": "269685c5-e632-427a-aa2d-483ea532a217",
   "metadata": {},
   "outputs": [],
   "source": []
  },
  {
   "cell_type": "markdown",
   "id": "9230b21d-19ad-4d94-84b0-51a1813c7985",
   "metadata": {},
   "source": [
    "# Exploratory Data Analysis"
   ]
  },
  {
   "cell_type": "code",
   "execution_count": 237,
   "id": "19abfc83-d674-4d84-bc6e-c219575111b2",
   "metadata": {},
   "outputs": [
    {
     "data": {
      "text/html": [
       "<div>\n",
       "<style scoped>\n",
       "    .dataframe tbody tr th:only-of-type {\n",
       "        vertical-align: middle;\n",
       "    }\n",
       "\n",
       "    .dataframe tbody tr th {\n",
       "        vertical-align: top;\n",
       "    }\n",
       "\n",
       "    .dataframe thead th {\n",
       "        text-align: right;\n",
       "    }\n",
       "</style>\n",
       "<table border=\"1\" class=\"dataframe\">\n",
       "  <thead>\n",
       "    <tr style=\"text-align: right;\">\n",
       "      <th></th>\n",
       "      <th>date</th>\n",
       "      <th>impressions_o</th>\n",
       "      <th>likes_o</th>\n",
       "      <th>engagements_o</th>\n",
       "      <th>bookmarks_o</th>\n",
       "      <th>shares</th>\n",
       "      <th>new_follows_o</th>\n",
       "      <th>unfollows</th>\n",
       "      <th>replies_o</th>\n",
       "      <th>reposts_o</th>\n",
       "      <th>profile_visits_o</th>\n",
       "      <th>create_post</th>\n",
       "      <th>post_text</th>\n",
       "      <th>impressions_p</th>\n",
       "      <th>likes_p</th>\n",
       "      <th>engagements_p</th>\n",
       "      <th>bookmarks_p</th>\n",
       "      <th>share</th>\n",
       "      <th>new_follows_p</th>\n",
       "      <th>replies_p</th>\n",
       "      <th>reposts_p</th>\n",
       "      <th>profile_visits_p</th>\n",
       "      <th>detail_expands</th>\n",
       "      <th>url_clicks</th>\n",
       "      <th>month</th>\n",
       "      <th>week_number</th>\n",
       "      <th>weekday</th>\n",
       "    </tr>\n",
       "  </thead>\n",
       "  <tbody>\n",
       "    <tr>\n",
       "      <th>0</th>\n",
       "      <td>2025-02-27</td>\n",
       "      <td>142</td>\n",
       "      <td>1</td>\n",
       "      <td>5</td>\n",
       "      <td>0</td>\n",
       "      <td>0</td>\n",
       "      <td>1</td>\n",
       "      <td>0</td>\n",
       "      <td>1</td>\n",
       "      <td>0</td>\n",
       "      <td>0</td>\n",
       "      <td>0</td>\n",
       "      <td>@davidcafor SwiftData pushed me towards writin...</td>\n",
       "      <td>24</td>\n",
       "      <td>0</td>\n",
       "      <td>1</td>\n",
       "      <td>0</td>\n",
       "      <td>0</td>\n",
       "      <td>0</td>\n",
       "      <td>1</td>\n",
       "      <td>0</td>\n",
       "      <td>0</td>\n",
       "      <td>0</td>\n",
       "      <td>0.0</td>\n",
       "      <td>Feb</td>\n",
       "      <td>4</td>\n",
       "      <td>Thu</td>\n",
       "    </tr>\n",
       "    <tr>\n",
       "      <th>1</th>\n",
       "      <td>2025-02-26</td>\n",
       "      <td>273</td>\n",
       "      <td>1</td>\n",
       "      <td>3</td>\n",
       "      <td>0</td>\n",
       "      <td>0</td>\n",
       "      <td>1</td>\n",
       "      <td>0</td>\n",
       "      <td>1</td>\n",
       "      <td>0</td>\n",
       "      <td>0</td>\n",
       "      <td>0</td>\n",
       "      <td>@nickfloats i use chatgpt to reverse engineer ...</td>\n",
       "      <td>53</td>\n",
       "      <td>0</td>\n",
       "      <td>0</td>\n",
       "      <td>0</td>\n",
       "      <td>0</td>\n",
       "      <td>0</td>\n",
       "      <td>0</td>\n",
       "      <td>0</td>\n",
       "      <td>0</td>\n",
       "      <td>0</td>\n",
       "      <td>0.0</td>\n",
       "      <td>Feb</td>\n",
       "      <td>4</td>\n",
       "      <td>Wed</td>\n",
       "    </tr>\n",
       "    <tr>\n",
       "      <th>2</th>\n",
       "      <td>2025-02-25</td>\n",
       "      <td>1627</td>\n",
       "      <td>7</td>\n",
       "      <td>22</td>\n",
       "      <td>1</td>\n",
       "      <td>0</td>\n",
       "      <td>0</td>\n",
       "      <td>0</td>\n",
       "      <td>1</td>\n",
       "      <td>0</td>\n",
       "      <td>5</td>\n",
       "      <td>2</td>\n",
       "      <td>@ziademarcus why is this the best mle resource...</td>\n",
       "      <td>13</td>\n",
       "      <td>2</td>\n",
       "      <td>3</td>\n",
       "      <td>0</td>\n",
       "      <td>0</td>\n",
       "      <td>0</td>\n",
       "      <td>1</td>\n",
       "      <td>0</td>\n",
       "      <td>0</td>\n",
       "      <td>0</td>\n",
       "      <td>0.0</td>\n",
       "      <td>Feb</td>\n",
       "      <td>4</td>\n",
       "      <td>Tue</td>\n",
       "    </tr>\n",
       "    <tr>\n",
       "      <th>3</th>\n",
       "      <td>2025-02-25</td>\n",
       "      <td>1627</td>\n",
       "      <td>7</td>\n",
       "      <td>22</td>\n",
       "      <td>1</td>\n",
       "      <td>0</td>\n",
       "      <td>0</td>\n",
       "      <td>0</td>\n",
       "      <td>1</td>\n",
       "      <td>0</td>\n",
       "      <td>5</td>\n",
       "      <td>2</td>\n",
       "      <td>@mnowakdesign you’re bananas.</td>\n",
       "      <td>15</td>\n",
       "      <td>0</td>\n",
       "      <td>0</td>\n",
       "      <td>0</td>\n",
       "      <td>0</td>\n",
       "      <td>0</td>\n",
       "      <td>0</td>\n",
       "      <td>0</td>\n",
       "      <td>0</td>\n",
       "      <td>0</td>\n",
       "      <td>0.0</td>\n",
       "      <td>Feb</td>\n",
       "      <td>4</td>\n",
       "      <td>Tue</td>\n",
       "    </tr>\n",
       "    <tr>\n",
       "      <th>4</th>\n",
       "      <td>2025-02-25</td>\n",
       "      <td>1627</td>\n",
       "      <td>7</td>\n",
       "      <td>22</td>\n",
       "      <td>1</td>\n",
       "      <td>0</td>\n",
       "      <td>0</td>\n",
       "      <td>0</td>\n",
       "      <td>1</td>\n",
       "      <td>0</td>\n",
       "      <td>5</td>\n",
       "      <td>2</td>\n",
       "      <td>this is bananas</td>\n",
       "      <td>286</td>\n",
       "      <td>2</td>\n",
       "      <td>12</td>\n",
       "      <td>0</td>\n",
       "      <td>0</td>\n",
       "      <td>0</td>\n",
       "      <td>1</td>\n",
       "      <td>0</td>\n",
       "      <td>4</td>\n",
       "      <td>5</td>\n",
       "      <td>0.0</td>\n",
       "      <td>Feb</td>\n",
       "      <td>4</td>\n",
       "      <td>Tue</td>\n",
       "    </tr>\n",
       "  </tbody>\n",
       "</table>\n",
       "</div>"
      ],
      "text/plain": [
       "        date  impressions_o  likes_o  engagements_o  bookmarks_o  shares  \\\n",
       "0 2025-02-27            142        1              5            0       0   \n",
       "1 2025-02-26            273        1              3            0       0   \n",
       "2 2025-02-25           1627        7             22            1       0   \n",
       "3 2025-02-25           1627        7             22            1       0   \n",
       "4 2025-02-25           1627        7             22            1       0   \n",
       "\n",
       "   new_follows_o  unfollows  replies_o  reposts_o  profile_visits_o  \\\n",
       "0              1          0          1          0                 0   \n",
       "1              1          0          1          0                 0   \n",
       "2              0          0          1          0                 5   \n",
       "3              0          0          1          0                 5   \n",
       "4              0          0          1          0                 5   \n",
       "\n",
       "   create_post                                          post_text  \\\n",
       "0            0  @davidcafor SwiftData pushed me towards writin...   \n",
       "1            0  @nickfloats i use chatgpt to reverse engineer ...   \n",
       "2            2  @ziademarcus why is this the best mle resource...   \n",
       "3            2                      @mnowakdesign you’re bananas.   \n",
       "4            2                                    this is bananas   \n",
       "\n",
       "   impressions_p  likes_p  engagements_p  bookmarks_p  share  new_follows_p  \\\n",
       "0             24        0              1            0      0              0   \n",
       "1             53        0              0            0      0              0   \n",
       "2             13        2              3            0      0              0   \n",
       "3             15        0              0            0      0              0   \n",
       "4            286        2             12            0      0              0   \n",
       "\n",
       "   replies_p  reposts_p  profile_visits_p  detail_expands  url_clicks month  \\\n",
       "0          1          0                 0               0         0.0   Feb   \n",
       "1          0          0                 0               0         0.0   Feb   \n",
       "2          1          0                 0               0         0.0   Feb   \n",
       "3          0          0                 0               0         0.0   Feb   \n",
       "4          1          0                 4               5         0.0   Feb   \n",
       "\n",
       "   week_number weekday  \n",
       "0            4     Thu  \n",
       "1            4     Wed  \n",
       "2            4     Tue  \n",
       "3            4     Tue  \n",
       "4            4     Tue  "
      ]
     },
     "execution_count": 237,
     "metadata": {},
     "output_type": "execute_result"
    }
   ],
   "source": [
    "x_data.head()"
   ]
  },
  {
   "cell_type": "markdown",
   "id": "cba8e16c-182d-4055-a69c-123b7ed2d82e",
   "metadata": {},
   "source": [
    "## Overview"
   ]
  },
  {
   "cell_type": "markdown",
   "id": "9b16f853-e8d6-4719-b1cb-53579003e4b4",
   "metadata": {},
   "source": [
    "### Engagement"
   ]
  },
  {
   "cell_type": "code",
   "execution_count": null,
   "id": "3993d2b3-b545-462f-9e84-589c98f986bc",
   "metadata": {},
   "outputs": [],
   "source": [
    "total_impressions = overview['Impressions'].sum()\n",
    "total_engagements = overview['Engagements'].sum()\n",
    "\n",
    "engagement_rate = round((total_engagements / total_impressions * 100), 1)\n",
    "print(f'Impressions: {total_impressions}')\n",
    "print(f'Engagements: {total_engagements}')\n",
    "print(f'Engagement rate: {engagement_rate}%')"
   ]
  },
  {
   "cell_type": "markdown",
   "id": "71fe9454-a8ac-4241-a546-b252b1ee0b38",
   "metadata": {},
   "source": [
    "### Avg Enagement per Impression"
   ]
  },
  {
   "cell_type": "code",
   "execution_count": null,
   "id": "e75d9615-214d-4c70-8d40-be90704a1ae3",
   "metadata": {},
   "outputs": [],
   "source": [
    "avg_daily_engagement = (overview['Engagements'] / overview['Impressions']).mean() * 100\n",
    "print(f'Average daily engagment: {avg_daily_engagement.round(1)}')"
   ]
  },
  {
   "cell_type": "markdown",
   "id": "2d54fffb-1fa1-4d81-9cd2-79167b1b8234",
   "metadata": {},
   "source": [
    "### Monthly Engagement"
   ]
  },
  {
   "cell_type": "code",
   "execution_count": null,
   "id": "5b640b31-f23c-489e-b32c-377b583f023a",
   "metadata": {},
   "outputs": [],
   "source": [
    "monthly_engagements = overview.groupby('Month', observed=True)['Engagements'].sum()\n",
    "\n",
    "plt.figure(figsize=(16, 4))  \n",
    "plt.title('Engagement by Month')\n",
    "plt.bar(monthly_engagements.index, monthly_engagements.values, color='green')\n",
    "plt.show()"
   ]
  },
  {
   "cell_type": "markdown",
   "id": "e4ab3b35-53c5-4ecf-bf29-2f883da91ff1",
   "metadata": {},
   "source": [
    "### Profile Visist"
   ]
  },
  {
   "cell_type": "code",
   "execution_count": null,
   "id": "e6ea001e-3201-46d6-8d94-d8231791dd55",
   "metadata": {},
   "outputs": [],
   "source": [
    "profile_visits = overview['Profile visits'].sum()\n",
    "print(f'Profile Visits: {profile_visits}')"
   ]
  },
  {
   "cell_type": "code",
   "execution_count": null,
   "id": "4cd18bf3-afc9-4cc7-beb3-66c1e0e40ab2",
   "metadata": {},
   "outputs": [],
   "source": [
    "avg_daily_visits = round((profile_visits / 365), 1)\n",
    "print(f'Average Daily Profile Vists: {avg_daily_visits}')"
   ]
  },
  {
   "cell_type": "markdown",
   "id": "94a4273d-7b20-4674-916c-d155d230c76b",
   "metadata": {},
   "source": [
    "### Net Daily Follower Change"
   ]
  },
  {
   "cell_type": "code",
   "execution_count": null,
   "id": "7b073f39-4a4e-49f9-91a0-44446a79d14c",
   "metadata": {},
   "outputs": [],
   "source": [
    "net_follower_change = overview['New follows'] - overview['Unfollows']\n",
    "print(f'Largest follower increase: {net_follower_change.max()}')\n",
    "print(f'Largest follower decrease: {net_follower_change.min()}')\n",
    "print(f'Average daily change: {net_follower_change.mean().round(2)}')"
   ]
  },
  {
   "cell_type": "code",
   "execution_count": null,
   "id": "e21718a2-b8fe-436d-895c-928eca5cc6fc",
   "metadata": {},
   "outputs": [],
   "source": [
    "x = overview['Date']\n",
    "y_follows = overview['New follows']\n",
    "y_unfollows = (-overview['Unfollows'])\n",
    "\n",
    "plt.figure(figsize=(16, 4))\n",
    "\n",
    "plt.bar(x, y_follows, label='New follows')\n",
    "plt.bar(x, y_unfollows, label='Unfollows')\n",
    "\n",
    "plt.title('Follows and Unfollows')\n",
    "plt.xlabel('Date')\n",
    "plt.xticks(rotation=45)\n",
    "plt.ylabel('Follower Gain/Loss')\n",
    "plt.legend()\n",
    "plt.show()"
   ]
  },
  {
   "cell_type": "markdown",
   "id": "e24e97c0-5678-421f-a01a-2e7dd3bcad1e",
   "metadata": {},
   "source": [
    "### Cumultative Follower Change (Week over week)\n"
   ]
  },
  {
   "cell_type": "code",
   "execution_count": null,
   "id": "5fa1fd43-139c-4e3b-85e7-5ebcdd55790d",
   "metadata": {},
   "outputs": [],
   "source": [
    "overview['Net follower change'] = overview['New follows'] - overview['Unfollows']\n",
    "\n",
    "weekly_change = overview.groupby('Week number')['Net follower change'].sum()\n",
    "weekly_cumulative = weekly_change.cumsum()\n",
    "\n",
    "plt.figure(figsize=(16, 4))\n",
    "plt.plot(\n",
    "    weekly_cumulative.index, \n",
    "    weekly_cumulative.values, \n",
    "    markersize=8, \n",
    "    markerfacecolor='green', \n",
    "    markeredgecolor='white', \n",
    "    linestyle='-', \n",
    "    color='blue', \n",
    "    linewidth=2\n",
    ")\n",
    "\n",
    "plt.xlabel('Week')\n",
    "plt.ylabel('Cumulative Followers')\n",
    "plt.title('Cumulative Followers Change Over Time')\n",
    "plt.xticks(weekly_cumulative.index, labels=weekly_cumulative.index, rotation=45)\n",
    "plt.grid(True)\n",
    "plt.show()"
   ]
  },
  {
   "cell_type": "markdown",
   "id": "22dfc95a-9a10-4db7-abb5-0c4f9a9f4cef",
   "metadata": {},
   "source": [
    "### Weekly Growth Rate"
   ]
  },
  {
   "cell_type": "code",
   "execution_count": null,
   "id": "327bb2b1-5705-4b56-863d-2e9a94969162",
   "metadata": {},
   "outputs": [],
   "source": [
    "weekly_cumulative_shifted = weekly_cumulative.shift(1)\n",
    "weekly_growth_rate = (weekly_change / weekly_cumulative_shifted) * 100\n",
    "\n",
    "# replace NaN or infinite values (first week division by zero) with 0\n",
    "weekly_growth_rate.fillna(0, inplace=True)\n",
    "weekly_growth_rate.replace([float('inf'), float('-inf')], 0, inplace=True)\n",
    "\n",
    "plt.figure(figsize=(16, 4))\n",
    "plt.plot(\n",
    "    weekly_growth_rate.index, \n",
    "    weekly_growth_rate.values, \n",
    "    linestyle='-', \n",
    "    color='purple', \n",
    "    linewidth=2\n",
    ")\n",
    "\n",
    "plt.xlabel('Week')\n",
    "plt.ylabel('Growth Rate (%)')\n",
    "plt.title('Weekl over Week Growth Rate')\n",
    "plt.xticks(weekly_cumulative.index, labels=weekly_cumulative.index, rotation=45)\n",
    "plt.grid(True)\n",
    "plt.show()"
   ]
  },
  {
   "cell_type": "markdown",
   "id": "aa174221-d998-421d-a541-d2d075174be0",
   "metadata": {},
   "source": [
    "## Posts"
   ]
  },
  {
   "cell_type": "markdown",
   "id": "3b733881-6346-4145-bf31-5ab4f1dc0922",
   "metadata": {},
   "source": [
    "### Post Performance"
   ]
  },
  {
   "cell_type": "code",
   "execution_count": 238,
   "id": "579804e6-98d4-4336-8a2e-5e33fe62d966",
   "metadata": {},
   "outputs": [
    {
     "name": "stdout",
     "output_type": "stream",
     "text": [
      "Replies: 52\n",
      "Likes: 1405\n",
      "Reposts: 59\n",
      "Bookmarks: 805\n",
      "Shares: 24\n"
     ]
    }
   ],
   "source": [
    "replies = overview['Replies'].sum()\n",
    "likes = overview['Likes'].sum()\n",
    "reposts = overview['Reposts'].sum()\n",
    "bookmarks = overview['Bookmarks'].sum()\n",
    "shares = overview['Shares'].sum()\n",
    "\n",
    "print(f'Replies: {replies}')\n",
    "print(f'Likes: {likes}')\n",
    "print(f'Reposts: {reposts}')\n",
    "print(f'Bookmarks: {bookmarks}')\n",
    "print(f'Shares: {shares}')"
   ]
  },
  {
   "cell_type": "code",
   "execution_count": 239,
   "id": "c7678011-31e5-4b6f-a9ef-02ef1759ba32",
   "metadata": {},
   "outputs": [
    {
     "data": {
      "image/png": "[encoded data removed]",
      "text/plain": [
       "<Figure size 1600x400 with 1 Axes>"
      ]
     },
     "metadata": {},
     "output_type": "display_data"
    },
    {
     "name": "stdout",
     "output_type": "stream",
     "text": [
      "Average replies received per post: 2\n"
     ]
    }
   ],
   "source": [
    "x = overview['Date']\n",
    "y_posts = overview['Create Post']\n",
    "y_replies = overview['Replies']\n",
    "\n",
    "plt.figure(figsize=(16,4))\n",
    "plt.title('Posts Made vs Replies Received')\n",
    "plt.bar(x, y_posts, color='blue', label='Posts')\n",
    "plt.bar(x, y_replies, color='green', alpha=0.7, label='Replies Received')\n",
    "plt.legend()\n",
    "plt.show()\n",
    "\n",
    "reply_rate = round(y_replies.sum() / y_posts.sum())\n",
    "print(f'Average replies received per post: {reply_rate}')"
   ]
  },
  {
   "cell_type": "code",
   "execution_count": 240,
   "id": "68c4862e-b851-487d-9edc-743eaab2d83f",
   "metadata": {},
   "outputs": [
    {
     "ename": "KeyError",
     "evalue": "'Month'",
     "output_type": "error",
     "traceback": [
      "\u001b[0;31m---------------------------------------------------------------------------\u001b[0m",
      "\u001b[0;31mKeyError\u001b[0m                                  Traceback (most recent call last)",
      "Cell \u001b[0;32mIn[240], line 1\u001b[0m\n\u001b[0;32m----> 1\u001b[0m monthly_impressions \u001b[38;5;241m=\u001b[39m \u001b[43moverview\u001b[49m\u001b[38;5;241;43m.\u001b[39;49m\u001b[43mgroupby\u001b[49m\u001b[43m(\u001b[49m\u001b[38;5;124;43m'\u001b[39;49m\u001b[38;5;124;43mMonth\u001b[39;49m\u001b[38;5;124;43m'\u001b[39;49m\u001b[43m,\u001b[49m\u001b[43m \u001b[49m\u001b[43mobserved\u001b[49m\u001b[38;5;241;43m=\u001b[39;49m\u001b[38;5;28;43;01mTrue\u001b[39;49;00m\u001b[43m)\u001b[49m[\u001b[38;5;124m'\u001b[39m\u001b[38;5;124mImpressions\u001b[39m\u001b[38;5;124m'\u001b[39m]\u001b[38;5;241m.\u001b[39msum()\n\u001b[1;32m      3\u001b[0m plt\u001b[38;5;241m.\u001b[39mfigure(figsize\u001b[38;5;241m=\u001b[39m(\u001b[38;5;241m16\u001b[39m, \u001b[38;5;241m4\u001b[39m))  \n\u001b[1;32m      4\u001b[0m plt\u001b[38;5;241m.\u001b[39mtitle(\u001b[38;5;124m'\u001b[39m\u001b[38;5;124mImpressions by Month\u001b[39m\u001b[38;5;124m'\u001b[39m)\n",
      "File \u001b[0;32m/Library/Frameworks/Python.framework/Versions/3.12/lib/python3.12/site-packages/pandas/core/frame.py:9183\u001b[0m, in \u001b[0;36mDataFrame.groupby\u001b[0;34m(self, by, axis, level, as_index, sort, group_keys, observed, dropna)\u001b[0m\n\u001b[1;32m   9180\u001b[0m \u001b[38;5;28;01mif\u001b[39;00m level \u001b[38;5;129;01mis\u001b[39;00m \u001b[38;5;28;01mNone\u001b[39;00m \u001b[38;5;129;01mand\u001b[39;00m by \u001b[38;5;129;01mis\u001b[39;00m \u001b[38;5;28;01mNone\u001b[39;00m:\n\u001b[1;32m   9181\u001b[0m     \u001b[38;5;28;01mraise\u001b[39;00m \u001b[38;5;167;01mTypeError\u001b[39;00m(\u001b[38;5;124m\"\u001b[39m\u001b[38;5;124mYou have to supply one of \u001b[39m\u001b[38;5;124m'\u001b[39m\u001b[38;5;124mby\u001b[39m\u001b[38;5;124m'\u001b[39m\u001b[38;5;124m and \u001b[39m\u001b[38;5;124m'\u001b[39m\u001b[38;5;124mlevel\u001b[39m\u001b[38;5;124m'\u001b[39m\u001b[38;5;124m\"\u001b[39m)\n\u001b[0;32m-> 9183\u001b[0m \u001b[38;5;28;01mreturn\u001b[39;00m \u001b[43mDataFrameGroupBy\u001b[49m\u001b[43m(\u001b[49m\n\u001b[1;32m   9184\u001b[0m \u001b[43m    \u001b[49m\u001b[43mobj\u001b[49m\u001b[38;5;241;43m=\u001b[39;49m\u001b[38;5;28;43mself\u001b[39;49m\u001b[43m,\u001b[49m\n\u001b[1;32m   9185\u001b[0m \u001b[43m    \u001b[49m\u001b[43mkeys\u001b[49m\u001b[38;5;241;43m=\u001b[39;49m\u001b[43mby\u001b[49m\u001b[43m,\u001b[49m\n\u001b[1;32m   9186\u001b[0m \u001b[43m    \u001b[49m\u001b[43maxis\u001b[49m\u001b[38;5;241;43m=\u001b[39;49m\u001b[43maxis\u001b[49m\u001b[43m,\u001b[49m\n\u001b[1;32m   9187\u001b[0m \u001b[43m    \u001b[49m\u001b[43mlevel\u001b[49m\u001b[38;5;241;43m=\u001b[39;49m\u001b[43mlevel\u001b[49m\u001b[43m,\u001b[49m\n\u001b[1;32m   9188\u001b[0m \u001b[43m    \u001b[49m\u001b[43mas_index\u001b[49m\u001b[38;5;241;43m=\u001b[39;49m\u001b[43mas_index\u001b[49m\u001b[43m,\u001b[49m\n\u001b[1;32m   9189\u001b[0m \u001b[43m    \u001b[49m\u001b[43msort\u001b[49m\u001b[38;5;241;43m=\u001b[39;49m\u001b[43msort\u001b[49m\u001b[43m,\u001b[49m\n\u001b[1;32m   9190\u001b[0m \u001b[43m    \u001b[49m\u001b[43mgroup_keys\u001b[49m\u001b[38;5;241;43m=\u001b[39;49m\u001b[43mgroup_keys\u001b[49m\u001b[43m,\u001b[49m\n\u001b[1;32m   9191\u001b[0m \u001b[43m    \u001b[49m\u001b[43mobserved\u001b[49m\u001b[38;5;241;43m=\u001b[39;49m\u001b[43mobserved\u001b[49m\u001b[43m,\u001b[49m\n\u001b[1;32m   9192\u001b[0m \u001b[43m    \u001b[49m\u001b[43mdropna\u001b[49m\u001b[38;5;241;43m=\u001b[39;49m\u001b[43mdropna\u001b[49m\u001b[43m,\u001b[49m\n\u001b[1;32m   9193\u001b[0m \u001b[43m\u001b[49m\u001b[43m)\u001b[49m\n",
      "File \u001b[0;32m/Library/Frameworks/Python.framework/Versions/3.12/lib/python3.12/site-packages/pandas/core/groupby/groupby.py:1329\u001b[0m, in \u001b[0;36mGroupBy.__init__\u001b[0;34m(self, obj, keys, axis, level, grouper, exclusions, selection, as_index, sort, group_keys, observed, dropna)\u001b[0m\n\u001b[1;32m   1326\u001b[0m \u001b[38;5;28mself\u001b[39m\u001b[38;5;241m.\u001b[39mdropna \u001b[38;5;241m=\u001b[39m dropna\n\u001b[1;32m   1328\u001b[0m \u001b[38;5;28;01mif\u001b[39;00m grouper \u001b[38;5;129;01mis\u001b[39;00m \u001b[38;5;28;01mNone\u001b[39;00m:\n\u001b[0;32m-> 1329\u001b[0m     grouper, exclusions, obj \u001b[38;5;241m=\u001b[39m \u001b[43mget_grouper\u001b[49m\u001b[43m(\u001b[49m\n\u001b[1;32m   1330\u001b[0m \u001b[43m        \u001b[49m\u001b[43mobj\u001b[49m\u001b[43m,\u001b[49m\n\u001b[1;32m   1331\u001b[0m \u001b[43m        \u001b[49m\u001b[43mkeys\u001b[49m\u001b[43m,\u001b[49m\n\u001b[1;32m   1332\u001b[0m \u001b[43m        \u001b[49m\u001b[43maxis\u001b[49m\u001b[38;5;241;43m=\u001b[39;49m\u001b[43maxis\u001b[49m\u001b[43m,\u001b[49m\n\u001b[1;32m   1333\u001b[0m \u001b[43m        \u001b[49m\u001b[43mlevel\u001b[49m\u001b[38;5;241;43m=\u001b[39;49m\u001b[43mlevel\u001b[49m\u001b[43m,\u001b[49m\n\u001b[1;32m   1334\u001b[0m \u001b[43m        \u001b[49m\u001b[43msort\u001b[49m\u001b[38;5;241;43m=\u001b[39;49m\u001b[43msort\u001b[49m\u001b[43m,\u001b[49m\n\u001b[1;32m   1335\u001b[0m \u001b[43m        \u001b[49m\u001b[43mobserved\u001b[49m\u001b[38;5;241;43m=\u001b[39;49m\u001b[38;5;28;43;01mFalse\u001b[39;49;00m\u001b[43m \u001b[49m\u001b[38;5;28;43;01mif\u001b[39;49;00m\u001b[43m \u001b[49m\u001b[43mobserved\u001b[49m\u001b[43m \u001b[49m\u001b[38;5;129;43;01mis\u001b[39;49;00m\u001b[43m \u001b[49m\u001b[43mlib\u001b[49m\u001b[38;5;241;43m.\u001b[39;49m\u001b[43mno_default\u001b[49m\u001b[43m \u001b[49m\u001b[38;5;28;43;01melse\u001b[39;49;00m\u001b[43m \u001b[49m\u001b[43mobserved\u001b[49m\u001b[43m,\u001b[49m\n\u001b[1;32m   1336\u001b[0m \u001b[43m        \u001b[49m\u001b[43mdropna\u001b[49m\u001b[38;5;241;43m=\u001b[39;49m\u001b[38;5;28;43mself\u001b[39;49m\u001b[38;5;241;43m.\u001b[39;49m\u001b[43mdropna\u001b[49m\u001b[43m,\u001b[49m\n\u001b[1;32m   1337\u001b[0m \u001b[43m    \u001b[49m\u001b[43m)\u001b[49m\n\u001b[1;32m   1339\u001b[0m \u001b[38;5;28;01mif\u001b[39;00m observed \u001b[38;5;129;01mis\u001b[39;00m lib\u001b[38;5;241m.\u001b[39mno_default:\n\u001b[1;32m   1340\u001b[0m     \u001b[38;5;28;01mif\u001b[39;00m \u001b[38;5;28many\u001b[39m(ping\u001b[38;5;241m.\u001b[39m_passed_categorical \u001b[38;5;28;01mfor\u001b[39;00m ping \u001b[38;5;129;01min\u001b[39;00m grouper\u001b[38;5;241m.\u001b[39mgroupings):\n",
      "File \u001b[0;32m/Library/Frameworks/Python.framework/Versions/3.12/lib/python3.12/site-packages/pandas/core/groupby/grouper.py:1043\u001b[0m, in \u001b[0;36mget_grouper\u001b[0;34m(obj, key, axis, level, sort, observed, validate, dropna)\u001b[0m\n\u001b[1;32m   1041\u001b[0m         in_axis, level, gpr \u001b[38;5;241m=\u001b[39m \u001b[38;5;28;01mFalse\u001b[39;00m, gpr, \u001b[38;5;28;01mNone\u001b[39;00m\n\u001b[1;32m   1042\u001b[0m     \u001b[38;5;28;01melse\u001b[39;00m:\n\u001b[0;32m-> 1043\u001b[0m         \u001b[38;5;28;01mraise\u001b[39;00m \u001b[38;5;167;01mKeyError\u001b[39;00m(gpr)\n\u001b[1;32m   1044\u001b[0m \u001b[38;5;28;01melif\u001b[39;00m \u001b[38;5;28misinstance\u001b[39m(gpr, Grouper) \u001b[38;5;129;01mand\u001b[39;00m gpr\u001b[38;5;241m.\u001b[39mkey \u001b[38;5;129;01mis\u001b[39;00m \u001b[38;5;129;01mnot\u001b[39;00m \u001b[38;5;28;01mNone\u001b[39;00m:\n\u001b[1;32m   1045\u001b[0m     \u001b[38;5;66;03m# Add key to exclusions\u001b[39;00m\n\u001b[1;32m   1046\u001b[0m     exclusions\u001b[38;5;241m.\u001b[39madd(gpr\u001b[38;5;241m.\u001b[39mkey)\n",
      "\u001b[0;31mKeyError\u001b[0m: 'Month'"
     ]
    }
   ],
   "source": [
    "monthly_impressions = overview.groupby('Month', observed=True)['Impressions'].sum()\n",
    "\n",
    "plt.figure(figsize=(16, 4))  \n",
    "plt.title('Impressions by Month')\n",
    "plt.bar(monthly_impressions.index, monthly_impressions.values)\n",
    "plt.show()"
   ]
  },
  {
   "cell_type": "markdown",
   "id": "d98d2a48-ec41-458c-994d-a67461691722",
   "metadata": {},
   "source": [
    "### Monthly Impresssions"
   ]
  },
  {
   "cell_type": "markdown",
   "id": "6c77e7ba-c11c-4136-b60c-766c5a5d32bc",
   "metadata": {},
   "source": [
    "### Posts vs Replies Receieved"
   ]
  },
  {
   "cell_type": "markdown",
   "id": "11fa516b-055c-435e-98e1-aed812f9b997",
   "metadata": {},
   "source": [
    "## Post Data"
   ]
  },
  {
   "cell_type": "code",
   "execution_count": null,
   "id": "5faace3e-e2aa-4d32-98d0-194c5d946dad",
   "metadata": {},
   "outputs": [],
   "source": [
    "total_posts = len(posts)\n",
    "monthly_average = round((total_posts / 3))\n",
    "print(f'{total_posts} posts over the last 90 days, averaging ~{monthly_average} posts monthly')"
   ]
  },
  {
   "cell_type": "markdown",
   "id": "b5a75269-139e-4b22-8529-a20e00138302",
   "metadata": {},
   "source": [
    "### Top Post Metrics"
   ]
  },
  {
   "cell_type": "code",
   "execution_count": null,
   "id": "92544208-a5b6-4759-a9b3-674582871597",
   "metadata": {},
   "outputs": [],
   "source": [
    "top_post = posts[posts['Likes'] == posts['Likes'].max()]\n",
    "most_liked_post_text = top_post['Post text'].iloc[0]\n",
    "print(f'Most Liked Post:\\n\\n{most_liked_post_text}\\n\\n')\n",
    "\n",
    "top_post_text = top_post['Post text'].iloc[0]\n",
    "\n",
    "likes = top_post['Likes'].iloc[0]\n",
    "impressions =  top_post['Impressions'].iloc[0]\n",
    "engagements =  top_post['Engagements'].iloc[0]\n",
    "bookmarks =  top_post['Bookmarks'].iloc[0]\n",
    "shares =  top_post['Share'].iloc[0]\n",
    "\n",
    "print(f'Likes: {likes}')\n",
    "print(f'Impressions: {impressions}')\n",
    "print(f'Engagements: {engagements}')\n",
    "print(f'Bookmarks: {bookmarks}')\n",
    "print(f'Shares: {shares}')"
   ]
  },
  {
   "cell_type": "markdown",
   "id": "33b75225-36f6-4a10-a486-5d90e678f040",
   "metadata": {},
   "source": [
    "### Posts by Weekday"
   ]
  },
  {
   "cell_type": "code",
   "execution_count": null,
   "id": "cc2aa872-7efa-4ceb-a4de-25034db6537b",
   "metadata": {},
   "outputs": [],
   "source": [
    "posts_by_weekday = posts.groupby('Weekday', observed=True).size()\n",
    "replies_by_weekday = posts.groupby('Weekday', observed=True)['Replies'].sum()\n",
    "\n",
    "plt.figure(figsize=(16,4))\n",
    "plt.bar(posts_by_weekday.index, posts_by_weekday.values, label='Total Posts')\n",
    "plt.bar(replies_by_weekday.index, replies_by_weekday.values, color='purple', label='Replies')\n",
    "\n",
    "plt.xlabel('Day of week')\n",
    "plt.ylabel('Post count')\n",
    "plt.title('Posts by Weekday')\n",
    "\n",
    "plt.ylim(0, (posts_by_weekday.max() * 1.2))  # 20% buffer for headroom\n",
    "\n",
    "plt.legend()\n",
    "plt.show()"
   ]
  },
  {
   "cell_type": "code",
   "execution_count": null,
   "id": "d7628b69-ed75-4488-afac-856ae4dca5c0",
   "metadata": {},
   "outputs": [],
   "source": [
    "total_bookmarks = posts['Bookmarks'].sum()\n",
    "\n",
    "print(f'Users bookmarked your posts {total_bookmarks} times')"
   ]
  },
  {
   "cell_type": "code",
   "execution_count": null,
   "id": "84f25e75-5640-4d83-ac73-65cdec77b57b",
   "metadata": {},
   "outputs": [],
   "source": [
    "total_profile_visits = posts['Profile visits'].sum()\n",
    "\n",
    "print(f'Your posts brought {total_profile_visits} visits to your profile.')"
   ]
  },
  {
   "cell_type": "code",
   "execution_count": null,
   "id": "d5db7dc4-46af-47c2-8165-b9ac6cbad56f",
   "metadata": {},
   "outputs": [],
   "source": [
    "total_likes = posts['Likes'].sum()\n",
    "avg_likes = total_likes / len(posts)\n",
    "\n",
    "print(f'Your posts received an average of {avg_likes} likes.')"
   ]
  },
  {
   "cell_type": "code",
   "execution_count": null,
   "id": "65d7b34a-749d-4146-94d5-2aa409a71a42",
   "metadata": {},
   "outputs": [],
   "source": [
    "op_posts = posts.copy()\n",
    "op_posts = op_posts[~op_posts['Post text'].str.startswith('@')]\n",
    "op_posts['word_count'] = op_posts['Post text'].str.split().str.len()\n",
    "\n",
    "max = op_posts['word_count'].max()\n",
    "most_verbose_post = op_posts[op_posts['word_count'] == max]['Post text'].values[0]\n",
    "\n",
    "print(f'Most verbose post of the last 90 days: \\n\\n{most_verbose_post}\\n')\n",
    "print(f'Word count: {max}')"
   ]
  },
  {
   "cell_type": "markdown",
   "id": "7765adef-6f48-4ff8-9d62-2fd790c34155",
   "metadata": {},
   "source": [
    "### Reply data"
   ]
  },
  {
   "cell_type": "code",
   "execution_count": null,
   "id": "ff0f364b-4cbe-42b4-9473-e8589b889a89",
   "metadata": {},
   "outputs": [],
   "source": [
    "replies = posts['Post text'].str.startswith('@').sum()\n",
    "total_posts = len(posts)\n",
    "reply_rate = (replies / total_posts * 100).round(2)\n",
    "\n",
    "print(f'Replies account for {reply_rate}% of all posts')"
   ]
  },
  {
   "cell_type": "markdown",
   "id": "0ce418d3-6740-4f5c-bfc8-8d2a14340cfb",
   "metadata": {},
   "source": [
    "### Replies by recipient"
   ]
  },
  {
   "cell_type": "code",
   "execution_count": 241,
   "id": "2e5afc85-03ab-411a-8509-5d94df5b55af",
   "metadata": {
    "scrolled": true
   },
   "outputs": [
    {
     "data": {
      "image/png": "[encoded data removed]",
      "text/plain": [
       "<Figure size 1600x400 with 1 Axes>"
      ]
     },
     "metadata": {},
     "output_type": "display_data"
    },
    {
     "name": "stdout",
     "output_type": "stream",
     "text": [
      "Out of 51 replies, most have been to @OrdinaryInds.\n"
     ]
    }
   ],
   "source": [
    "replies_df = posts[posts['Post text'].str.startswith('@')]\n",
    "grouped_replies = replies_df.groupby(posts['Post text'].str.split().str[0]).size()\n",
    "most_replied = grouped_replies.idxmax()\n",
    "\n",
    "plt.figure(figsize=(16, 4))\n",
    "\n",
    "threshold = 4\n",
    "colors = ['darkviolet' if count > threshold else 'lightblue' for count in grouped_replies]\n",
    "\n",
    "grouped_replies.plot(kind='bar', color=colors)\n",
    "\n",
    "plt.xlabel('User')\n",
    "plt.ylabel('Number of Replies')\n",
    "plt.title('Reply recipients')\n",
    "\n",
    "plt.xticks(rotation=45, ha='right')  \n",
    "plt.tight_layout()  # Adjust layout for better spacing\n",
    "plt.text(0.35, 0.95, f\"Most replies: {most_replied}\", \n",
    "         fontsize=12, color=\"white\", ha=\"center\", va=\"center\", \n",
    "         bbox=dict(facecolor='black', alpha=0.6, edgecolor='none'), \n",
    "         transform=plt.gca().transAxes)\n",
    "plt.show()\n",
    "\n",
    "print(f'Out of {len(replies_df)} replies, {replies_df} have been to {most_replied}.')"
   ]
  },
  {
   "cell_type": "code",
   "execution_count": null,
   "id": "9cb0f00c-c061-4921-9a5a-bb8621058af1",
   "metadata": {},
   "outputs": [],
   "source": []
  }
 ],
 "metadata": {
  "kernelspec": {
   "display_name": "Python 3 (ipykernel)",
   "language": "python",
   "name": "python3"
  },
  "language_info": {
   "codemirror_mode": {
    "name": "ipython",
    "version": 3
   },
   "file_extension": ".py",
   "mimetype": "text/x-python",
   "name": "python",
   "nbconvert_exporter": "python",
   "pygments_lexer": "ipython3",
   "version": "3.12.8"
  }
 },
 "nbformat": 4,
 "nbformat_minor": 5
}
