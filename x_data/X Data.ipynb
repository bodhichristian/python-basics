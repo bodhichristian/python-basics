{
 "cells": [
  {
   "cell_type": "markdown",
   "id": "4f8fd724-6232-4573-9ecc-2f1accccc177",
   "metadata": {},
   "source": [
    "# X Account Data\n",
    "### for @bodhichristian"
   ]
  },
  {
   "cell_type": "markdown",
   "id": "961b00dd-7eba-4188-ba6f-5fd59b39b4ff",
   "metadata": {},
   "source": [
    "This notebook is an exploration of X data using pandas and numpy to make useful inferences.\n",
    "\n",
    "Data in current directory:  \n",
    "- <b>account_overview_year.csv</b> - 365 days of account-related data such as Likes, New follows, and Profile visits  \n",
    "- <b>account_content_quarter.csv</b> - 3 months of post-related data such as Post Id, Post text, and Engagements  "
   ]
  },
  {
   "cell_type": "code",
   "execution_count": 39,
   "id": "8186df15-1fd8-4445-b326-d70441401152",
   "metadata": {},
   "outputs": [],
   "source": [
    "## Imports\n",
    "import matplotlib.pyplot as plt\n",
    "import numpy as np\n",
    "import pandas as pd"
   ]
  },
  {
   "cell_type": "code",
   "execution_count": 84,
   "id": "48fe50a7-b6cd-474c-a04d-109956832d43",
   "metadata": {},
   "outputs": [],
   "source": [
    "overview = pd.read_csv('account_overview_year.csv')\n",
    "posts = pd.read_csv('posts_3M.csv')"
   ]
  },
  {
   "cell_type": "markdown",
   "id": "626d1759-0d9c-4cd5-89dc-c35226963d0b",
   "metadata": {},
   "source": [
    "## Account Overview Preview"
   ]
  },
  {
   "cell_type": "code",
   "execution_count": 85,
   "id": "e4da211c-6e31-4e48-a5e8-46092373511c",
   "metadata": {},
   "outputs": [
    {
     "data": {
      "text/html": [
       "<div>\n",
       "<style scoped>\n",
       "    .dataframe tbody tr th:only-of-type {\n",
       "        vertical-align: middle;\n",
       "    }\n",
       "\n",
       "    .dataframe tbody tr th {\n",
       "        vertical-align: top;\n",
       "    }\n",
       "\n",
       "    .dataframe thead th {\n",
       "        text-align: right;\n",
       "    }\n",
       "</style>\n",
       "<table border=\"1\" class=\"dataframe\">\n",
       "  <thead>\n",
       "    <tr style=\"text-align: right;\">\n",
       "      <th></th>\n",
       "      <th>Date</th>\n",
       "      <th>Impressions</th>\n",
       "      <th>Likes</th>\n",
       "      <th>Engagements</th>\n",
       "      <th>Bookmarks</th>\n",
       "      <th>Shares</th>\n",
       "      <th>New follows</th>\n",
       "      <th>Unfollows</th>\n",
       "      <th>Replies</th>\n",
       "      <th>Reposts</th>\n",
       "      <th>Profile visits</th>\n",
       "      <th>Create Post</th>\n",
       "      <th>Video views</th>\n",
       "      <th>Media views</th>\n",
       "    </tr>\n",
       "  </thead>\n",
       "  <tbody>\n",
       "    <tr>\n",
       "      <th>0</th>\n",
       "      <td>Mon, Feb 24, 2025</td>\n",
       "      <td>640</td>\n",
       "      <td>3</td>\n",
       "      <td>8</td>\n",
       "      <td>0</td>\n",
       "      <td>0</td>\n",
       "      <td>0</td>\n",
       "      <td>0</td>\n",
       "      <td>0</td>\n",
       "      <td>0</td>\n",
       "      <td>1</td>\n",
       "      <td>0</td>\n",
       "      <td>0</td>\n",
       "      <td>0</td>\n",
       "    </tr>\n",
       "    <tr>\n",
       "      <th>1</th>\n",
       "      <td>Sun, Feb 23, 2025</td>\n",
       "      <td>1951</td>\n",
       "      <td>9</td>\n",
       "      <td>51</td>\n",
       "      <td>2</td>\n",
       "      <td>0</td>\n",
       "      <td>1</td>\n",
       "      <td>1</td>\n",
       "      <td>6</td>\n",
       "      <td>0</td>\n",
       "      <td>12</td>\n",
       "      <td>2</td>\n",
       "      <td>0</td>\n",
       "      <td>0</td>\n",
       "    </tr>\n",
       "  </tbody>\n",
       "</table>\n",
       "</div>"
      ],
      "text/plain": [
       "                Date  Impressions  Likes  Engagements  Bookmarks  Shares  \\\n",
       "0  Mon, Feb 24, 2025          640      3            8          0       0   \n",
       "1  Sun, Feb 23, 2025         1951      9           51          2       0   \n",
       "\n",
       "   New follows  Unfollows  Replies  Reposts  Profile visits  Create Post  \\\n",
       "0            0          0        0        0               1            0   \n",
       "1            1          1        6        0              12            2   \n",
       "\n",
       "   Video views  Media views  \n",
       "0            0            0  \n",
       "1            0            0  "
      ]
     },
     "execution_count": 85,
     "metadata": {},
     "output_type": "execute_result"
    }
   ],
   "source": [
    "overview.head(2)"
   ]
  },
  {
   "cell_type": "markdown",
   "id": "ad5a56d1-d7fe-413a-a21f-c24367ad2423",
   "metadata": {},
   "source": [
    "### Clean dates"
   ]
  },
  {
   "cell_type": "code",
   "execution_count": 86,
   "id": "982ffee8-8f61-4cd9-9c34-d7db8e1becc2",
   "metadata": {},
   "outputs": [
    {
     "data": {
      "text/plain": [
       "Date\n",
       "1     31\n",
       "2     28\n",
       "3     31\n",
       "4     30\n",
       "5     31\n",
       "6     30\n",
       "7     31\n",
       "8     31\n",
       "9     30\n",
       "10    31\n",
       "11    30\n",
       "12    31\n",
       "dtype: int64"
      ]
     },
     "execution_count": 86,
     "metadata": {},
     "output_type": "execute_result"
    }
   ],
   "source": [
    "# %a - abbreviated weekday name ('Mon')\n",
    "# %b - abbreviated month name ('Feb')\n",
    "# %d - day of the month ('25')\n",
    "# %Y - four digit year (2025)\n",
    "\n",
    "overview['Date'] = pd.to_datetime(overview['Date'], format='%a, %b %d, %Y')\n",
    "grouped = overview.groupby(overview['Date'].dt.month)\n",
    "grouped.size()"
   ]
  },
  {
   "cell_type": "markdown",
   "id": "9b16f853-e8d6-4719-b1cb-53579003e4b4",
   "metadata": {},
   "source": [
    "### Average Daily Engagement"
   ]
  },
  {
   "cell_type": "code",
   "execution_count": 87,
   "id": "e75d9615-214d-4c70-8d40-be90704a1ae3",
   "metadata": {},
   "outputs": [
    {
     "name": "stdout",
     "output_type": "stream",
     "text": [
      "Average daily engagment: 3.82\n"
     ]
    }
   ],
   "source": [
    "avg_daily_engagement = (overview['Engagements'] / overview['Impressions']).mean() * 100\n",
    "print(f'Average daily engagment: {avg_daily_engagement.round(2)}')"
   ]
  },
  {
   "cell_type": "markdown",
   "id": "94a4273d-7b20-4674-916c-d155d230c76b",
   "metadata": {},
   "source": [
    "### Net Daily Follower Change"
   ]
  },
  {
   "cell_type": "code",
   "execution_count": 88,
   "id": "7b073f39-4a4e-49f9-91a0-44446a79d14c",
   "metadata": {},
   "outputs": [
    {
     "name": "stdout",
     "output_type": "stream",
     "text": [
      "Largest follower increase: 94\n",
      "Largest follower decrease: -5\n",
      "Average daily change: 3.98\n"
     ]
    }
   ],
   "source": [
    "net_follower_change = overview['New follows'] - overview['Unfollows']\n",
    "print(f'Largest follower increase: {net_follower_change.max()}')\n",
    "print(f'Largest follower decrease: {net_follower_change.min()}')\n",
    "print(f'Average daily change: {net_follower_change.mean().round(2)}')"
   ]
  },
  {
   "cell_type": "markdown",
   "id": "ba4b5e16-38df-4e05-ab71-54261349471a",
   "metadata": {},
   "source": [
    "## Posts Preview"
   ]
  },
  {
   "cell_type": "code",
   "execution_count": 92,
   "id": "b7d5e878-13b2-4c03-a37a-a5cdd1ff6e49",
   "metadata": {
    "scrolled": true
   },
   "outputs": [
    {
     "data": {
      "text/html": [
       "<div>\n",
       "<style scoped>\n",
       "    .dataframe tbody tr th:only-of-type {\n",
       "        vertical-align: middle;\n",
       "    }\n",
       "\n",
       "    .dataframe tbody tr th {\n",
       "        vertical-align: top;\n",
       "    }\n",
       "\n",
       "    .dataframe thead th {\n",
       "        text-align: right;\n",
       "    }\n",
       "</style>\n",
       "<table border=\"1\" class=\"dataframe\">\n",
       "  <thead>\n",
       "    <tr style=\"text-align: right;\">\n",
       "      <th></th>\n",
       "      <th>Post id</th>\n",
       "      <th>Date</th>\n",
       "      <th>Post text</th>\n",
       "      <th>Link</th>\n",
       "      <th>Impressions</th>\n",
       "      <th>Likes</th>\n",
       "      <th>Engagements</th>\n",
       "      <th>Bookmarks</th>\n",
       "      <th>Share</th>\n",
       "      <th>New follows</th>\n",
       "      <th>Replies</th>\n",
       "      <th>Reposts</th>\n",
       "      <th>Profile visits</th>\n",
       "      <th>Detail expands</th>\n",
       "      <th>Url clicks</th>\n",
       "      <th>Hashtag clicks</th>\n",
       "      <th>Permalink clicks</th>\n",
       "    </tr>\n",
       "  </thead>\n",
       "  <tbody>\n",
       "    <tr>\n",
       "      <th>0</th>\n",
       "      <td>1894144221424026012</td>\n",
       "      <td>2025-02-24</td>\n",
       "      <td>@KevinNaughtonJr it’s an acronym?</td>\n",
       "      <td>https://x.com/bodhichristian/status/1894144221...</td>\n",
       "      <td>409</td>\n",
       "      <td>0</td>\n",
       "      <td>2</td>\n",
       "      <td>0</td>\n",
       "      <td>0</td>\n",
       "      <td>0</td>\n",
       "      <td>0</td>\n",
       "      <td>0</td>\n",
       "      <td>1</td>\n",
       "      <td>1</td>\n",
       "      <td>0</td>\n",
       "      <td>0</td>\n",
       "      <td>0</td>\n",
       "    </tr>\n",
       "    <tr>\n",
       "      <th>1</th>\n",
       "      <td>1894097177032458244</td>\n",
       "      <td>2025-02-23</td>\n",
       "      <td>@OrdinaryInds https://t.co/10czV0rjBF</td>\n",
       "      <td>https://x.com/bodhichristian/status/1894097177...</td>\n",
       "      <td>11</td>\n",
       "      <td>1</td>\n",
       "      <td>1</td>\n",
       "      <td>0</td>\n",
       "      <td>0</td>\n",
       "      <td>0</td>\n",
       "      <td>0</td>\n",
       "      <td>0</td>\n",
       "      <td>0</td>\n",
       "      <td>0</td>\n",
       "      <td>0</td>\n",
       "      <td>0</td>\n",
       "      <td>0</td>\n",
       "    </tr>\n",
       "  </tbody>\n",
       "</table>\n",
       "</div>"
      ],
      "text/plain": [
       "               Post id       Date                              Post text  \\\n",
       "0  1894144221424026012 2025-02-24      @KevinNaughtonJr it’s an acronym?   \n",
       "1  1894097177032458244 2025-02-23  @OrdinaryInds https://t.co/10czV0rjBF   \n",
       "\n",
       "                                                Link  Impressions  Likes  \\\n",
       "0  https://x.com/bodhichristian/status/1894144221...          409      0   \n",
       "1  https://x.com/bodhichristian/status/1894097177...           11      1   \n",
       "\n",
       "   Engagements  Bookmarks  Share  New follows  Replies  Reposts  \\\n",
       "0            2          0      0            0        0        0   \n",
       "1            1          0      0            0        0        0   \n",
       "\n",
       "   Profile visits  Detail expands  Url clicks  Hashtag clicks  \\\n",
       "0               1               1           0               0   \n",
       "1               0               0           0               0   \n",
       "\n",
       "   Permalink clicks  \n",
       "0                 0  \n",
       "1                 0  "
      ]
     },
     "execution_count": 92,
     "metadata": {},
     "output_type": "execute_result"
    }
   ],
   "source": [
    "posts.head(2)"
   ]
  },
  {
   "cell_type": "markdown",
   "id": "075bfa5c-f5f4-4462-807c-d5f11cd2b0d8",
   "metadata": {},
   "source": [
    "### Clean dates"
   ]
  },
  {
   "cell_type": "code",
   "execution_count": 90,
   "id": "91fd9271-5cb4-4320-82de-ffd5c25ee1e7",
   "metadata": {},
   "outputs": [],
   "source": [
    "# %a - abbreviated weekday name ('Mon')\n",
    "# %b - abbreviated month name ('Feb')\n",
    "# %d - day of the month ('25')\n",
    "# %Y - four digit year (2025)\n",
    "\n",
    "posts['Date'] = pd.to_datetime(overview['Date'], format='%a, %b %d, %Y')"
   ]
  },
  {
   "cell_type": "markdown",
   "id": "11fa516b-055c-435e-98e1-aed812f9b997",
   "metadata": {},
   "source": [
    "### Post Data"
   ]
  },
  {
   "cell_type": "code",
   "execution_count": 95,
   "id": "5faace3e-e2aa-4d32-98d0-194c5d946dad",
   "metadata": {},
   "outputs": [
    {
     "name": "stdout",
     "output_type": "stream",
     "text": [
      "250 posts over the last 90 days, averaging ~83 posts monthly\n"
     ]
    }
   ],
   "source": [
    "total_posts = len(posts)\n",
    "monthly_average = round((total_posts / 3))\n",
    "print(f'{total_posts} posts over the last 90 days, averaging ~{monthly_average} posts monthly')"
   ]
  },
  {
   "cell_type": "code",
   "execution_count": 103,
   "id": "cc2aa872-7efa-4ceb-a4de-25034db6537b",
   "metadata": {},
   "outputs": [
    {
     "data": {
      "image/png": "[encoded data removed]",
      "text/plain": [
       "<Figure size 640x480 with 1 Axes>"
      ]
     },
     "metadata": {},
     "output_type": "display_data"
    }
   ],
   "source": [
    "posts['day_of_week'] = posts['Date'].dt.day_name()\n",
    "daily_post_count = posts.groupby('day_of_week').size()\n",
    "daily_post_count.plot(kind='bar')\n",
    "\n",
    "plt.xlabel('Day of week')\n",
    "plt.ylabel('Post count')\n",
    "plt.title('Posts by day of week')\n",
    "plt.xticks(rotation=45)\n",
    "plt.show()"
   ]
  },
  {
   "cell_type": "code",
   "execution_count": 105,
   "id": "9f0de231-c6ee-45d0-8843-192ecc947c5d",
   "metadata": {},
   "outputs": [
    {
     "data": {
      "image/png": "[encoded data removed]",
      "text/plain": [
       "<Figure size 640x480 with 1 Axes>"
      ]
     },
     "metadata": {},
     "output_type": "display_data"
    }
   ],
   "source": [
    "daily_impressions = posts.groupby('day_of_week')['Impressions'].sum()\n",
    "daily_impressions.plot(kind='line')\n",
    "plt.show()"
   ]
  },
  {
   "cell_type": "code",
   "execution_count": 106,
   "id": "ccafa7d8-ed1c-4ad2-b563-21af76238e13",
   "metadata": {},
   "outputs": [
    {
     "data": {
      "image/png": "[encoded data removed]",
      "text/plain": [
       "<Figure size 640x480 with 1 Axes>"
      ]
     },
     "metadata": {},
     "output_type": "display_data"
    }
   ],
   "source": [
    "daily_engagements = posts.groupby('day_of_week')['Engagements'].sum()\n",
    "daily_engagements.plot(kind='line')\n",
    "plt.show()"
   ]
  },
  {
   "cell_type": "code",
   "execution_count": 9,
   "id": "d7628b69-ed75-4488-afac-856ae4dca5c0",
   "metadata": {},
   "outputs": [
    {
     "name": "stdout",
     "output_type": "stream",
     "text": [
      "Users bookmarked your posts 853 times\n"
     ]
    }
   ],
   "source": [
    "total_bookmarks = posts['Bookmarks'].sum()\n",
    "print(f'Users bookmarked your posts {total_bookmarks} times')"
   ]
  },
  {
   "cell_type": "code",
   "execution_count": 10,
   "id": "84f25e75-5640-4d83-ac73-65cdec77b57b",
   "metadata": {},
   "outputs": [
    {
     "name": "stdout",
     "output_type": "stream",
     "text": [
      "Your posts brought 721 visits to your profile.\n"
     ]
    }
   ],
   "source": [
    "total_profile_visits = posts['Profile visits'].sum()\n",
    "print(f'Your posts brought {total_profile_visits} visits to your profile.')"
   ]
  },
  {
   "cell_type": "code",
   "execution_count": 11,
   "id": "d5db7dc4-46af-47c2-8165-b9ac6cbad56f",
   "metadata": {},
   "outputs": [
    {
     "name": "stdout",
     "output_type": "stream",
     "text": [
      "Your posts received an average of 7.284 likes.\n"
     ]
    }
   ],
   "source": [
    "total_likes = posts['Likes'].sum()\n",
    "avg_likes = total_likes / len(posts)\n",
    "print(f'Your posts received an average of {avg_likes} likes.')"
   ]
  },
  {
   "cell_type": "code",
   "execution_count": 70,
   "id": "339ca13d-da9b-42df-be77-39bbe2095b17",
   "metadata": {},
   "outputs": [
    {
     "name": "stdout",
     "output_type": "stream",
     "text": [
      "Top post of the last 90 days: \n",
      "decided it’s time to learn app intents. rigged up a simple use case with two intents, and exposed them to the system as a shortcut. code in replies ⬇️ https://t.co/jxXGOPH18r\n"
     ]
    }
   ],
   "source": [
    "top_post_text = posts[posts['Likes'] == posts['Likes'].max()]['Post text'].values[0]\n",
    "print(f'Top post of the last 90 days: \\n{top_post_text}')"
   ]
  },
  {
   "cell_type": "code",
   "execution_count": 76,
   "id": "65d7b34a-749d-4146-94d5-2aa409a71a42",
   "metadata": {},
   "outputs": [
    {
     "name": "stdout",
     "output_type": "stream",
     "text": [
      "Most verbose post of the last 90 days: \n",
      "had my first live coding interview today. not as great as i would’ve liked, but not as bad as it could have been. was tasked with building Conway’s Game of Life to simulate cell survival based on the state of neighboring cells. struggled with the 2D array logic checks, and https://t.co/gQfTreqJbw\n",
      "Word count: 51\n"
     ]
    }
   ],
   "source": [
    "op_posts = posts.copy()\n",
    "op_posts = op_posts[~op_posts['Post text'].str.startswith('@')]\n",
    "op_posts['word_count'] = op_posts['Post text'].str.split().str.len()\n",
    "max = op_posts['word_count'].max()\n",
    "most_verbose_post = op_posts[op_posts['word_count'] == max]['Post text'].values[0]\n",
    "print(f'Most verbose post of the last 90 days: \\n{most_verbose_post}')\n",
    "print(f'Word count: {max}')"
   ]
  },
  {
   "cell_type": "markdown",
   "id": "7765adef-6f48-4ff8-9d62-2fd790c34155",
   "metadata": {},
   "source": [
    "### Reply data"
   ]
  },
  {
   "cell_type": "code",
   "execution_count": 12,
   "id": "ff0f364b-4cbe-42b4-9473-e8589b889a89",
   "metadata": {},
   "outputs": [
    {
     "name": "stdout",
     "output_type": "stream",
     "text": [
      "Replies account for 50.8% of all posts\n"
     ]
    }
   ],
   "source": [
    "replies = posts['Post text'].str.startswith('@').sum()\n",
    "total_posts = len(posts)\n",
    "reply_rate = (replies / total_posts * 100).round(2)\n",
    "print(f'Replies account for {reply_rate}% of all posts')"
   ]
  },
  {
   "cell_type": "code",
   "execution_count": 13,
   "id": "2e5afc85-03ab-411a-8509-5d94df5b55af",
   "metadata": {},
   "outputs": [
    {
     "name": "stdout",
     "output_type": "stream",
     "text": [
      "@OrdinaryInds has received the most replies\n"
     ]
    }
   ],
   "source": [
    "replies_df = posts[posts['Post text'].str.startswith('@')]\n",
    "grouped_replies = replies_df.groupby(posts['Post text'].str.split().str[0]).size()\n",
    "most_replied = grouped_replies.idxmax()\n",
    "print(f'{most_replied} has received the most replies')"
   ]
  },
  {
   "cell_type": "code",
   "execution_count": null,
   "id": "c31e34a9-b475-47fa-9a0e-6227788b4508",
   "metadata": {},
   "outputs": [],
   "source": []
  }
 ],
 "metadata": {
  "kernelspec": {
   "display_name": "Python 3 (ipykernel)",
   "language": "python",
   "name": "python3"
  },
  "language_info": {
   "codemirror_mode": {
    "name": "ipython",
    "version": 3
   },
   "file_extension": ".py",
   "mimetype": "text/x-python",
   "name": "python",
   "nbconvert_exporter": "python",
   "pygments_lexer": "ipython3",
   "version": "3.12.8"
  }
 },
 "nbformat": 4,
 "nbformat_minor": 5
}
