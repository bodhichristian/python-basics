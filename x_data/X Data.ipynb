{
 "cells": [
  {
   "cell_type": "markdown",
   "id": "4f8fd724-6232-4573-9ecc-2f1accccc177",
   "metadata": {},
   "source": [
    "# X Account Data\n",
    "### for @bodhichristian"
   ]
  },
  {
   "cell_type": "markdown",
   "id": "961b00dd-7eba-4188-ba6f-5fd59b39b4ff",
   "metadata": {},
   "source": [
    "This notebook is an exploration of X data using pandas and numpy to make useful inferences.\n",
    "\n",
    "Data in current directory:  \n",
    "- <b>account_overview_year.csv</b> - 365 days of account-related data such as Likes, New follows, and Profile visits  \n",
    "- <b>account_content_quarter.csv</b> - 3 months of post-related data such as Post Id, Post text, and Engagements  "
   ]
  },
  {
   "cell_type": "code",
   "execution_count": 4,
   "id": "8186df15-1fd8-4445-b326-d70441401152",
   "metadata": {},
   "outputs": [],
   "source": [
    "## Imports\n",
    "import numpy as np\n",
    "import pandas as pd"
   ]
  },
  {
   "cell_type": "code",
   "execution_count": 5,
   "id": "48fe50a7-b6cd-474c-a04d-109956832d43",
   "metadata": {},
   "outputs": [],
   "source": [
    "overview = pd.read_csv('account_overview_year.csv')\n",
    "posts = pd.read_csv('account_content_quarter.csv')"
   ]
  },
  {
   "cell_type": "markdown",
   "id": "626d1759-0d9c-4cd5-89dc-c35226963d0b",
   "metadata": {},
   "source": [
    "## Account Overview Preview"
   ]
  },
  {
   "cell_type": "code",
   "execution_count": 6,
   "id": "e4da211c-6e31-4e48-a5e8-46092373511c",
   "metadata": {},
   "outputs": [
    {
     "data": {
      "text/html": [
       "<div>\n",
       "<style scoped>\n",
       "    .dataframe tbody tr th:only-of-type {\n",
       "        vertical-align: middle;\n",
       "    }\n",
       "\n",
       "    .dataframe tbody tr th {\n",
       "        vertical-align: top;\n",
       "    }\n",
       "\n",
       "    .dataframe thead th {\n",
       "        text-align: right;\n",
       "    }\n",
       "</style>\n",
       "<table border=\"1\" class=\"dataframe\">\n",
       "  <thead>\n",
       "    <tr style=\"text-align: right;\">\n",
       "      <th></th>\n",
       "      <th>Date</th>\n",
       "      <th>Impressions</th>\n",
       "      <th>Likes</th>\n",
       "      <th>Engagements</th>\n",
       "      <th>Bookmarks</th>\n",
       "      <th>Shares</th>\n",
       "      <th>New follows</th>\n",
       "      <th>Unfollows</th>\n",
       "      <th>Replies</th>\n",
       "      <th>Reposts</th>\n",
       "      <th>Profile visits</th>\n",
       "      <th>Create Post</th>\n",
       "      <th>Video views</th>\n",
       "      <th>Media views</th>\n",
       "    </tr>\n",
       "  </thead>\n",
       "  <tbody>\n",
       "    <tr>\n",
       "      <th>0</th>\n",
       "      <td>Mon, Feb 24, 2025</td>\n",
       "      <td>640</td>\n",
       "      <td>3</td>\n",
       "      <td>8</td>\n",
       "      <td>0</td>\n",
       "      <td>0</td>\n",
       "      <td>0</td>\n",
       "      <td>0</td>\n",
       "      <td>0</td>\n",
       "      <td>0</td>\n",
       "      <td>1</td>\n",
       "      <td>0</td>\n",
       "      <td>0</td>\n",
       "      <td>0</td>\n",
       "    </tr>\n",
       "    <tr>\n",
       "      <th>1</th>\n",
       "      <td>Sun, Feb 23, 2025</td>\n",
       "      <td>1951</td>\n",
       "      <td>9</td>\n",
       "      <td>51</td>\n",
       "      <td>2</td>\n",
       "      <td>0</td>\n",
       "      <td>1</td>\n",
       "      <td>1</td>\n",
       "      <td>6</td>\n",
       "      <td>0</td>\n",
       "      <td>12</td>\n",
       "      <td>2</td>\n",
       "      <td>0</td>\n",
       "      <td>0</td>\n",
       "    </tr>\n",
       "  </tbody>\n",
       "</table>\n",
       "</div>"
      ],
      "text/plain": [
       "                Date  Impressions  Likes  Engagements  Bookmarks  Shares  \\\n",
       "0  Mon, Feb 24, 2025          640      3            8          0       0   \n",
       "1  Sun, Feb 23, 2025         1951      9           51          2       0   \n",
       "\n",
       "   New follows  Unfollows  Replies  Reposts  Profile visits  Create Post  \\\n",
       "0            0          0        0        0               1            0   \n",
       "1            1          1        6        0              12            2   \n",
       "\n",
       "   Video views  Media views  \n",
       "0            0            0  \n",
       "1            0            0  "
      ]
     },
     "execution_count": 6,
     "metadata": {},
     "output_type": "execute_result"
    }
   ],
   "source": [
    "overview.head(2)"
   ]
  },
  {
   "cell_type": "code",
   "execution_count": 23,
   "id": "982ffee8-8f61-4cd9-9c34-d7db8e1becc2",
   "metadata": {},
   "outputs": [
    {
     "data": {
      "text/plain": [
       "Date\n",
       "1     31\n",
       "2     28\n",
       "3     31\n",
       "4     30\n",
       "5     31\n",
       "6     30\n",
       "7     31\n",
       "8     31\n",
       "9     30\n",
       "10    31\n",
       "11    30\n",
       "12    31\n",
       "dtype: int64"
      ]
     },
     "execution_count": 23,
     "metadata": {},
     "output_type": "execute_result"
    }
   ],
   "source": [
    "# %a - abbreviated weekday name ('Mon')\n",
    "# %b - abbreviated month name ('Feb')\n",
    "# %d - day of the month ('25')\n",
    "# %Y - four digit year (2025)\n",
    "\n",
    "overview['Date'] = pd.to_datetime(overview['Date'], format='%a, %b %d, %Y')\n",
    "grouped = overview.groupby(overview['Date'].dt.month)\n",
    "grouped.size()"
   ]
  },
  {
   "cell_type": "markdown",
   "id": "9b16f853-e8d6-4719-b1cb-53579003e4b4",
   "metadata": {},
   "source": [
    "### Average Daily Engagement"
   ]
  },
  {
   "cell_type": "code",
   "execution_count": 33,
   "id": "e75d9615-214d-4c70-8d40-be90704a1ae3",
   "metadata": {},
   "outputs": [
    {
     "name": "stdout",
     "output_type": "stream",
     "text": [
      "Average daily engagment: 3.82\n"
     ]
    }
   ],
   "source": [
    "avg_daily_engagement = (overview['Engagements'] / overview['Impressions']).mean() * 100\n",
    "print(f'Average daily engagment: {avg_daily_engagement.round(2)}')"
   ]
  },
  {
   "cell_type": "markdown",
   "id": "94a4273d-7b20-4674-916c-d155d230c76b",
   "metadata": {},
   "source": [
    "### Net Daily Follower Change"
   ]
  },
  {
   "cell_type": "code",
   "execution_count": 42,
   "id": "7b073f39-4a4e-49f9-91a0-44446a79d14c",
   "metadata": {},
   "outputs": [
    {
     "name": "stdout",
     "output_type": "stream",
     "text": [
      "Largest follower increase: 94\n",
      "Largest follower decrease: -5\n",
      "Average daily change: 3.98\n"
     ]
    }
   ],
   "source": [
    "net_follower_change = overview['New follows'] - overview['Unfollows']\n",
    "print(f'Largest follower increase: {net_follower_change.max()}')\n",
    "print(f'Largest follower decrease: {net_follower_change.min()}')\n",
    "print(f'Average daily change: {net_follower_change.mean().round(2)}')"
   ]
  },
  {
   "cell_type": "markdown",
   "id": "ba4b5e16-38df-4e05-ab71-54261349471a",
   "metadata": {},
   "source": [
    "## Posts Preview"
   ]
  },
  {
   "cell_type": "code",
   "execution_count": 7,
   "id": "b7d5e878-13b2-4c03-a37a-a5cdd1ff6e49",
   "metadata": {
    "scrolled": true
   },
   "outputs": [
    {
     "data": {
      "text/html": [
       "<div>\n",
       "<style scoped>\n",
       "    .dataframe tbody tr th:only-of-type {\n",
       "        vertical-align: middle;\n",
       "    }\n",
       "\n",
       "    .dataframe tbody tr th {\n",
       "        vertical-align: top;\n",
       "    }\n",
       "\n",
       "    .dataframe thead th {\n",
       "        text-align: right;\n",
       "    }\n",
       "</style>\n",
       "<table border=\"1\" class=\"dataframe\">\n",
       "  <thead>\n",
       "    <tr style=\"text-align: right;\">\n",
       "      <th></th>\n",
       "      <th>Post id</th>\n",
       "      <th>Date</th>\n",
       "      <th>Post text</th>\n",
       "      <th>Link</th>\n",
       "      <th>Impressions</th>\n",
       "      <th>Likes</th>\n",
       "      <th>Engagements</th>\n",
       "      <th>Bookmarks</th>\n",
       "      <th>Share</th>\n",
       "      <th>New follows</th>\n",
       "      <th>Replies</th>\n",
       "      <th>Reposts</th>\n",
       "      <th>Profile visits</th>\n",
       "      <th>Detail expands</th>\n",
       "      <th>Url clicks</th>\n",
       "      <th>Hashtag clicks</th>\n",
       "      <th>Permalink clicks</th>\n",
       "    </tr>\n",
       "  </thead>\n",
       "  <tbody>\n",
       "    <tr>\n",
       "      <th>0</th>\n",
       "      <td>1893813268679893292</td>\n",
       "      <td>Sun Feb 23 2025</td>\n",
       "      <td>all hail rick of rubins</td>\n",
       "      <td>https://x.com/bodhichristian/status/1893813268...</td>\n",
       "      <td>231</td>\n",
       "      <td>0</td>\n",
       "      <td>2</td>\n",
       "      <td>0</td>\n",
       "      <td>0</td>\n",
       "      <td>0</td>\n",
       "      <td>0</td>\n",
       "      <td>0</td>\n",
       "      <td>1</td>\n",
       "      <td>1</td>\n",
       "      <td>0</td>\n",
       "      <td>0</td>\n",
       "      <td>0</td>\n",
       "    </tr>\n",
       "    <tr>\n",
       "      <th>1</th>\n",
       "      <td>1893805237711897070</td>\n",
       "      <td>Sun Feb 23 2025</td>\n",
       "      <td>@ElantraMan bro sometimes i fucking need to</td>\n",
       "      <td>https://x.com/bodhichristian/status/1893805237...</td>\n",
       "      <td>24</td>\n",
       "      <td>1</td>\n",
       "      <td>1</td>\n",
       "      <td>0</td>\n",
       "      <td>0</td>\n",
       "      <td>0</td>\n",
       "      <td>0</td>\n",
       "      <td>0</td>\n",
       "      <td>0</td>\n",
       "      <td>0</td>\n",
       "      <td>0</td>\n",
       "      <td>0</td>\n",
       "      <td>0</td>\n",
       "    </tr>\n",
       "  </tbody>\n",
       "</table>\n",
       "</div>"
      ],
      "text/plain": [
       "               Post id             Date  \\\n",
       "0  1893813268679893292  Sun Feb 23 2025   \n",
       "1  1893805237711897070  Sun Feb 23 2025   \n",
       "\n",
       "                                     Post text  \\\n",
       "0                      all hail rick of rubins   \n",
       "1  @ElantraMan bro sometimes i fucking need to   \n",
       "\n",
       "                                                Link  Impressions  Likes  \\\n",
       "0  https://x.com/bodhichristian/status/1893813268...          231      0   \n",
       "1  https://x.com/bodhichristian/status/1893805237...           24      1   \n",
       "\n",
       "   Engagements  Bookmarks  Share  New follows  Replies  Reposts  \\\n",
       "0            2          0      0            0        0        0   \n",
       "1            1          0      0            0        0        0   \n",
       "\n",
       "   Profile visits  Detail expands  Url clicks  Hashtag clicks  \\\n",
       "0               1               1           0               0   \n",
       "1               0               0           0               0   \n",
       "\n",
       "   Permalink clicks  \n",
       "0                 0  \n",
       "1                 0  "
      ]
     },
     "execution_count": 7,
     "metadata": {},
     "output_type": "execute_result"
    }
   ],
   "source": [
    "posts.head(2)"
   ]
  },
  {
   "cell_type": "markdown",
   "id": "11fa516b-055c-435e-98e1-aed812f9b997",
   "metadata": {},
   "source": [
    "### Post Data"
   ]
  },
  {
   "cell_type": "code",
   "execution_count": 77,
   "id": "cc2aa872-7efa-4ceb-a4de-25034db6537b",
   "metadata": {},
   "outputs": [
    {
     "name": "stdout",
     "output_type": "stream",
     "text": [
      "250 posts over the last 365 days, averaging 0.68 posts daily\n"
     ]
    }
   ],
   "source": [
    "total_posts = len(posts)\n",
    "daily_average = round((total_posts / 365), 2)\n",
    "print(f'{total_posts} posts over the last 365 days, averaging {daily_average} posts daily')"
   ]
  },
  {
   "cell_type": "code",
   "execution_count": 78,
   "id": "d7628b69-ed75-4488-afac-856ae4dca5c0",
   "metadata": {},
   "outputs": [
    {
     "name": "stdout",
     "output_type": "stream",
     "text": [
      "Users bookmarked your posts 853 times\n"
     ]
    }
   ],
   "source": [
    "total_bookmarks = posts['Bookmarks'].sum()\n",
    "print(f'Users bookmarked your posts {total_bookmarks} times')"
   ]
  },
  {
   "cell_type": "code",
   "execution_count": 79,
   "id": "84f25e75-5640-4d83-ac73-65cdec77b57b",
   "metadata": {},
   "outputs": [
    {
     "name": "stdout",
     "output_type": "stream",
     "text": [
      "Your posts brought 721 visits to your profile.\n"
     ]
    }
   ],
   "source": [
    "total_profile_visits = posts['Profile visits'].sum()\n",
    "print(f'Your posts brought {total_profile_visits} visits to your profile.')"
   ]
  },
  {
   "cell_type": "code",
   "execution_count": 81,
   "id": "d5db7dc4-46af-47c2-8165-b9ac6cbad56f",
   "metadata": {},
   "outputs": [
    {
     "name": "stdout",
     "output_type": "stream",
     "text": [
      "Your posts received an average of 7.284 likes.\n"
     ]
    }
   ],
   "source": [
    "total_likes = posts['Likes'].sum()\n",
    "avg_likes = total_likes / len(posts)\n",
    "print(f'Your posts received an average of {avg_likes} likes.')"
   ]
  },
  {
   "cell_type": "markdown",
   "id": "7765adef-6f48-4ff8-9d62-2fd790c34155",
   "metadata": {},
   "source": [
    "### Reply data"
   ]
  },
  {
   "cell_type": "code",
   "execution_count": 53,
   "id": "ff0f364b-4cbe-42b4-9473-e8589b889a89",
   "metadata": {},
   "outputs": [
    {
     "name": "stdout",
     "output_type": "stream",
     "text": [
      "Replies account for 50.8% of all posts\n"
     ]
    }
   ],
   "source": [
    "replies = posts['Post text'].str.startswith('@').sum()\n",
    "total_posts = len(posts)\n",
    "reply_rate = (replies / total_posts * 100).round(2)\n",
    "print(f'Replies account for {reply_rate}% of all posts')"
   ]
  },
  {
   "cell_type": "code",
   "execution_count": 67,
   "id": "2e5afc85-03ab-411a-8509-5d94df5b55af",
   "metadata": {},
   "outputs": [
    {
     "name": "stdout",
     "output_type": "stream",
     "text": [
      "@OrdinaryInds has received the most replies\n"
     ]
    }
   ],
   "source": [
    "replies_df = posts[posts['Post text'].str.startswith('@')]\n",
    "grouped_replies = replies_df.groupby(posts['Post text'].str.split().str[0]).size()\n",
    "most_replied = grouped_replies.idxmax()\n",
    "print(f'{most_replied} has received the most replies')"
   ]
  },
  {
   "cell_type": "code",
   "execution_count": null,
   "id": "c31e34a9-b475-47fa-9a0e-6227788b4508",
   "metadata": {},
   "outputs": [],
   "source": []
  }
 ],
 "metadata": {
  "kernelspec": {
   "display_name": "Python 3 (ipykernel)",
   "language": "python",
   "name": "python3"
  },
  "language_info": {
   "codemirror_mode": {
    "name": "ipython",
    "version": 3
   },
   "file_extension": ".py",
   "mimetype": "text/x-python",
   "name": "python",
   "nbconvert_exporter": "python",
   "pygments_lexer": "ipython3",
   "version": "3.12.8"
  }
 },
 "nbformat": 4,
 "nbformat_minor": 5
}
