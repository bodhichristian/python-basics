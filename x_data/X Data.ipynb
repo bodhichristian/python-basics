{
 "cells": [
  {
   "cell_type": "markdown",
   "id": "4f8fd724-6232-4573-9ecc-2f1accccc177",
   "metadata": {},
   "source": [
    "# X Account Data\n",
    "### for @bodhichristian"
   ]
  },
  {
   "cell_type": "markdown",
   "id": "961b00dd-7eba-4188-ba6f-5fd59b39b4ff",
   "metadata": {},
   "source": [
    "This notebook is an exploration of X data using pandas and numpy to make useful inferences.\n",
    "\n",
    "Data in current directory:  \n",
    "- <b>account_overview_year.csv</b> - 365 days of account-related data such as Likes, New follows, and Profile visits  \n",
    "- <b>account_content_quarter.csv</b> - 3 months of post-related data such as Post Id, Post text, and Engagements  "
   ]
  },
  {
   "cell_type": "code",
   "execution_count": 168,
   "id": "8186df15-1fd8-4445-b326-d70441401152",
   "metadata": {},
   "outputs": [],
   "source": [
    "## Imports\n",
    "\n",
    "import matplotlib.pyplot as plt\n",
    "import numpy as np\n",
    "import pandas as pd"
   ]
  },
  {
   "cell_type": "code",
   "execution_count": 169,
   "id": "48fe50a7-b6cd-474c-a04d-109956832d43",
   "metadata": {},
   "outputs": [],
   "source": [
    "## Create dataframes\n",
    "overview = pd.read_csv('account_overview_year.csv')\n",
    "posts = pd.read_csv('posts_3M.csv')"
   ]
  },
  {
   "cell_type": "markdown",
   "id": "626d1759-0d9c-4cd5-89dc-c35226963d0b",
   "metadata": {},
   "source": [
    "# Account Overview (Previous 365 Days)"
   ]
  },
  {
   "cell_type": "code",
   "execution_count": 170,
   "id": "e4da211c-6e31-4e48-a5e8-46092373511c",
   "metadata": {},
   "outputs": [
    {
     "data": {
      "text/html": [
       "<div>\n",
       "<style scoped>\n",
       "    .dataframe tbody tr th:only-of-type {\n",
       "        vertical-align: middle;\n",
       "    }\n",
       "\n",
       "    .dataframe tbody tr th {\n",
       "        vertical-align: top;\n",
       "    }\n",
       "\n",
       "    .dataframe thead th {\n",
       "        text-align: right;\n",
       "    }\n",
       "</style>\n",
       "<table border=\"1\" class=\"dataframe\">\n",
       "  <thead>\n",
       "    <tr style=\"text-align: right;\">\n",
       "      <th></th>\n",
       "      <th>Date</th>\n",
       "      <th>Impressions</th>\n",
       "      <th>Likes</th>\n",
       "      <th>Engagements</th>\n",
       "      <th>Bookmarks</th>\n",
       "      <th>Shares</th>\n",
       "      <th>New follows</th>\n",
       "      <th>Unfollows</th>\n",
       "      <th>Replies</th>\n",
       "      <th>Reposts</th>\n",
       "      <th>Profile visits</th>\n",
       "      <th>Create Post</th>\n",
       "      <th>Video views</th>\n",
       "      <th>Media views</th>\n",
       "    </tr>\n",
       "  </thead>\n",
       "  <tbody>\n",
       "    <tr>\n",
       "      <th>0</th>\n",
       "      <td>Mon, Feb 24, 2025</td>\n",
       "      <td>640</td>\n",
       "      <td>3</td>\n",
       "      <td>8</td>\n",
       "      <td>0</td>\n",
       "      <td>0</td>\n",
       "      <td>0</td>\n",
       "      <td>0</td>\n",
       "      <td>0</td>\n",
       "      <td>0</td>\n",
       "      <td>1</td>\n",
       "      <td>0</td>\n",
       "      <td>0</td>\n",
       "      <td>0</td>\n",
       "    </tr>\n",
       "    <tr>\n",
       "      <th>1</th>\n",
       "      <td>Sun, Feb 23, 2025</td>\n",
       "      <td>1951</td>\n",
       "      <td>9</td>\n",
       "      <td>51</td>\n",
       "      <td>2</td>\n",
       "      <td>0</td>\n",
       "      <td>1</td>\n",
       "      <td>1</td>\n",
       "      <td>6</td>\n",
       "      <td>0</td>\n",
       "      <td>12</td>\n",
       "      <td>2</td>\n",
       "      <td>0</td>\n",
       "      <td>0</td>\n",
       "    </tr>\n",
       "  </tbody>\n",
       "</table>\n",
       "</div>"
      ],
      "text/plain": [
       "                Date  Impressions  Likes  Engagements  Bookmarks  Shares  \\\n",
       "0  Mon, Feb 24, 2025          640      3            8          0       0   \n",
       "1  Sun, Feb 23, 2025         1951      9           51          2       0   \n",
       "\n",
       "   New follows  Unfollows  Replies  Reposts  Profile visits  Create Post  \\\n",
       "0            0          0        0        0               1            0   \n",
       "1            1          1        6        0              12            2   \n",
       "\n",
       "   Video views  Media views  \n",
       "0            0            0  \n",
       "1            0            0  "
      ]
     },
     "execution_count": 170,
     "metadata": {},
     "output_type": "execute_result"
    }
   ],
   "source": [
    "overview.head(2)"
   ]
  },
  {
   "cell_type": "markdown",
   "id": "ad5a56d1-d7fe-413a-a21f-c24367ad2423",
   "metadata": {},
   "source": [
    "### Clean dates"
   ]
  },
  {
   "cell_type": "code",
   "execution_count": 171,
   "id": "982ffee8-8f61-4cd9-9c34-d7db8e1becc2",
   "metadata": {},
   "outputs": [
    {
     "data": {
      "text/html": [
       "<div>\n",
       "<style scoped>\n",
       "    .dataframe tbody tr th:only-of-type {\n",
       "        vertical-align: middle;\n",
       "    }\n",
       "\n",
       "    .dataframe tbody tr th {\n",
       "        vertical-align: top;\n",
       "    }\n",
       "\n",
       "    .dataframe thead th {\n",
       "        text-align: right;\n",
       "    }\n",
       "</style>\n",
       "<table border=\"1\" class=\"dataframe\">\n",
       "  <thead>\n",
       "    <tr style=\"text-align: right;\">\n",
       "      <th></th>\n",
       "      <th>Date</th>\n",
       "      <th>Impressions</th>\n",
       "      <th>Likes</th>\n",
       "      <th>Engagements</th>\n",
       "      <th>Bookmarks</th>\n",
       "      <th>Shares</th>\n",
       "      <th>New follows</th>\n",
       "      <th>Unfollows</th>\n",
       "      <th>Replies</th>\n",
       "      <th>Reposts</th>\n",
       "      <th>Profile visits</th>\n",
       "      <th>Create Post</th>\n",
       "      <th>Video views</th>\n",
       "      <th>Media views</th>\n",
       "      <th>Month</th>\n",
       "    </tr>\n",
       "  </thead>\n",
       "  <tbody>\n",
       "    <tr>\n",
       "      <th>0</th>\n",
       "      <td>2025-02-24</td>\n",
       "      <td>640</td>\n",
       "      <td>3</td>\n",
       "      <td>8</td>\n",
       "      <td>0</td>\n",
       "      <td>0</td>\n",
       "      <td>0</td>\n",
       "      <td>0</td>\n",
       "      <td>0</td>\n",
       "      <td>0</td>\n",
       "      <td>1</td>\n",
       "      <td>0</td>\n",
       "      <td>0</td>\n",
       "      <td>0</td>\n",
       "      <td>Feb</td>\n",
       "    </tr>\n",
       "    <tr>\n",
       "      <th>1</th>\n",
       "      <td>2025-02-23</td>\n",
       "      <td>1951</td>\n",
       "      <td>9</td>\n",
       "      <td>51</td>\n",
       "      <td>2</td>\n",
       "      <td>0</td>\n",
       "      <td>1</td>\n",
       "      <td>1</td>\n",
       "      <td>6</td>\n",
       "      <td>0</td>\n",
       "      <td>12</td>\n",
       "      <td>2</td>\n",
       "      <td>0</td>\n",
       "      <td>0</td>\n",
       "      <td>Feb</td>\n",
       "    </tr>\n",
       "  </tbody>\n",
       "</table>\n",
       "</div>"
      ],
      "text/plain": [
       "        Date  Impressions  Likes  Engagements  Bookmarks  Shares  New follows  \\\n",
       "0 2025-02-24          640      3            8          0       0            0   \n",
       "1 2025-02-23         1951      9           51          2       0            1   \n",
       "\n",
       "   Unfollows  Replies  Reposts  Profile visits  Create Post  Video views  \\\n",
       "0          0        0        0               1            0            0   \n",
       "1          1        6        0              12            2            0   \n",
       "\n",
       "   Media views Month  \n",
       "0            0   Feb  \n",
       "1            0   Feb  "
      ]
     },
     "execution_count": 171,
     "metadata": {},
     "output_type": "execute_result"
    }
   ],
   "source": [
    "# %a - abbreviated weekday name ('Mon')\n",
    "# %b - abbreviated month name ('Feb')\n",
    "# %d - day of the month ('25')\n",
    "# %Y - four digit year (2025)\n",
    "\n",
    "overview['Date'] = pd.to_datetime(overview['Date'], format='%a, %b %d, %Y')\n",
    "overview['Month'] = pd.Categorical(\n",
    "    overview['Date'].dt.strftime('%b'),\n",
    "    categories=['Jan', 'Feb', 'Mar', 'Apr', 'May', 'Jun', \n",
    "                'Jul', 'Aug', 'Sep', 'Oct', 'Nov', 'Dec'],\n",
    "    ordered=True\n",
    ")\n",
    "overview.head(2)"
   ]
  },
  {
   "cell_type": "markdown",
   "id": "9b16f853-e8d6-4719-b1cb-53579003e4b4",
   "metadata": {},
   "source": [
    "## Engagement"
   ]
  },
  {
   "cell_type": "code",
   "execution_count": 172,
   "id": "3993d2b3-b545-462f-9e84-589c98f986bc",
   "metadata": {},
   "outputs": [
    {
     "name": "stdout",
     "output_type": "stream",
     "text": [
      "Impressions: 1263207\n",
      "Engagements: 53857\n",
      "Engagement rate: 4.3%\n"
     ]
    }
   ],
   "source": [
    "total_impressions = overview['Impressions'].sum()\n",
    "total_engagements = overview['Engagements'].sum()\n",
    "\n",
    "engagement_rate = round((total_engagements / total_impressions * 100), 1)\n",
    "print(f'Impressions: {total_impressions}')\n",
    "print(f'Engagements: {total_engagements}')\n",
    "print(f'Engagement rate: {engagement_rate}%')"
   ]
  },
  {
   "cell_type": "markdown",
   "id": "71fe9454-a8ac-4241-a546-b252b1ee0b38",
   "metadata": {},
   "source": [
    "### Avg Daily Engagement"
   ]
  },
  {
   "cell_type": "code",
   "execution_count": 173,
   "id": "e75d9615-214d-4c70-8d40-be90704a1ae3",
   "metadata": {},
   "outputs": [
    {
     "name": "stdout",
     "output_type": "stream",
     "text": [
      "Average daily engagment: 3.8\n"
     ]
    }
   ],
   "source": [
    "avg_daily_engagement = (overview['Engagements'] / overview['Impressions']).mean() * 100\n",
    "print(f'Average daily engagment: {avg_daily_engagement.round(1)}')"
   ]
  },
  {
   "cell_type": "markdown",
   "id": "2d54fffb-1fa1-4d81-9cd2-79167b1b8234",
   "metadata": {},
   "source": [
    "### Monthly Engagement"
   ]
  },
  {
   "cell_type": "code",
   "execution_count": 174,
   "id": "5b640b31-f23c-489e-b32c-377b583f023a",
   "metadata": {},
   "outputs": [
    {
     "data": {
      "image/png": "[encoded data removed]",
      "text/plain": [
       "<Figure size 1600x400 with 1 Axes>"
      ]
     },
     "metadata": {},
     "output_type": "display_data"
    }
   ],
   "source": [
    "monthly_engagements = overview.groupby('Month', observed=True)['Engagements'].sum()\n",
    "\n",
    "plt.figure(figsize=(16, 4))  \n",
    "plt.title('Engagement by Month')\n",
    "plt.bar(monthly_engagements.index, monthly_engagements.values, color='green')\n",
    "plt.show()"
   ]
  },
  {
   "cell_type": "markdown",
   "id": "d98d2a48-ec41-458c-994d-a67461691722",
   "metadata": {},
   "source": [
    "### Monthly Impresssions"
   ]
  },
  {
   "cell_type": "code",
   "execution_count": 175,
   "id": "68c4862e-b851-487d-9edc-743eaab2d83f",
   "metadata": {},
   "outputs": [
    {
     "data": {
      "image/png": "[encoded data removed]",
      "text/plain": [
       "<Figure size 1600x400 with 1 Axes>"
      ]
     },
     "metadata": {},
     "output_type": "display_data"
    }
   ],
   "source": [
    "monthly_impressions = overview.groupby('Month', observed=True)['Impressions'].sum()\n",
    "\n",
    "plt.figure(figsize=(16, 4))  \n",
    "plt.title('Impressions by Month')\n",
    "plt.bar(monthly_impressions.index, monthly_impressions.values)\n",
    "plt.show()"
   ]
  },
  {
   "cell_type": "markdown",
   "id": "6c77e7ba-c11c-4136-b60c-766c5a5d32bc",
   "metadata": {},
   "source": [
    "### Posts vs Replies Receieved"
   ]
  },
  {
   "cell_type": "code",
   "execution_count": 176,
   "id": "c7678011-31e5-4b6f-a9ef-02ef1759ba32",
   "metadata": {},
   "outputs": [
    {
     "data": {
      "image/png": "[encoded data removed]",
      "text/plain": [
       "<Figure size 1600x400 with 1 Axes>"
      ]
     },
     "metadata": {},
     "output_type": "display_data"
    }
   ],
   "source": [
    "x = overview['Date']\n",
    "y_posts = overview['Create Post']\n",
    "y_replies = overview['Replies']\n",
    "\n",
    "plt.figure(figsize=(16,4))\n",
    "plt.title('Posts Made vs Replies Received')\n",
    "plt.bar(x, y_posts, color='blue', label='Posts')\n",
    "plt.bar(x, y_replies, color='green', alpha=0.7, label='Replies Received')\n",
    "plt.legend()\n",
    "plt.show()"
   ]
  },
  {
   "cell_type": "markdown",
   "id": "e4ab3b35-53c5-4ecf-bf29-2f883da91ff1",
   "metadata": {},
   "source": [
    "### Profile Visist"
   ]
  },
  {
   "cell_type": "code",
   "execution_count": 177,
   "id": "e6ea001e-3201-46d6-8d94-d8231791dd55",
   "metadata": {},
   "outputs": [
    {
     "name": "stdout",
     "output_type": "stream",
     "text": [
      "Profile Visits: 6043\n"
     ]
    }
   ],
   "source": [
    "profile_visits = overview['Profile visits'].sum()\n",
    "print(f'Profile Visits: {profile_visits}')"
   ]
  },
  {
   "cell_type": "code",
   "execution_count": 178,
   "id": "4cd18bf3-afc9-4cc7-beb3-66c1e0e40ab2",
   "metadata": {},
   "outputs": [
    {
     "name": "stdout",
     "output_type": "stream",
     "text": [
      "Average Daily Profile Vists: 16.6\n"
     ]
    }
   ],
   "source": [
    "avg_daily_visits = round((profile_vists / 365), 1)\n",
    "print(f'Average Daily Profile Vists: {avg_daily_visits}')"
   ]
  },
  {
   "cell_type": "markdown",
   "id": "3b733881-6346-4145-bf31-5ab4f1dc0922",
   "metadata": {},
   "source": [
    "### Post Data Overview"
   ]
  },
  {
   "cell_type": "code",
   "execution_count": 179,
   "id": "4d007c4d-2362-48f4-b2ea-81d4ae8ca52b",
   "metadata": {},
   "outputs": [
    {
     "name": "stdout",
     "output_type": "stream",
     "text": [
      "Replies: 1210\n",
      "Likes: 11656\n",
      "Reposts: 397\n",
      "Bookmarks: 4582\n",
      "Shares: 156\n"
     ]
    }
   ],
   "source": [
    "replies = overview['Replies'].sum()\n",
    "likes = overview['Likes'].sum()\n",
    "reposts = overview['Reposts'].sum()\n",
    "bookmarks = overview['Bookmarks'].sum()\n",
    "shares = overview['Shares'].sum()\n",
    "\n",
    "print(f'Replies: {replies}')\n",
    "print(f'Likes: {likes}')\n",
    "print(f'Reposts: {reposts}')\n",
    "print(f'Bookmarks: {bookmarks}')\n",
    "print(f'Shares: {shares}')"
   ]
  },
  {
   "cell_type": "markdown",
   "id": "94a4273d-7b20-4674-916c-d155d230c76b",
   "metadata": {},
   "source": [
    "### Net Daily Follower Change"
   ]
  },
  {
   "cell_type": "code",
   "execution_count": 180,
   "id": "7b073f39-4a4e-49f9-91a0-44446a79d14c",
   "metadata": {},
   "outputs": [
    {
     "name": "stdout",
     "output_type": "stream",
     "text": [
      "Largest follower increase: 94\n",
      "Largest follower decrease: -5\n",
      "Average daily change: 3.98\n"
     ]
    }
   ],
   "source": [
    "net_follower_change = overview['New follows'] - overview['Unfollows']\n",
    "print(f'Largest follower increase: {net_follower_change.max()}')\n",
    "print(f'Largest follower decrease: {net_follower_change.min()}')\n",
    "print(f'Average daily change: {net_follower_change.mean().round(2)}')"
   ]
  },
  {
   "cell_type": "markdown",
   "id": "ba4b5e16-38df-4e05-ab71-54261349471a",
   "metadata": {},
   "source": [
    "# Posts (Previous 3 Months)"
   ]
  },
  {
   "cell_type": "code",
   "execution_count": 181,
   "id": "b7d5e878-13b2-4c03-a37a-a5cdd1ff6e49",
   "metadata": {
    "scrolled": true
   },
   "outputs": [
    {
     "data": {
      "text/html": [
       "<div>\n",
       "<style scoped>\n",
       "    .dataframe tbody tr th:only-of-type {\n",
       "        vertical-align: middle;\n",
       "    }\n",
       "\n",
       "    .dataframe tbody tr th {\n",
       "        vertical-align: top;\n",
       "    }\n",
       "\n",
       "    .dataframe thead th {\n",
       "        text-align: right;\n",
       "    }\n",
       "</style>\n",
       "<table border=\"1\" class=\"dataframe\">\n",
       "  <thead>\n",
       "    <tr style=\"text-align: right;\">\n",
       "      <th></th>\n",
       "      <th>Post id</th>\n",
       "      <th>Date</th>\n",
       "      <th>Post text</th>\n",
       "      <th>Link</th>\n",
       "      <th>Impressions</th>\n",
       "      <th>Likes</th>\n",
       "      <th>Engagements</th>\n",
       "      <th>Bookmarks</th>\n",
       "      <th>Share</th>\n",
       "      <th>New follows</th>\n",
       "      <th>Replies</th>\n",
       "      <th>Reposts</th>\n",
       "      <th>Profile visits</th>\n",
       "      <th>Detail expands</th>\n",
       "      <th>Url clicks</th>\n",
       "      <th>Hashtag clicks</th>\n",
       "      <th>Permalink clicks</th>\n",
       "    </tr>\n",
       "  </thead>\n",
       "  <tbody>\n",
       "    <tr>\n",
       "      <th>0</th>\n",
       "      <td>1894144221424026012</td>\n",
       "      <td>Mon Feb 24 2025</td>\n",
       "      <td>@KevinNaughtonJr it’s an acronym?</td>\n",
       "      <td>https://x.com/bodhichristian/status/1894144221...</td>\n",
       "      <td>409</td>\n",
       "      <td>0</td>\n",
       "      <td>2</td>\n",
       "      <td>0</td>\n",
       "      <td>0</td>\n",
       "      <td>0</td>\n",
       "      <td>0</td>\n",
       "      <td>0</td>\n",
       "      <td>1</td>\n",
       "      <td>1</td>\n",
       "      <td>0</td>\n",
       "      <td>0</td>\n",
       "      <td>0</td>\n",
       "    </tr>\n",
       "    <tr>\n",
       "      <th>1</th>\n",
       "      <td>1894097177032458244</td>\n",
       "      <td>Mon Feb 24 2025</td>\n",
       "      <td>@OrdinaryInds https://t.co/10czV0rjBF</td>\n",
       "      <td>https://x.com/bodhichristian/status/1894097177...</td>\n",
       "      <td>11</td>\n",
       "      <td>1</td>\n",
       "      <td>1</td>\n",
       "      <td>0</td>\n",
       "      <td>0</td>\n",
       "      <td>0</td>\n",
       "      <td>0</td>\n",
       "      <td>0</td>\n",
       "      <td>0</td>\n",
       "      <td>0</td>\n",
       "      <td>0</td>\n",
       "      <td>0</td>\n",
       "      <td>0</td>\n",
       "    </tr>\n",
       "  </tbody>\n",
       "</table>\n",
       "</div>"
      ],
      "text/plain": [
       "               Post id             Date  \\\n",
       "0  1894144221424026012  Mon Feb 24 2025   \n",
       "1  1894097177032458244  Mon Feb 24 2025   \n",
       "\n",
       "                               Post text  \\\n",
       "0      @KevinNaughtonJr it’s an acronym?   \n",
       "1  @OrdinaryInds https://t.co/10czV0rjBF   \n",
       "\n",
       "                                                Link  Impressions  Likes  \\\n",
       "0  https://x.com/bodhichristian/status/1894144221...          409      0   \n",
       "1  https://x.com/bodhichristian/status/1894097177...           11      1   \n",
       "\n",
       "   Engagements  Bookmarks  Share  New follows  Replies  Reposts  \\\n",
       "0            2          0      0            0        0        0   \n",
       "1            1          0      0            0        0        0   \n",
       "\n",
       "   Profile visits  Detail expands  Url clicks  Hashtag clicks  \\\n",
       "0               1               1           0               0   \n",
       "1               0               0           0               0   \n",
       "\n",
       "   Permalink clicks  \n",
       "0                 0  \n",
       "1                 0  "
      ]
     },
     "execution_count": 181,
     "metadata": {},
     "output_type": "execute_result"
    }
   ],
   "source": [
    "posts.head(2)"
   ]
  },
  {
   "cell_type": "markdown",
   "id": "075bfa5c-f5f4-4462-807c-d5f11cd2b0d8",
   "metadata": {},
   "source": [
    "### Clean dates"
   ]
  },
  {
   "cell_type": "code",
   "execution_count": 182,
   "id": "91fd9271-5cb4-4320-82de-ffd5c25ee1e7",
   "metadata": {},
   "outputs": [
    {
     "data": {
      "text/html": [
       "<div>\n",
       "<style scoped>\n",
       "    .dataframe tbody tr th:only-of-type {\n",
       "        vertical-align: middle;\n",
       "    }\n",
       "\n",
       "    .dataframe tbody tr th {\n",
       "        vertical-align: top;\n",
       "    }\n",
       "\n",
       "    .dataframe thead th {\n",
       "        text-align: right;\n",
       "    }\n",
       "</style>\n",
       "<table border=\"1\" class=\"dataframe\">\n",
       "  <thead>\n",
       "    <tr style=\"text-align: right;\">\n",
       "      <th></th>\n",
       "      <th>Post id</th>\n",
       "      <th>Date</th>\n",
       "      <th>Post text</th>\n",
       "      <th>Link</th>\n",
       "      <th>Impressions</th>\n",
       "      <th>Likes</th>\n",
       "      <th>Engagements</th>\n",
       "      <th>Bookmarks</th>\n",
       "      <th>Share</th>\n",
       "      <th>New follows</th>\n",
       "      <th>Replies</th>\n",
       "      <th>Reposts</th>\n",
       "      <th>Profile visits</th>\n",
       "      <th>Detail expands</th>\n",
       "      <th>Url clicks</th>\n",
       "      <th>Hashtag clicks</th>\n",
       "      <th>Permalink clicks</th>\n",
       "      <th>Weekday</th>\n",
       "    </tr>\n",
       "  </thead>\n",
       "  <tbody>\n",
       "    <tr>\n",
       "      <th>0</th>\n",
       "      <td>1894144221424026012</td>\n",
       "      <td>2025-02-24</td>\n",
       "      <td>@KevinNaughtonJr it’s an acronym?</td>\n",
       "      <td>https://x.com/bodhichristian/status/1894144221...</td>\n",
       "      <td>409</td>\n",
       "      <td>0</td>\n",
       "      <td>2</td>\n",
       "      <td>0</td>\n",
       "      <td>0</td>\n",
       "      <td>0</td>\n",
       "      <td>0</td>\n",
       "      <td>0</td>\n",
       "      <td>1</td>\n",
       "      <td>1</td>\n",
       "      <td>0</td>\n",
       "      <td>0</td>\n",
       "      <td>0</td>\n",
       "      <td>Mon</td>\n",
       "    </tr>\n",
       "    <tr>\n",
       "      <th>1</th>\n",
       "      <td>1894097177032458244</td>\n",
       "      <td>2025-02-23</td>\n",
       "      <td>@OrdinaryInds https://t.co/10czV0rjBF</td>\n",
       "      <td>https://x.com/bodhichristian/status/1894097177...</td>\n",
       "      <td>11</td>\n",
       "      <td>1</td>\n",
       "      <td>1</td>\n",
       "      <td>0</td>\n",
       "      <td>0</td>\n",
       "      <td>0</td>\n",
       "      <td>0</td>\n",
       "      <td>0</td>\n",
       "      <td>0</td>\n",
       "      <td>0</td>\n",
       "      <td>0</td>\n",
       "      <td>0</td>\n",
       "      <td>0</td>\n",
       "      <td>Sun</td>\n",
       "    </tr>\n",
       "  </tbody>\n",
       "</table>\n",
       "</div>"
      ],
      "text/plain": [
       "               Post id       Date                              Post text  \\\n",
       "0  1894144221424026012 2025-02-24      @KevinNaughtonJr it’s an acronym?   \n",
       "1  1894097177032458244 2025-02-23  @OrdinaryInds https://t.co/10czV0rjBF   \n",
       "\n",
       "                                                Link  Impressions  Likes  \\\n",
       "0  https://x.com/bodhichristian/status/1894144221...          409      0   \n",
       "1  https://x.com/bodhichristian/status/1894097177...           11      1   \n",
       "\n",
       "   Engagements  Bookmarks  Share  New follows  Replies  Reposts  \\\n",
       "0            2          0      0            0        0        0   \n",
       "1            1          0      0            0        0        0   \n",
       "\n",
       "   Profile visits  Detail expands  Url clicks  Hashtag clicks  \\\n",
       "0               1               1           0               0   \n",
       "1               0               0           0               0   \n",
       "\n",
       "   Permalink clicks Weekday  \n",
       "0                 0     Mon  \n",
       "1                 0     Sun  "
      ]
     },
     "execution_count": 182,
     "metadata": {},
     "output_type": "execute_result"
    }
   ],
   "source": [
    "# %a - abbreviated weekday name ('Mon')\n",
    "# %b - abbreviated month name ('Feb')\n",
    "# %d - day of the month ('25')\n",
    "# %Y - four digit year (2025)\n",
    "\n",
    "posts['Date'] = pd.to_datetime(overview['Date'], format='%a, %b %d, %Y')\n",
    "posts['Weekday'] = pd.Categorical(\n",
    "    posts['Date'].dt.strftime('%a'),\n",
    "    categories=['Sun', 'Mon', 'Tue', 'Wed', 'Thu', 'Fri', 'Sat'],\n",
    "    ordered=True\n",
    ")\n",
    "\n",
    "posts.head(2)"
   ]
  },
  {
   "cell_type": "markdown",
   "id": "11fa516b-055c-435e-98e1-aed812f9b997",
   "metadata": {},
   "source": [
    "### Post Data"
   ]
  },
  {
   "cell_type": "code",
   "execution_count": 183,
   "id": "5faace3e-e2aa-4d32-98d0-194c5d946dad",
   "metadata": {},
   "outputs": [
    {
     "name": "stdout",
     "output_type": "stream",
     "text": [
      "250 posts over the last 90 days, averaging ~83 posts monthly\n"
     ]
    }
   ],
   "source": [
    "total_posts = len(posts)\n",
    "monthly_average = round((total_posts / 3))\n",
    "print(f'{total_posts} posts over the last 90 days, averaging ~{monthly_average} posts monthly')"
   ]
  },
  {
   "cell_type": "markdown",
   "id": "33b75225-36f6-4a10-a486-5d90e678f040",
   "metadata": {},
   "source": [
    "### Posts by Weekday"
   ]
  },
  {
   "cell_type": "code",
   "execution_count": 199,
   "id": "cc2aa872-7efa-4ceb-a4de-25034db6537b",
   "metadata": {},
   "outputs": [
    {
     "data": {
      "image/png": "[encoded data removed]",
      "text/plain": [
       "<Figure size 640x480 with 1 Axes>"
      ]
     },
     "metadata": {},
     "output_type": "display_data"
    }
   ],
   "source": [
    "posts_by_weekday = posts.groupby('Weekday', observed=True).size()\n",
    "replies_by_weekday = posts.groupby('Weekday', observed=True)['Replies'].sum()\n",
    "\n",
    "plt.bar(posts_by_weekday.index, posts_by_weekday.values, label='Posts')\n",
    "plt.bar(replies_by_weekday.index, replies_by_weekday.values, color='green', label='Replies')\n",
    "\n",
    "plt.xlabel('Day of week')\n",
    "plt.ylabel('Post count')\n",
    "plt.title('Posts by Weekday')\n",
    "\n",
    "plt.ylim(0, (posts_by_weekday.max() * 1.2))  # 20% buffer for better visibility\n",
    "\n",
    "plt.legend()\n",
    "plt.show()"
   ]
  },
  {
   "cell_type": "code",
   "execution_count": 185,
   "id": "d7628b69-ed75-4488-afac-856ae4dca5c0",
   "metadata": {},
   "outputs": [
    {
     "name": "stdout",
     "output_type": "stream",
     "text": [
      "Users bookmarked your posts 848 times\n"
     ]
    }
   ],
   "source": [
    "total_bookmarks = posts['Bookmarks'].sum()\n",
    "print(f'Users bookmarked your posts {total_bookmarks} times')"
   ]
  },
  {
   "cell_type": "code",
   "execution_count": 186,
   "id": "84f25e75-5640-4d83-ac73-65cdec77b57b",
   "metadata": {},
   "outputs": [
    {
     "name": "stdout",
     "output_type": "stream",
     "text": [
      "Your posts brought 720 visits to your profile.\n"
     ]
    }
   ],
   "source": [
    "total_profile_visits = posts['Profile visits'].sum()\n",
    "print(f'Your posts brought {total_profile_visits} visits to your profile.')"
   ]
  },
  {
   "cell_type": "code",
   "execution_count": 187,
   "id": "d5db7dc4-46af-47c2-8165-b9ac6cbad56f",
   "metadata": {},
   "outputs": [
    {
     "name": "stdout",
     "output_type": "stream",
     "text": [
      "Your posts received an average of 7.212 likes.\n"
     ]
    }
   ],
   "source": [
    "total_likes = posts['Likes'].sum()\n",
    "avg_likes = total_likes / len(posts)\n",
    "print(f'Your posts received an average of {avg_likes} likes.')"
   ]
  },
  {
   "cell_type": "code",
   "execution_count": 188,
   "id": "339ca13d-da9b-42df-be77-39bbe2095b17",
   "metadata": {},
   "outputs": [
    {
     "name": "stdout",
     "output_type": "stream",
     "text": [
      "Top post of the last 90 days: \n",
      "decided it’s time to learn app intents. rigged up a simple use case with two intents, and exposed them to the system as a shortcut. code in replies ⬇️ https://t.co/jxXGOPH18r\n"
     ]
    }
   ],
   "source": [
    "top_post_text = posts[posts['Likes'] == posts['Likes'].max()]['Post text'].values[0]\n",
    "print(f'Top post of the last 90 days: \\n{top_post_text}')"
   ]
  },
  {
   "cell_type": "code",
   "execution_count": 189,
   "id": "65d7b34a-749d-4146-94d5-2aa409a71a42",
   "metadata": {},
   "outputs": [
    {
     "name": "stdout",
     "output_type": "stream",
     "text": [
      "Most verbose post of the last 90 days: \n",
      "had my first live coding interview today. not as great as i would’ve liked, but not as bad as it could have been. was tasked with building Conway’s Game of Life to simulate cell survival based on the state of neighboring cells. struggled with the 2D array logic checks, and https://t.co/gQfTreqJbw\n",
      "Word count: 51\n"
     ]
    }
   ],
   "source": [
    "op_posts = posts.copy()\n",
    "op_posts = op_posts[~op_posts['Post text'].str.startswith('@')]\n",
    "op_posts['word_count'] = op_posts['Post text'].str.split().str.len()\n",
    "max = op_posts['word_count'].max()\n",
    "most_verbose_post = op_posts[op_posts['word_count'] == max]['Post text'].values[0]\n",
    "print(f'Most verbose post of the last 90 days: \\n{most_verbose_post}')\n",
    "print(f'Word count: {max}')"
   ]
  },
  {
   "cell_type": "markdown",
   "id": "7765adef-6f48-4ff8-9d62-2fd790c34155",
   "metadata": {},
   "source": [
    "### Reply data"
   ]
  },
  {
   "cell_type": "code",
   "execution_count": 190,
   "id": "ff0f364b-4cbe-42b4-9473-e8589b889a89",
   "metadata": {},
   "outputs": [
    {
     "name": "stdout",
     "output_type": "stream",
     "text": [
      "Replies account for 51.2% of all posts\n"
     ]
    }
   ],
   "source": [
    "replies = posts['Post text'].str.startswith('@').sum()\n",
    "total_posts = len(posts)\n",
    "reply_rate = (replies / total_posts * 100).round(2)\n",
    "print(f'Replies account for {reply_rate}% of all posts')"
   ]
  },
  {
   "cell_type": "code",
   "execution_count": 191,
   "id": "2e5afc85-03ab-411a-8509-5d94df5b55af",
   "metadata": {},
   "outputs": [
    {
     "name": "stdout",
     "output_type": "stream",
     "text": [
      "@OrdinaryInds has received the most replies\n"
     ]
    }
   ],
   "source": [
    "replies_df = posts[posts['Post text'].str.startswith('@')]\n",
    "grouped_replies = replies_df.groupby(posts['Post text'].str.split().str[0]).size()\n",
    "most_replied = grouped_replies.idxmax()\n",
    "print(f'{most_replied} has received the most replies')"
   ]
  },
  {
   "cell_type": "code",
   "execution_count": null,
   "id": "c31e34a9-b475-47fa-9a0e-6227788b4508",
   "metadata": {},
   "outputs": [],
   "source": []
  }
 ],
 "metadata": {
  "kernelspec": {
   "display_name": "Python 3 (ipykernel)",
   "language": "python",
   "name": "python3"
  },
  "language_info": {
   "codemirror_mode": {
    "name": "ipython",
    "version": 3
   },
   "file_extension": ".py",
   "mimetype": "text/x-python",
   "name": "python",
   "nbconvert_exporter": "python",
   "pygments_lexer": "ipython3",
   "version": "3.12.8"
  }
 },
 "nbformat": 4,
 "nbformat_minor": 5
}
