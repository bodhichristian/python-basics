{
 "cells": [
  {
   "cell_type": "markdown",
   "id": "d51a40fc-935f-4742-af37-a29a305bc352",
   "metadata": {},
   "source": [
    "# Sets"
   ]
  },
  {
   "cell_type": "markdown",
   "id": "e9cc8179-081f-4345-a45d-0571fd1376f0",
   "metadata": {},
   "source": [
    "Useful for storing data for which order is not needed. Sets do not store duplicate elements."
   ]
  },
  {
   "cell_type": "code",
   "execution_count": 12,
   "id": "4984ea9d-4d30-48b6-8146-8ccd4314eed5",
   "metadata": {},
   "outputs": [
    {
     "data": {
      "text/plain": [
       "{0.512, 88, 'Christian', False}"
      ]
     },
     "execution_count": 12,
     "metadata": {},
     "output_type": "execute_result"
    }
   ],
   "source": [
    "example = set()\n",
    "example.add(False)\n",
    "example.add(88)\n",
    "example.add(0.512)\n",
    "example.add('Christian')\n",
    "example"
   ]
  },
  {
   "cell_type": "code",
   "execution_count": 13,
   "id": "b6b54c74-c739-4323-8c49-029b5762b6cd",
   "metadata": {},
   "outputs": [
    {
     "data": {
      "text/plain": [
       "{0.512, 42, 88, 'Christian', False}"
      ]
     },
     "execution_count": 13,
     "metadata": {},
     "output_type": "execute_result"
    }
   ],
   "source": [
    "example.add(42)\n",
    "example"
   ]
  },
  {
   "cell_type": "code",
   "execution_count": 15,
   "id": "29585c20-ee38-4d23-985e-de7d4c729627",
   "metadata": {},
   "outputs": [
    {
     "data": {
      "text/plain": [
       "{0.512, 88, 'Christian', False}"
      ]
     },
     "execution_count": 15,
     "metadata": {},
     "output_type": "execute_result"
    }
   ],
   "source": [
    "example.remove(42)\n",
    "example"
   ]
  },
  {
   "cell_type": "markdown",
   "id": "c6007713-5a42-4fb5-ae84-4a686f8d3432",
   "metadata": {},
   "source": [
    "## Discard"
   ]
  },
  {
   "cell_type": "markdown",
   "id": "23b733e2-1044-4aef-9619-691803ce3bff",
   "metadata": {},
   "source": [
    "Removing an element that does not exist within the set throws an error. The discard method is useful f we want to continue the program without an error when removing set elements."
   ]
  },
  {
   "cell_type": "code",
   "execution_count": 17,
   "id": "43e3c234-2e5e-4d14-aa24-2e77ecadfa9a",
   "metadata": {},
   "outputs": [
    {
     "ename": "KeyError",
     "evalue": "42",
     "output_type": "error",
     "traceback": [
      "\u001b[0;31m---------------------------------------------------------------------------\u001b[0m",
      "\u001b[0;31mKeyError\u001b[0m                                  Traceback (most recent call last)",
      "Cell \u001b[0;32mIn[17], line 1\u001b[0m\n\u001b[0;32m----> 1\u001b[0m \u001b[43mexample\u001b[49m\u001b[38;5;241;43m.\u001b[39;49m\u001b[43mremove\u001b[49m\u001b[43m(\u001b[49m\u001b[38;5;241;43m42\u001b[39;49m\u001b[43m)\u001b[49m\n",
      "\u001b[0;31mKeyError\u001b[0m: 42"
     ]
    }
   ],
   "source": [
    "# throws an error\n",
    "# example.remove(42) "
   ]
  },
  {
   "cell_type": "code",
   "execution_count": 19,
   "id": "bd0c4112-d767-44a0-a4b9-ff70ee9a986c",
   "metadata": {},
   "outputs": [
    {
     "data": {
      "text/plain": [
       "{0.512, 88, 'Christian', False}"
      ]
     },
     "execution_count": 19,
     "metadata": {},
     "output_type": "execute_result"
    }
   ],
   "source": [
    "example.discard(42)\n",
    "example"
   ]
  },
  {
   "cell_type": "markdown",
   "id": "87136964-85ce-4405-9dea-d98f116a9a37",
   "metadata": {},
   "source": [
    "## Create a set with a list"
   ]
  },
  {
   "cell_type": "code",
   "execution_count": 23,
   "id": "27b7eaec-d053-4bbe-a684-c6e6738ab481",
   "metadata": {},
   "outputs": [
    {
     "data": {
      "text/plain": [
       "4"
      ]
     },
     "execution_count": 23,
     "metadata": {},
     "output_type": "execute_result"
    }
   ],
   "source": [
    "data = set([28, True, 2.71828, 'Helium'])\n",
    "len(data)"
   ]
  },
  {
   "cell_type": "markdown",
   "id": "fc43aa19-54ad-4c08-97e9-1a4e09be869e",
   "metadata": {},
   "source": [
    "## Clear method"
   ]
  },
  {
   "cell_type": "code",
   "execution_count": 25,
   "id": "77b90343-b842-4530-8809-cbf68e2630d9",
   "metadata": {},
   "outputs": [
    {
     "data": {
      "text/plain": [
       "0"
      ]
     },
     "execution_count": 25,
     "metadata": {},
     "output_type": "execute_result"
    }
   ],
   "source": [
    "data.clear()\n",
    "len(data)"
   ]
  },
  {
   "cell_type": "markdown",
   "id": "47fa8a8b-0899-4acc-9a0c-847a22824758",
   "metadata": {},
   "source": [
    "## Union"
   ]
  },
  {
   "cell_type": "code",
   "execution_count": 31,
   "id": "9eefa667-cea7-4cf5-8d0b-76721f209f18",
   "metadata": {},
   "outputs": [],
   "source": [
    "odds = set([1, 3, 5, 7, 9])\n",
    "evens = set([2, 4, 6, 8, 10])\n",
    "primes = set([2, 3, 5, 7])\n",
    "composites = set([4, 6, 8, 9 , 10])"
   ]
  },
  {
   "cell_type": "code",
   "execution_count": 32,
   "id": "58a91117-d989-4278-9cff-f1e855dab2f9",
   "metadata": {},
   "outputs": [
    {
     "name": "stdout",
     "output_type": "stream",
     "text": [
      "{1, 2, 3, 4, 5, 6, 7, 8, 9, 10}\n",
      "{1, 2, 3, 4, 5, 6, 7, 8, 9, 10}\n"
     ]
    }
   ],
   "source": [
    "union1 = odds.union(evens)\n",
    "union2 = evens.union(odds)\n",
    "print(union1)\n",
    "print(union2)"
   ]
  },
  {
   "cell_type": "markdown",
   "id": "f27ca637-b9bd-41e5-8479-135421bfda8d",
   "metadata": {},
   "source": [
    "## Intersection"
   ]
  },
  {
   "cell_type": "code",
   "execution_count": 33,
   "id": "5cf840b8-891e-49b1-a012-85c91f40b167",
   "metadata": {},
   "outputs": [
    {
     "data": {
      "text/plain": [
       "{3, 5, 7}"
      ]
     },
     "execution_count": 33,
     "metadata": {},
     "output_type": "execute_result"
    }
   ],
   "source": [
    "odds.intersection(primes)"
   ]
  },
  {
   "cell_type": "code",
   "execution_count": 35,
   "id": "5b081d1a-2eb2-4b3c-98bd-99ef3bf22a4d",
   "metadata": {},
   "outputs": [
    {
     "data": {
      "text/plain": [
       "{2}"
      ]
     },
     "execution_count": 35,
     "metadata": {},
     "output_type": "execute_result"
    }
   ],
   "source": [
    "primes.intersection(evens)"
   ]
  },
  {
   "cell_type": "code",
   "execution_count": 36,
   "id": "90064796-f32d-4ab2-adc4-3bf554419c3f",
   "metadata": {},
   "outputs": [
    {
     "data": {
      "text/plain": [
       "set()"
      ]
     },
     "execution_count": 36,
     "metadata": {},
     "output_type": "execute_result"
    }
   ],
   "source": [
    "evens.intersection(odds) # empty set returned when no intersectional elements "
   ]
  },
  {
   "cell_type": "markdown",
   "id": "8c76f3f2-61aa-477b-8c27-9fdabd5bc907",
   "metadata": {},
   "source": [
    "## Check element existence"
   ]
  },
  {
   "cell_type": "code",
   "execution_count": 41,
   "id": "934342b3-8930-463d-995c-9be0c6fd4df5",
   "metadata": {},
   "outputs": [
    {
     "data": {
      "text/plain": [
       "True"
      ]
     },
     "execution_count": 41,
     "metadata": {},
     "output_type": "execute_result"
    }
   ],
   "source": [
    "new_set = set([2, 3, 4, 5])\n",
    "2 in new_set"
   ]
  },
  {
   "cell_type": "code",
   "execution_count": 43,
   "id": "273ef5d1-90f2-4ed9-8d9d-b20e80ddad3e",
   "metadata": {},
   "outputs": [
    {
     "data": {
      "text/plain": [
       "True"
      ]
     },
     "execution_count": 43,
     "metadata": {},
     "output_type": "execute_result"
    }
   ],
   "source": [
    "9 not in evens"
   ]
  },
  {
   "cell_type": "code",
   "execution_count": null,
   "id": "2f2d842d-d264-44fd-8056-c335659e03b1",
   "metadata": {},
   "outputs": [],
   "source": []
  }
 ],
 "metadata": {
  "kernelspec": {
   "display_name": "Python 3 (ipykernel)",
   "language": "python",
   "name": "python3"
  },
  "language_info": {
   "codemirror_mode": {
    "name": "ipython",
    "version": 3
   },
   "file_extension": ".py",
   "mimetype": "text/x-python",
   "name": "python",
   "nbconvert_exporter": "python",
   "pygments_lexer": "ipython3",
   "version": "3.12.8"
  }
 },
 "nbformat": 4,
 "nbformat_minor": 5
}
