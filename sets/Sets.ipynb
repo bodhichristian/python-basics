{
 "cells": [
  {
   "cell_type": "markdown",
   "id": "d51a40fc-935f-4742-af37-a29a305bc352",
   "metadata": {},
   "source": [
    "# Sets"
   ]
  },
  {
   "cell_type": "markdown",
   "id": "e9cc8179-081f-4345-a45d-0571fd1376f0",
   "metadata": {},
   "source": [
    "Useful for storing data for which order is not needed. Sets do not store duplicate elements."
   ]
  },
  {
   "cell_type": "code",
   "execution_count": 4,
   "id": "4984ea9d-4d30-48b6-8146-8ccd4314eed5",
   "metadata": {},
   "outputs": [
    {
     "data": {
      "text/plain": [
       "{0.512, 88, 'Christian', False}"
      ]
     },
     "execution_count": 4,
     "metadata": {},
     "output_type": "execute_result"
    }
   ],
   "source": [
    "example = set()\n",
    "example.add(False)\n",
    "example.add(88)\n",
    "example.add(0.512)\n",
    "example.add('Christian')\n",
    "example"
   ]
  },
  {
   "cell_type": "code",
   "execution_count": 5,
   "id": "b6b54c74-c739-4323-8c49-029b5762b6cd",
   "metadata": {},
   "outputs": [
    {
     "data": {
      "text/plain": [
       "{0.512, 42, 88, 'Christian', False}"
      ]
     },
     "execution_count": 5,
     "metadata": {},
     "output_type": "execute_result"
    }
   ],
   "source": [
    "example.add(42)\n",
    "example"
   ]
  },
  {
   "cell_type": "code",
   "execution_count": 6,
   "id": "29585c20-ee38-4d23-985e-de7d4c729627",
   "metadata": {},
   "outputs": [
    {
     "data": {
      "text/plain": [
       "{0.512, 88, 'Christian', False}"
      ]
     },
     "execution_count": 6,
     "metadata": {},
     "output_type": "execute_result"
    }
   ],
   "source": [
    "example.remove(42)\n",
    "example"
   ]
  },
  {
   "cell_type": "markdown",
   "id": "463a36a8-220b-475a-a443-c64e4c0cbda0",
   "metadata": {},
   "source": [
    "## Update "
   ]
  },
  {
   "cell_type": "markdown",
   "id": "e6bfef79-bb03-4592-9ce9-0f0b86daaa2a",
   "metadata": {},
   "source": [
    "Update will add values to a set that it does not already store."
   ]
  },
  {
   "cell_type": "code",
   "execution_count": 7,
   "id": "26f02822-f99d-43a8-bd7a-8ae57691c4d5",
   "metadata": {},
   "outputs": [
    {
     "name": "stdout",
     "output_type": "stream",
     "text": [
      "{1, 2, 3, 4, 5, 6, 7}\n"
     ]
    }
   ],
   "source": [
    "nums1 = set([1, 2, 3, 4, 5])\n",
    "nums2 = set([3, 4, 5, 6, 7])\n",
    "\n",
    "nums1.update(nums2)\n",
    "print(nums1)"
   ]
  },
  {
   "cell_type": "markdown",
   "id": "c6007713-5a42-4fb5-ae84-4a686f8d3432",
   "metadata": {},
   "source": [
    "## Discard"
   ]
  },
  {
   "cell_type": "markdown",
   "id": "23b733e2-1044-4aef-9619-691803ce3bff",
   "metadata": {},
   "source": [
    "Removing an element that does not exist within the set throws an error. The discard method is useful f we want to continue the program without an error when removing set elements."
   ]
  },
  {
   "cell_type": "code",
   "execution_count": 8,
   "id": "43e3c234-2e5e-4d14-aa24-2e77ecadfa9a",
   "metadata": {},
   "outputs": [],
   "source": [
    "# throws an error\n",
    "# example.remove(42) "
   ]
  },
  {
   "cell_type": "code",
   "execution_count": 9,
   "id": "bd0c4112-d767-44a0-a4b9-ff70ee9a986c",
   "metadata": {},
   "outputs": [
    {
     "data": {
      "text/plain": [
       "{0.512, 88, 'Christian', False}"
      ]
     },
     "execution_count": 9,
     "metadata": {},
     "output_type": "execute_result"
    }
   ],
   "source": [
    "example.discard(42)\n",
    "example"
   ]
  },
  {
   "cell_type": "markdown",
   "id": "87136964-85ce-4405-9dea-d98f116a9a37",
   "metadata": {},
   "source": [
    "## Create a set with a list"
   ]
  },
  {
   "cell_type": "code",
   "execution_count": 10,
   "id": "27b7eaec-d053-4bbe-a684-c6e6738ab481",
   "metadata": {},
   "outputs": [
    {
     "data": {
      "text/plain": [
       "4"
      ]
     },
     "execution_count": 10,
     "metadata": {},
     "output_type": "execute_result"
    }
   ],
   "source": [
    "data = set([28, True, 2.71828, 'Helium'])\n",
    "len(data)"
   ]
  },
  {
   "cell_type": "markdown",
   "id": "fc43aa19-54ad-4c08-97e9-1a4e09be869e",
   "metadata": {},
   "source": [
    "## Clear method"
   ]
  },
  {
   "cell_type": "code",
   "execution_count": 11,
   "id": "77b90343-b842-4530-8809-cbf68e2630d9",
   "metadata": {},
   "outputs": [
    {
     "data": {
      "text/plain": [
       "0"
      ]
     },
     "execution_count": 11,
     "metadata": {},
     "output_type": "execute_result"
    }
   ],
   "source": [
    "data.clear()\n",
    "len(data)"
   ]
  },
  {
   "cell_type": "markdown",
   "id": "47fa8a8b-0899-4acc-9a0c-847a22824758",
   "metadata": {},
   "source": [
    "## Union"
   ]
  },
  {
   "cell_type": "code",
   "execution_count": 12,
   "id": "9eefa667-cea7-4cf5-8d0b-76721f209f18",
   "metadata": {},
   "outputs": [],
   "source": [
    "odds = set([1, 3, 5, 7, 9])\n",
    "evens = set([2, 4, 6, 8, 10])\n",
    "primes = set([2, 3, 5, 7])\n",
    "composites = set([4, 6, 8, 9 , 10])"
   ]
  },
  {
   "cell_type": "code",
   "execution_count": 13,
   "id": "58a91117-d989-4278-9cff-f1e855dab2f9",
   "metadata": {},
   "outputs": [
    {
     "name": "stdout",
     "output_type": "stream",
     "text": [
      "{1, 2, 3, 4, 5, 6, 7, 8, 9, 10}\n",
      "{1, 2, 3, 4, 5, 6, 7, 8, 9, 10}\n"
     ]
    }
   ],
   "source": [
    "union1 = odds.union(evens)\n",
    "union2 = evens.union(odds)\n",
    "print(union1)\n",
    "print(union2)"
   ]
  },
  {
   "cell_type": "markdown",
   "id": "f27ca637-b9bd-41e5-8479-135421bfda8d",
   "metadata": {},
   "source": [
    "## Intersection"
   ]
  },
  {
   "cell_type": "code",
   "execution_count": 14,
   "id": "5cf840b8-891e-49b1-a012-85c91f40b167",
   "metadata": {},
   "outputs": [
    {
     "data": {
      "text/plain": [
       "{3, 5, 7}"
      ]
     },
     "execution_count": 14,
     "metadata": {},
     "output_type": "execute_result"
    }
   ],
   "source": [
    "odds.intersection(primes)"
   ]
  },
  {
   "cell_type": "code",
   "execution_count": 15,
   "id": "5b081d1a-2eb2-4b3c-98bd-99ef3bf22a4d",
   "metadata": {},
   "outputs": [
    {
     "data": {
      "text/plain": [
       "{2}"
      ]
     },
     "execution_count": 15,
     "metadata": {},
     "output_type": "execute_result"
    }
   ],
   "source": [
    "primes.intersection(evens)"
   ]
  },
  {
   "cell_type": "code",
   "execution_count": 16,
   "id": "90064796-f32d-4ab2-adc4-3bf554419c3f",
   "metadata": {},
   "outputs": [
    {
     "data": {
      "text/plain": [
       "set()"
      ]
     },
     "execution_count": 16,
     "metadata": {},
     "output_type": "execute_result"
    }
   ],
   "source": [
    "evens.intersection(odds) # empty set returned when no intersectional elements "
   ]
  },
  {
   "cell_type": "markdown",
   "id": "3c138be4-c1ee-47e4-995e-3d0ba21bff24",
   "metadata": {},
   "source": [
    "## Difference"
   ]
  },
  {
   "cell_type": "markdown",
   "id": "e30374dc-250f-424e-a1b7-d017f270178f",
   "metadata": {},
   "source": [
    "Returns elements present in the set calling the method that are not in the argued set."
   ]
  },
  {
   "cell_type": "code",
   "execution_count": 19,
   "id": "4a7e132e-dcf1-4ddb-865f-e85cd4c1a2f9",
   "metadata": {},
   "outputs": [
    {
     "name": "stdout",
     "output_type": "stream",
     "text": [
      "{1, 9}\n",
      "{2}\n"
     ]
    }
   ],
   "source": [
    "diff1 = odds.difference(primes)\n",
    "diff2 = primes.difference(odds)\n",
    "\n",
    "print(diff1)\n",
    "print(diff2)"
   ]
  },
  {
   "cell_type": "markdown",
   "id": "8c76f3f2-61aa-477b-8c27-9fdabd5bc907",
   "metadata": {},
   "source": [
    "## Check element existence"
   ]
  },
  {
   "cell_type": "code",
   "execution_count": 18,
   "id": "934342b3-8930-463d-995c-9be0c6fd4df5",
   "metadata": {},
   "outputs": [
    {
     "data": {
      "text/plain": [
       "True"
      ]
     },
     "execution_count": 18,
     "metadata": {},
     "output_type": "execute_result"
    }
   ],
   "source": [
    "new_set = set([2, 3, 4, 5])\n",
    "2 in new_set"
   ]
  },
  {
   "cell_type": "code",
   "execution_count": 60,
   "id": "273ef5d1-90f2-4ed9-8d9d-b20e80ddad3e",
   "metadata": {},
   "outputs": [
    {
     "data": {
      "text/plain": [
       "True"
      ]
     },
     "execution_count": 60,
     "metadata": {},
     "output_type": "execute_result"
    }
   ],
   "source": [
    "9 not in evens"
   ]
  },
  {
   "cell_type": "markdown",
   "id": "e694f853-0a5f-415f-a900-3a63f8a2c7c8",
   "metadata": {},
   "source": [
    "## Sets help"
   ]
  },
  {
   "cell_type": "code",
   "execution_count": 45,
   "id": "bd4a087c-5eae-43d4-8485-572b56c2194e",
   "metadata": {},
   "outputs": [
    {
     "name": "stdout",
     "output_type": "stream",
     "text": [
      "Help on class set in module builtins:\n",
      "\n",
      "class set(object)\n",
      " |  set() -> new empty set object\n",
      " |  set(iterable) -> new set object\n",
      " |\n",
      " |  Build an unordered collection of unique elements.\n",
      " |\n",
      " |  Methods defined here:\n",
      " |\n",
      " |  __and__(self, value, /)\n",
      " |      Return self&value.\n",
      " |\n",
      " |  __contains__(...)\n",
      " |      x.__contains__(y) <==> y in x.\n",
      " |\n",
      " |  __eq__(self, value, /)\n",
      " |      Return self==value.\n",
      " |\n",
      " |  __ge__(self, value, /)\n",
      " |      Return self>=value.\n",
      " |\n",
      " |  __getattribute__(self, name, /)\n",
      " |      Return getattr(self, name).\n",
      " |\n",
      " |  __gt__(self, value, /)\n",
      " |      Return self>value.\n",
      " |\n",
      " |  __iand__(self, value, /)\n",
      " |      Return self&=value.\n",
      " |\n",
      " |  __init__(self, /, *args, **kwargs)\n",
      " |      Initialize self.  See help(type(self)) for accurate signature.\n",
      " |\n",
      " |  __ior__(self, value, /)\n",
      " |      Return self|=value.\n",
      " |\n",
      " |  __isub__(self, value, /)\n",
      " |      Return self-=value.\n",
      " |\n",
      " |  __iter__(self, /)\n",
      " |      Implement iter(self).\n",
      " |\n",
      " |  __ixor__(self, value, /)\n",
      " |      Return self^=value.\n",
      " |\n",
      " |  __le__(self, value, /)\n",
      " |      Return self<=value.\n",
      " |\n",
      " |  __len__(self, /)\n",
      " |      Return len(self).\n",
      " |\n",
      " |  __lt__(self, value, /)\n",
      " |      Return self<value.\n",
      " |\n",
      " |  __ne__(self, value, /)\n",
      " |      Return self!=value.\n",
      " |\n",
      " |  __or__(self, value, /)\n",
      " |      Return self|value.\n",
      " |\n",
      " |  __rand__(self, value, /)\n",
      " |      Return value&self.\n",
      " |\n",
      " |  __reduce__(...)\n",
      " |      Return state information for pickling.\n",
      " |\n",
      " |  __repr__(self, /)\n",
      " |      Return repr(self).\n",
      " |\n",
      " |  __ror__(self, value, /)\n",
      " |      Return value|self.\n",
      " |\n",
      " |  __rsub__(self, value, /)\n",
      " |      Return value-self.\n",
      " |\n",
      " |  __rxor__(self, value, /)\n",
      " |      Return value^self.\n",
      " |\n",
      " |  __sizeof__(...)\n",
      " |      S.__sizeof__() -> size of S in memory, in bytes\n",
      " |\n",
      " |  __sub__(self, value, /)\n",
      " |      Return self-value.\n",
      " |\n",
      " |  __xor__(self, value, /)\n",
      " |      Return self^value.\n",
      " |\n",
      " |  add(...)\n",
      " |      Add an element to a set.\n",
      " |\n",
      " |      This has no effect if the element is already present.\n",
      " |\n",
      " |  clear(...)\n",
      " |      Remove all elements from this set.\n",
      " |\n",
      " |  copy(...)\n",
      " |      Return a shallow copy of a set.\n",
      " |\n",
      " |  difference(...)\n",
      " |      Return the difference of two or more sets as a new set.\n",
      " |\n",
      " |      (i.e. all elements that are in this set but not the others.)\n",
      " |\n",
      " |  difference_update(...)\n",
      " |      Remove all elements of another set from this set.\n",
      " |\n",
      " |  discard(...)\n",
      " |      Remove an element from a set if it is a member.\n",
      " |\n",
      " |      Unlike set.remove(), the discard() method does not raise\n",
      " |      an exception when an element is missing from the set.\n",
      " |\n",
      " |  intersection(...)\n",
      " |      Return the intersection of two sets as a new set.\n",
      " |\n",
      " |      (i.e. all elements that are in both sets.)\n",
      " |\n",
      " |  intersection_update(...)\n",
      " |      Update a set with the intersection of itself and another.\n",
      " |\n",
      " |  isdisjoint(...)\n",
      " |      Return True if two sets have a null intersection.\n",
      " |\n",
      " |  issubset(self, other, /)\n",
      " |      Test whether every element in the set is in other.\n",
      " |\n",
      " |  issuperset(self, other, /)\n",
      " |      Test whether every element in other is in the set.\n",
      " |\n",
      " |  pop(...)\n",
      " |      Remove and return an arbitrary set element.\n",
      " |      Raises KeyError if the set is empty.\n",
      " |\n",
      " |  remove(...)\n",
      " |      Remove an element from a set; it must be a member.\n",
      " |\n",
      " |      If the element is not a member, raise a KeyError.\n",
      " |\n",
      " |  symmetric_difference(...)\n",
      " |      Return the symmetric difference of two sets as a new set.\n",
      " |\n",
      " |      (i.e. all elements that are in exactly one of the sets.)\n",
      " |\n",
      " |  symmetric_difference_update(...)\n",
      " |      Update a set with the symmetric difference of itself and another.\n",
      " |\n",
      " |  union(...)\n",
      " |      Return the union of sets as a new set.\n",
      " |\n",
      " |      (i.e. all elements that are in either set.)\n",
      " |\n",
      " |  update(...)\n",
      " |      Update a set with the union of itself and others.\n",
      " |\n",
      " |  ----------------------------------------------------------------------\n",
      " |  Class methods defined here:\n",
      " |\n",
      " |  __class_getitem__(...)\n",
      " |      See PEP 585\n",
      " |\n",
      " |  ----------------------------------------------------------------------\n",
      " |  Static methods defined here:\n",
      " |\n",
      " |  __new__(*args, **kwargs)\n",
      " |      Create and return a new object.  See help(type) for accurate signature.\n",
      " |\n",
      " |  ----------------------------------------------------------------------\n",
      " |  Data and other attributes defined here:\n",
      " |\n",
      " |  __hash__ = None\n",
      "\n"
     ]
    }
   ],
   "source": [
    "help(set)"
   ]
  },
  {
   "cell_type": "code",
   "execution_count": null,
   "id": "9ba7a24e-b799-4bc8-a7e1-c289a9a846de",
   "metadata": {},
   "outputs": [],
   "source": []
  }
 ],
 "metadata": {
  "kernelspec": {
   "display_name": "Python 3 (ipykernel)",
   "language": "python",
   "name": "python3"
  },
  "language_info": {
   "codemirror_mode": {
    "name": "ipython",
    "version": 3
   },
   "file_extension": ".py",
   "mimetype": "text/x-python",
   "name": "python",
   "nbconvert_exporter": "python",
   "pygments_lexer": "ipython3",
   "version": "3.12.8"
  }
 },
 "nbformat": 4,
 "nbformat_minor": 5
}
