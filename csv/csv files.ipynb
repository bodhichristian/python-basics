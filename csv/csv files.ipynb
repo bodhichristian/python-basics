{
 "cells": [
  {
   "cell_type": "markdown",
   "id": "89389d5c-0450-48f0-85b2-c9bb65d18ef9",
   "metadata": {},
   "source": [
    "## Comma-separated values"
   ]
  },
  {
   "cell_type": "markdown",
   "id": "31f9a1c8-d78b-428a-8e1c-9f19e538fec2",
   "metadata": {},
   "source": [
    "Example csv as plain text:\n",
    "\n",
    "Title, Year Released, Director\n",
    "The Godfather, 1972, Francis Ford Coppola The Shawshank Redemption, 1994, Frank Darabont\n",
    "Citizen Kane, 1941, 0rson Welles\n",
    "Gone with the wind, 1939, victor Fleming The Sound of Music, 1965, Robert wise Spirited Away, 2001, Hayao Miyazaki\n",
    "\"The Good, the Bad and the Ugly\"\n",
    "', 1966, Sergio Leone\n",
    "It's a Wonderful Life, 1946, Frank Capra Amadeus, 1984, Milos Forman\n",
    "The Lord of the Rings: The Return of the King, 2003, Peter Jackson Saving Private Ryan, 1998, Steven Spielberg Rear window, ,Alfred Hitchcock Rocky, 1976, John G. Avildsen"
   ]
  },
  {
   "cell_type": "markdown",
   "id": "88ae0c1e-4140-40c7-8545-8a203a85b51a",
   "metadata": {},
   "source": [
    "The first row of a csv file is usually a header (column names). Whenever there is no value between commas, the 'cell' is null."
   ]
  },
  {
   "cell_type": "code",
   "execution_count": 34,
   "id": "742ceb37-f920-4de4-b6c1-3e7cc6ba0cc4",
   "metadata": {},
   "outputs": [],
   "source": [
    "path = 'google_stock.csv'\n",
    "\n",
    "file = open(path)"
   ]
  },
  {
   "cell_type": "code",
   "execution_count": 58,
   "id": "c4d77f26-70c9-4369-bd27-7732e59d5f1e",
   "metadata": {},
   "outputs": [],
   "source": [
    "# iterate over lines in a file\n",
    "# for line in file[]:\n",
    "    # print(line)"
   ]
  },
  {
   "cell_type": "markdown",
   "id": "62d9cdab-e36b-4254-bf72-aad698954cda",
   "metadata": {},
   "source": [
    "## List comprehension"
   ]
  },
  {
   "cell_type": "markdown",
   "id": "edd6b70f-edaa-4732-a2a9-6935eea9b7b2",
   "metadata": {},
   "source": [
    "List comprehension may be useful in constructing csv contents into useful data"
   ]
  },
  {
   "cell_type": "code",
   "execution_count": 36,
   "id": "1d65a408-148c-4364-8f77-96c95d9d0278",
   "metadata": {},
   "outputs": [
    {
     "data": {
      "text/plain": [
       "'Date,Open,High,Low,Close,Volume,Adj Close\\n'"
      ]
     },
     "execution_count": 36,
     "metadata": {},
     "output_type": "execute_result"
    }
   ],
   "source": [
    "lines = [line for line in open(path)]\n",
    "lines[0]"
   ]
  },
  {
   "cell_type": "code",
   "execution_count": 37,
   "id": "6396b8fd-3bf1-45b3-b79c-1a1b9bbf0b37",
   "metadata": {},
   "outputs": [
    {
     "data": {
      "text/plain": [
       "'Date,Open,High,Low,Close,Volume,Adj Close'"
      ]
     },
     "execution_count": 37,
     "metadata": {},
     "output_type": "execute_result"
    }
   ],
   "source": [
    "lines[0].strip()"
   ]
  },
  {
   "cell_type": "code",
   "execution_count": 38,
   "id": "a6b330d3-3176-4a73-a8d3-9ee4be6a293e",
   "metadata": {},
   "outputs": [
    {
     "data": {
      "text/plain": [
       "['Date', 'Open', 'High', 'Low', 'Close', 'Volume', 'Adj Close']"
      ]
     },
     "execution_count": 38,
     "metadata": {},
     "output_type": "execute_result"
    }
   ],
   "source": [
    "lines[0].strip().split(',')"
   ]
  },
  {
   "cell_type": "code",
   "execution_count": 39,
   "id": "dfb628de-4f14-41bd-a305-3d5336518d52",
   "metadata": {},
   "outputs": [
    {
     "data": {
      "text/plain": [
       "['8/19/2014',\n",
       " '585.002622',\n",
       " '587.342658',\n",
       " '584.002627',\n",
       " '586.862643',\n",
       " '978600',\n",
       " '586.862643']"
      ]
     },
     "execution_count": 39,
     "metadata": {},
     "output_type": "execute_result"
    }
   ],
   "source": [
    "dataset = [line.strip().split(',') for line in open(path)]\n",
    "dataset[1]"
   ]
  },
  {
   "cell_type": "markdown",
   "id": "e4bdeea8-eeb8-4988-8ba7-b617700ba8f0",
   "metadata": {},
   "source": [
    "## CSV module"
   ]
  },
  {
   "cell_type": "code",
   "execution_count": 40,
   "id": "24d3522d-cb3c-4950-852c-14025e9b0f1b",
   "metadata": {},
   "outputs": [
    {
     "data": {
      "text/plain": [
       "['Dialect',\n",
       " 'DictReader',\n",
       " 'DictWriter',\n",
       " 'Error',\n",
       " 'QUOTE_ALL',\n",
       " 'QUOTE_MINIMAL',\n",
       " 'QUOTE_NONE',\n",
       " 'QUOTE_NONNUMERIC',\n",
       " 'QUOTE_NOTNULL',\n",
       " 'QUOTE_STRINGS',\n",
       " 'Sniffer',\n",
       " 'StringIO',\n",
       " '_Dialect',\n",
       " '__all__',\n",
       " '__builtins__',\n",
       " '__cached__',\n",
       " '__doc__',\n",
       " '__file__',\n",
       " '__loader__',\n",
       " '__name__',\n",
       " '__package__',\n",
       " '__spec__',\n",
       " '__version__',\n",
       " 'excel',\n",
       " 'excel_tab',\n",
       " 'field_size_limit',\n",
       " 'get_dialect',\n",
       " 'list_dialects',\n",
       " 're',\n",
       " 'reader',\n",
       " 'register_dialect',\n",
       " 'types',\n",
       " 'unix_dialect',\n",
       " 'unregister_dialect',\n",
       " 'writer']"
      ]
     },
     "execution_count": 40,
     "metadata": {},
     "output_type": "execute_result"
    }
   ],
   "source": [
    "import csv\n",
    "dir(csv)"
   ]
  },
  {
   "cell_type": "code",
   "execution_count": 54,
   "id": "d2eb2c28-8060-49fa-963d-531febc57a95",
   "metadata": {},
   "outputs": [],
   "source": [
    "new_file = open(path, newline='') # empty string new line arg ensures a clean line start"
   ]
  },
  {
   "cell_type": "code",
   "execution_count": 55,
   "id": "9c670879-517e-44b8-82d1-a3b8dfae8a2d",
   "metadata": {},
   "outputs": [],
   "source": [
    "reader = csv.reader(new_file) # reader object is an iterator\n",
    "header = next(reader) # iterator starts at the beginning of the file, subsequent calls return subsequent lines"
   ]
  },
  {
   "cell_type": "code",
   "execution_count": 56,
   "id": "7b41b85d-e585-4508-a2cc-2fbd1a378f90",
   "metadata": {},
   "outputs": [
    {
     "name": "stdout",
     "output_type": "stream",
     "text": [
      "[datetime.datetime(2014, 8, 19, 0, 0), 585.002622, 587.342658, 584.002627, 586.862643, 978600, 586.862643]\n"
     ]
    }
   ],
   "source": [
    "from datetime import datetime\n",
    "\n",
    "data = []\n",
    "\n",
    "for row in reader:\n",
    "    date = datetime.strptime(row[0], '%m/%d/%Y') # string-parse time\n",
    "    open_price = float(row[1])\n",
    "    high_price = float(row[2])\n",
    "    low_price = float(row[3])\n",
    "    close_price = float(row[4])\n",
    "    volume = int(row[5])\n",
    "    adj_close = float(row[6])\n",
    "\n",
    "    data.append([date, open_price, high_price, low_price, close_price, volume, adj_close])\n",
    "\n",
    "print(data[0])"
   ]
  },
  {
   "cell_type": "code",
   "execution_count": null,
   "id": "556a58a3-0e44-43ff-841a-7532462cedd1",
   "metadata": {},
   "outputs": [],
   "source": []
  }
 ],
 "metadata": {
  "kernelspec": {
   "display_name": "Python 3 (ipykernel)",
   "language": "python",
   "name": "python3"
  },
  "language_info": {
   "codemirror_mode": {
    "name": "ipython",
    "version": 3
   },
   "file_extension": ".py",
   "mimetype": "text/x-python",
   "name": "python",
   "nbconvert_exporter": "python",
   "pygments_lexer": "ipython3",
   "version": "3.12.8"
  }
 },
 "nbformat": 4,
 "nbformat_minor": 5
}
