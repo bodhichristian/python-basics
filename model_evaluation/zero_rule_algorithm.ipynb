{
 "cells": [
  {
   "cell_type": "markdown",
   "id": "64cce9fd-8867-450a-8475-9432d53587ca",
   "metadata": {},
   "source": [
    "# Zero Rule Algorithm"
   ]
  },
  {
   "cell_type": "markdown",
   "id": "6bba1588-4b4a-4c12-89dc-1b96124568d2",
   "metadata": {},
   "source": [
    "The Zero Rule (ZeroR) algorithm provides a simple baseline for evaluating classification and regression models.\n",
    "\n",
    "Utility in Model Evaluation:  \n",
    "- **Classification**  \n",
    "The classification version predicts the most frequent class from the training data. It ignores all input features. This serves as a baseline accuracy, allowing you to assess whether a more complex model actually learns useful patterns.\n",
    "- **Regression**  \n",
    "The regression version predicts the mean of the output values from the training set for all test instances. This baseline helps measure whether a regression model adds value over simply predicting the average.\n",
    "\n",
    "**Summary:**\n",
    "\n",
    "ZeroR doesn’t attempt to learn anything—its utility lies in setting a minimum performance benchmark. If a trained model performs similarly to ZeroR, it likely isn’t capturing meaningful structure in the data."
   ]
  },
  {
   "cell_type": "code",
   "execution_count": 14,
   "id": "49f7b6df-f1f1-41b8-90d7-6bf4c97fb2ef",
   "metadata": {},
   "outputs": [],
   "source": [
    "from random import seed, randrange"
   ]
  },
  {
   "cell_type": "markdown",
   "id": "b3ab524e-50b5-44ef-8a96-ec887fae612d",
   "metadata": {},
   "source": [
    "## Zero Rule Algorithm for Classification"
   ]
  },
  {
   "cell_type": "code",
   "execution_count": 7,
   "id": "18c05d04-54b5-45dc-aae0-33c53ec60358",
   "metadata": {},
   "outputs": [],
   "source": [
    "def zero_rule_algorithm_classification(train, test):\n",
    "    output_values = [row[-1] for row in train]\n",
    "    prediction = max(set(output_values), key=output_values.count)\n",
    "    predicted = [prediction for i in range(len(test))]\n",
    "    return predicted"
   ]
  },
  {
   "cell_type": "code",
   "execution_count": 9,
   "id": "e58c67de-1fa0-49a2-9e79-a75006df164a",
   "metadata": {},
   "outputs": [
    {
     "name": "stdout",
     "output_type": "stream",
     "text": [
      "['0', '0', '0', '0', '0', '0']\n"
     ]
    }
   ],
   "source": [
    "seed(1)\n",
    "train = [['0'], ['0'], ['0'], ['0'], ['1'], ['1']]\n",
    "test = [[None], [None], [None], [None], [None], [None]]\n",
    "predictions = zero_rule_algorithm_classification(train, test)\n",
    "print(predictions)"
   ]
  },
  {
   "cell_type": "markdown",
   "id": "0b2f34e0-22ac-4617-b86f-07da1b08e50f",
   "metadata": {},
   "source": [
    "## Zero Rule Algorithm for Regression\n"
   ]
  },
  {
   "cell_type": "code",
   "execution_count": 11,
   "id": "f64098f4-a97d-4731-88cc-97ad729aa8c6",
   "metadata": {},
   "outputs": [],
   "source": [
    "def zero_rule_algorithm_regression(train, test):\n",
    "    output_values = [row[-1] for row in train]\n",
    "    prediction = sum(output_values) / float(len(output_values))\n",
    "    predicted = [prediction for i in range(len(test))]\n",
    "    return predicted"
   ]
  },
  {
   "cell_type": "code",
   "execution_count": 13,
   "id": "6efdf2e8-581a-49b5-9caa-c618000ab92e",
   "metadata": {},
   "outputs": [
    {
     "name": "stdout",
     "output_type": "stream",
     "text": [
      "[15.0, 15.0, 15.0, 15.0, 15.0, 15.0]\n"
     ]
    }
   ],
   "source": [
    "seed(1)\n",
    "train = [[10], [15], [12], [15], [18], [20]]\n",
    "test = [[None], [None], [None], [None], [None], [None]]\n",
    "predictions = zero_rule_algorithm_regression(train, test)\n",
    "print(predictions)"
   ]
  },
  {
   "cell_type": "code",
   "execution_count": null,
   "id": "0873c784-53c3-4372-a9b5-ed591f6ff159",
   "metadata": {},
   "outputs": [],
   "source": []
  }
 ],
 "metadata": {
  "kernelspec": {
   "display_name": "Python 3 (ipykernel)",
   "language": "python",
   "name": "python3"
  },
  "language_info": {
   "codemirror_mode": {
    "name": "ipython",
    "version": 3
   },
   "file_extension": ".py",
   "mimetype": "text/x-python",
   "name": "python",
   "nbconvert_exporter": "python",
   "pygments_lexer": "ipython3",
   "version": "3.12.8"
  }
 },
 "nbformat": 4,
 "nbformat_minor": 5
}
