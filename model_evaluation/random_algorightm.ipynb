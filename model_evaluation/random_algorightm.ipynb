{
 "cells": [
  {
   "cell_type": "markdown",
   "id": "4ab30b9e-7f87-4f3f-8c41-5cf72c9abdf5",
   "metadata": {},
   "source": [
    "# Random Algorithm"
   ]
  },
  {
   "cell_type": "markdown",
   "id": "5a4ba304-76d8-492d-a033-3b91ee0233f4",
   "metadata": {},
   "source": [
    "# Generate random predictions"
   ]
  },
  {
   "cell_type": "markdown",
   "id": "3db3efff-3ce0-4be7-b9d6-9f1905107829",
   "metadata": {},
   "source": [
    "The Random Prediction algorithm generates predictions by randomly selecting from the set of observed output values in the training data.\n",
    "\n",
    "Utility in Model Evaluation:\n",
    "- **Classification or Regression (categorical only)**\n",
    "This approach randomly picks one of the known output classes for each test instance, ignoring input features and true label distributions. It serves as a naive performance benchmark for comparison, especially in imbalanced datasets where random guessing may still occasionally match the majority class.\n",
    "\n",
    "**Summary:**\n",
    "\n",
    "Random prediction sets a lower bound for model performance. A model that performs no better than this is likely overfitting noise or not learning anything meaningful from the data."
   ]
  },
  {
   "cell_type": "code",
   "execution_count": 3,
   "id": "58863d03-f69b-4acb-b3c6-914b55bd2472",
   "metadata": {},
   "outputs": [],
   "source": [
    "from random import seed, randrange\n",
    "\n",
    "def random_algorithm(train, test):\n",
    "    output_values = [row[-1] for row in train]\n",
    "    unique = list(set(output_values))\n",
    "    predicted = list()\n",
    "    for row in test:\n",
    "        index = randrange(len(unique))\n",
    "        predicted.append(unique[index])\n",
    "    return predicted"
   ]
  },
  {
   "cell_type": "code",
   "execution_count": 5,
   "id": "5ecc29bf-05e9-4899-bd83-0cefa4c1743a",
   "metadata": {},
   "outputs": [
    {
     "name": "stdout",
     "output_type": "stream",
     "text": [
      "[0, 0, 1, 0]\n"
     ]
    }
   ],
   "source": [
    "seed(1)\n",
    "train = [[0], [1], [0], [1], [0], [1]]\n",
    "test = [[None], [None], [None], [None]]\n",
    "predictions = random_algorithm(train, test)\n",
    "print(predictions)"
   ]
  },
  {
   "cell_type": "code",
   "execution_count": null,
   "id": "94a3a07d-6292-4282-b2c3-77a00ce582b1",
   "metadata": {},
   "outputs": [],
   "source": []
  }
 ],
 "metadata": {
  "kernelspec": {
   "display_name": "Python 3 (ipykernel)",
   "language": "python",
   "name": "python3"
  },
  "language_info": {
   "codemirror_mode": {
    "name": "ipython",
    "version": 3
   },
   "file_extension": ".py",
   "mimetype": "text/x-python",
   "name": "python",
   "nbconvert_exporter": "python",
   "pygments_lexer": "ipython3",
   "version": "3.12.8"
  }
 },
 "nbformat": 4,
 "nbformat_minor": 5
}
