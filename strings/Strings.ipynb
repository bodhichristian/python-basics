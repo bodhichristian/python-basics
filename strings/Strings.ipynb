{
 "cells": [
  {
   "cell_type": "markdown",
   "id": "71bf53a3-4914-4790-86a4-7ece032399fe",
   "metadata": {},
   "source": [
    "# Strings"
   ]
  },
  {
   "cell_type": "markdown",
   "id": "0abd1ca6-4e2b-4682-8b57-bb5112318297",
   "metadata": {},
   "source": [
    "## Join "
   ]
  },
  {
   "cell_type": "markdown",
   "id": "3f03e5ad-9bfc-40b1-81f3-a58db1837c88",
   "metadata": {},
   "source": [
    "Uses the string it's called on to join an iterable"
   ]
  },
  {
   "cell_type": "code",
   "execution_count": 8,
   "id": "cc6b7ed9-5187-4b6e-965f-ec07c50ae26b",
   "metadata": {},
   "outputs": [
    {
     "name": "stdout",
     "output_type": "stream",
     "text": [
      "Siblings: John, Laura, Christian\n"
     ]
    }
   ],
   "source": [
    "siblings = ['John', 'Laura', 'Christian']\n",
    "print(f'Siblings: {', '.join(siblings)}')"
   ]
  },
  {
   "cell_type": "markdown",
   "id": "6967b565-2212-4635-bf57-3b0a96c2024a",
   "metadata": {},
   "source": [
    "## Matching parts of a string"
   ]
  },
  {
   "cell_type": "code",
   "execution_count": 10,
   "id": "1ff9e280-927e-40a7-8d72-de6de118da43",
   "metadata": {},
   "outputs": [
    {
     "name": "stdout",
     "output_type": "stream",
     "text": [
      "False\n",
      "True\n"
     ]
    }
   ],
   "source": [
    "greeting = 'hello'\n",
    "print(greeting.startswith('He'))\n",
    "print(greeting.endswith('lo'))"
   ]
  },
  {
   "cell_type": "code",
   "execution_count": 11,
   "id": "8185bf7f-2ce2-4fe4-8fab-f2ac4f23ceaf",
   "metadata": {},
   "outputs": [
    {
     "name": "stdout",
     "output_type": "stream",
     "text": [
      "['Chelsea', 'Charlene', 'Cody']\n"
     ]
    }
   ],
   "source": [
    "names = ['Jack', 'Chelsea', 'Anastasia', 'Robert', 'Charlene', 'Cody']\n",
    "print([name for name in names if name.startswith('C')])"
   ]
  },
  {
   "cell_type": "code",
   "execution_count": 14,
   "id": "8ea9d73f-b4f2-4d12-86da-86afd37a3b8d",
   "metadata": {},
   "outputs": [
    {
     "name": "stdout",
     "output_type": "stream",
     "text": [
      "False\n",
      "True\n"
     ]
    }
   ],
   "source": [
    "print('ja' in names[0])\n",
    "print('Ja' in names[0])"
   ]
  },
  {
   "cell_type": "code",
   "execution_count": 18,
   "id": "fd24e126-b7bc-4f8a-a2fd-ed3afbeaab6d",
   "metadata": {},
   "outputs": [
    {
     "name": "stdout",
     "output_type": "stream",
     "text": [
      "4\n"
     ]
    }
   ],
   "source": [
    "johns = ['John', 'john', 'JOHN', 'joHN']\n",
    "\n",
    "print(len([john for john in johns if 'j' in john.lower()]))"
   ]
  },
  {
   "cell_type": "code",
   "execution_count": null,
   "id": "a56c1afb-835a-48ed-a135-fea27bedba20",
   "metadata": {},
   "outputs": [],
   "source": []
  }
 ],
 "metadata": {
  "kernelspec": {
   "display_name": "Python 3 (ipykernel)",
   "language": "python",
   "name": "python3"
  },
  "language_info": {
   "codemirror_mode": {
    "name": "ipython",
    "version": 3
   },
   "file_extension": ".py",
   "mimetype": "text/x-python",
   "name": "python",
   "nbconvert_exporter": "python",
   "pygments_lexer": "ipython3",
   "version": "3.12.8"
  }
 },
 "nbformat": 4,
 "nbformat_minor": 5
}
