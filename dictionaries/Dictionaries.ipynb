{
 "cells": [
  {
   "cell_type": "markdown",
   "id": "6d577ac7-079c-4d05-b49b-6a1814c189cb",
   "metadata": {},
   "source": [
    "# Dictionaries"
   ]
  },
  {
   "cell_type": "markdown",
   "id": "33ae62e3-bde4-48c3-87e4-f2fcb6b7e7f0",
   "metadata": {},
   "source": [
    "## Create a dictionary"
   ]
  },
  {
   "cell_type": "code",
   "execution_count": 1,
   "id": "5552678a-a18d-4ca5-ac9a-e12264f7a10b",
   "metadata": {},
   "outputs": [],
   "source": [
    "d1 = {}\n",
    "d2 = dict()\n",
    "post = dict(user='Christian', content='Hello!', following=True)"
   ]
  },
  {
   "cell_type": "markdown",
   "id": "649f8ef6-8b2d-4c17-863b-efb1084056cc",
   "metadata": {},
   "source": [
    "## Store values by key"
   ]
  },
  {
   "cell_type": "code",
   "execution_count": 2,
   "id": "df4b9f5a-5e74-4f05-8f28-0a050ed3d3f2",
   "metadata": {},
   "outputs": [],
   "source": [
    "d2['George'] = 24\n",
    "d2['Tom'] = 32\n",
    "d2['Jenny'] = 18"
   ]
  },
  {
   "cell_type": "markdown",
   "id": "641495ab-79ab-4533-802d-94149f41a6df",
   "metadata": {},
   "source": [
    "## Access/Update values by key"
   ]
  },
  {
   "cell_type": "code",
   "execution_count": 3,
   "id": "44b4e055-07fb-406b-99c6-8aa66f118083",
   "metadata": {},
   "outputs": [
    {
     "name": "stdout",
     "output_type": "stream",
     "text": [
      "24\n"
     ]
    }
   ],
   "source": [
    "print(d2['George'])"
   ]
  },
  {
   "cell_type": "code",
   "execution_count": 4,
   "id": "bbd031f7-4216-4b7d-8a9a-0e6a6e386ff6",
   "metadata": {},
   "outputs": [
    {
     "name": "stdout",
     "output_type": "stream",
     "text": [
      "32\n"
     ]
    }
   ],
   "source": [
    "print(d2['Tom'])"
   ]
  },
  {
   "cell_type": "code",
   "execution_count": 20,
   "id": "a30334a1-c5aa-4ecd-a901-0d88d75c6020",
   "metadata": {},
   "outputs": [
    {
     "name": "stdout",
     "output_type": "stream",
     "text": [
      "Christian\n"
     ]
    }
   ],
   "source": [
    "print(post['user'])"
   ]
  },
  {
   "cell_type": "code",
   "execution_count": 5,
   "id": "5f2d1bb1-1e35-438a-a58d-3c029cd9c65d",
   "metadata": {},
   "outputs": [
    {
     "name": "stdout",
     "output_type": "stream",
     "text": [
      "33\n"
     ]
    }
   ],
   "source": [
    "d2['Tom'] += 1\n",
    "print(d2['Tom'])"
   ]
  },
  {
   "cell_type": "markdown",
   "id": "d0383e5f-1eaf-4fd8-9821-b215f81808ae",
   "metadata": {},
   "source": [
    "## Loop through key-value pairs"
   ]
  },
  {
   "cell_type": "code",
   "execution_count": 6,
   "id": "8bfd0fec-c2e3-4822-9ad0-9dd932d35a5c",
   "metadata": {},
   "outputs": [
    {
     "name": "stdout",
     "output_type": "stream",
     "text": [
      "Key: George\n",
      "Value: 24\n",
      "\n",
      "Key: Tom\n",
      "Value: 33\n",
      "\n",
      "Key: Jenny\n",
      "Value: 18\n",
      "\n"
     ]
    }
   ],
   "source": [
    "for key, value in d2.items():\n",
    "    print('Key: ' + key)\n",
    "    print('Value: ' + str(value) + '\\n')"
   ]
  },
  {
   "cell_type": "markdown",
   "id": "eebfeff8-cd2d-4b3a-99fa-d9609d8e7331",
   "metadata": {},
   "source": [
    "## Example Dictionary Loop"
   ]
  },
  {
   "cell_type": "code",
   "execution_count": 1,
   "id": "8c026055-9648-48cc-bc31-80099b3c383b",
   "metadata": {},
   "outputs": [
    {
     "name": "stdout",
     "output_type": "stream",
     "text": [
      "the capital of spain is madrid\n",
      "the capital of france is paris\n",
      "the capital of germany is berlin\n",
      "the capital of norway is oslo\n",
      "the capital of italy is rome\n",
      "the capital of poland is warsaw\n",
      "the capital of austria is vienna\n"
     ]
    }
   ],
   "source": [
    "# Definition of dictionary\n",
    "europe = {'spain':'madrid', 'france':'paris', 'germany':'berlin',\n",
    "          'norway':'oslo', 'italy':'rome', 'poland':'warsaw', 'austria':'vienna' }\n",
    "          \n",
    "# Iterate over europe\n",
    "for country, capital in europe.items():\n",
    "    print(f'the capital of {country} is {capital}')"
   ]
  },
  {
   "cell_type": "code",
   "execution_count": null,
   "id": "5ff18fd7-404d-43f2-9e3c-f113a6ab4658",
   "metadata": {},
   "outputs": [],
   "source": []
  }
 ],
 "metadata": {
  "kernelspec": {
   "display_name": "Python 3 (ipykernel)",
   "language": "python",
   "name": "python3"
  },
  "language_info": {
   "codemirror_mode": {
    "name": "ipython",
    "version": 3
   },
   "file_extension": ".py",
   "mimetype": "text/x-python",
   "name": "python",
   "nbconvert_exporter": "python",
   "pygments_lexer": "ipython3",
   "version": "3.12.8"
  }
 },
 "nbformat": 4,
 "nbformat_minor": 5
}
