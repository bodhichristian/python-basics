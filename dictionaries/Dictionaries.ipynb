{
 "cells": [
  {
   "cell_type": "markdown",
   "id": "6d577ac7-079c-4d05-b49b-6a1814c189cb",
   "metadata": {},
   "source": [
    "# Dictionaries"
   ]
  },
  {
   "cell_type": "markdown",
   "id": "33ae62e3-bde4-48c3-87e4-f2fcb6b7e7f0",
   "metadata": {},
   "source": [
    "## Create a dictionary"
   ]
  },
  {
   "cell_type": "code",
   "execution_count": 12,
   "id": "5552678a-a18d-4ca5-ac9a-e12264f7a10b",
   "metadata": {},
   "outputs": [],
   "source": [
    "d1 = {}\n",
    "d2 = dict()\n",
    "post = dict(user='Christian', content='Hello!', following=True)"
   ]
  },
  {
   "cell_type": "markdown",
   "id": "649f8ef6-8b2d-4c17-863b-efb1084056cc",
   "metadata": {},
   "source": [
    "## Add values"
   ]
  },
  {
   "cell_type": "code",
   "execution_count": 13,
   "id": "df4b9f5a-5e74-4f05-8f28-0a050ed3d3f2",
   "metadata": {},
   "outputs": [
    {
     "name": "stdout",
     "output_type": "stream",
     "text": [
      "{'George': 24, 'Tom': 32, 'Jenny': 18}\n"
     ]
    }
   ],
   "source": [
    "d2['George'] = 24\n",
    "d2['Tom'] = 32\n",
    "d2['Jenny'] = 18\n",
    "print(d2)"
   ]
  },
  {
   "cell_type": "markdown",
   "id": "ee3a544b-2357-4d43-bf5b-77ed18866920",
   "metadata": {},
   "source": [
    "### Update method"
   ]
  },
  {
   "cell_type": "code",
   "execution_count": 11,
   "id": "5aa7e563-84fb-4eeb-9224-5e1925cd7b9b",
   "metadata": {},
   "outputs": [
    {
     "name": "stdout",
     "output_type": "stream",
     "text": [
      "{'George': 24, 'Tom': 32, 'Jenny': 18, 'Greg': 33, 'Jordan': 40, 'Xavier': 50}\n"
     ]
    }
   ],
   "source": [
    "new_people = [('Greg', 33),('Jordan', 40), ('Xavier', 50)] # list of tuples\n",
    "d2.update(new_people)\n",
    "print(d2)"
   ]
  },
  {
   "cell_type": "markdown",
   "id": "641495ab-79ab-4533-802d-94149f41a6df",
   "metadata": {},
   "source": [
    "## Access/Update values by key"
   ]
  },
  {
   "cell_type": "code",
   "execution_count": 3,
   "id": "44b4e055-07fb-406b-99c6-8aa66f118083",
   "metadata": {},
   "outputs": [
    {
     "name": "stdout",
     "output_type": "stream",
     "text": [
      "24\n"
     ]
    }
   ],
   "source": [
    "print(d2['George'])"
   ]
  },
  {
   "cell_type": "code",
   "execution_count": 4,
   "id": "bbd031f7-4216-4b7d-8a9a-0e6a6e386ff6",
   "metadata": {},
   "outputs": [
    {
     "name": "stdout",
     "output_type": "stream",
     "text": [
      "32\n"
     ]
    }
   ],
   "source": [
    "print(d2['Tom'])"
   ]
  },
  {
   "cell_type": "code",
   "execution_count": 20,
   "id": "a30334a1-c5aa-4ecd-a901-0d88d75c6020",
   "metadata": {},
   "outputs": [
    {
     "name": "stdout",
     "output_type": "stream",
     "text": [
      "Christian\n"
     ]
    }
   ],
   "source": [
    "print(post['user'])"
   ]
  },
  {
   "cell_type": "code",
   "execution_count": 5,
   "id": "5f2d1bb1-1e35-438a-a58d-3c029cd9c65d",
   "metadata": {},
   "outputs": [
    {
     "name": "stdout",
     "output_type": "stream",
     "text": [
      "33\n"
     ]
    }
   ],
   "source": [
    "d2['Tom'] += 1\n",
    "print(d2['Tom'])"
   ]
  },
  {
   "cell_type": "markdown",
   "id": "d0383e5f-1eaf-4fd8-9821-b215f81808ae",
   "metadata": {},
   "source": [
    "## Loop through key-value pairs"
   ]
  },
  {
   "cell_type": "code",
   "execution_count": 6,
   "id": "8bfd0fec-c2e3-4822-9ad0-9dd932d35a5c",
   "metadata": {},
   "outputs": [
    {
     "name": "stdout",
     "output_type": "stream",
     "text": [
      "Key: George\n",
      "Value: 24\n",
      "\n",
      "Key: Tom\n",
      "Value: 33\n",
      "\n",
      "Key: Jenny\n",
      "Value: 18\n",
      "\n"
     ]
    }
   ],
   "source": [
    "for key, value in d2.items():\n",
    "    print('Key: ' + key)\n",
    "    print('Value: ' + str(value) + '\\n')"
   ]
  },
  {
   "cell_type": "markdown",
   "id": "eebfeff8-cd2d-4b3a-99fa-d9609d8e7331",
   "metadata": {},
   "source": [
    "## Example Dictionary Loop"
   ]
  },
  {
   "cell_type": "code",
   "execution_count": 1,
   "id": "8c026055-9648-48cc-bc31-80099b3c383b",
   "metadata": {},
   "outputs": [
    {
     "name": "stdout",
     "output_type": "stream",
     "text": [
      "the capital of spain is madrid\n",
      "the capital of france is paris\n",
      "the capital of germany is berlin\n",
      "the capital of norway is oslo\n",
      "the capital of italy is rome\n",
      "the capital of poland is warsaw\n",
      "the capital of austria is vienna\n"
     ]
    }
   ],
   "source": [
    "# Definition of dictionary\n",
    "europe = {'spain':'madrid', 'france':'paris', 'germany':'berlin',\n",
    "          'norway':'oslo', 'italy':'rome', 'poland':'warsaw', 'austria':'vienna' }\n",
    "          \n",
    "# Iterate over europe\n",
    "for country, capital in europe.items():\n",
    "    print(f'the capital of {country} is {capital}')"
   ]
  },
  {
   "cell_type": "markdown",
   "id": "0d4d1f98-ca8f-4a43-ae88-b84694e28568",
   "metadata": {},
   "source": [
    "## JSON"
   ]
  },
  {
   "cell_type": "markdown",
   "id": "2537a641-0ac7-41d6-b81e-5f6065aca6a0",
   "metadata": {},
   "source": [
    "JSON data maps directly to Python dictionaries, allowing for easy storage, access, and manipulation."
   ]
  },
  {
   "cell_type": "code",
   "execution_count": 6,
   "id": "ae9ca083-98be-4517-a3cf-e8f3e2c613d4",
   "metadata": {},
   "outputs": [
    {
     "name": "stdout",
     "output_type": "stream",
     "text": [
      "USA\n"
     ]
    }
   ],
   "source": [
    "import json\n",
    "\n",
    "json_data = '{\"name\":\"Christian\",\"age\":34,\"country\":\"USA\"}'\n",
    "\n",
    "christian = json.loads(json_data)\n",
    "print(christian['country'])"
   ]
  },
  {
   "cell_type": "markdown",
   "id": "93f45e88-0f1d-494b-99d8-8bfad8d8b512",
   "metadata": {},
   "source": [
    "## Group data by keys"
   ]
  },
  {
   "cell_type": "code",
   "execution_count": 2,
   "id": "13051d7e-4533-4343-b858-3949976eaa1c",
   "metadata": {},
   "outputs": [
    {
     "data": {
      "text/plain": [
       "{'Sales': ['Alice', 'Bob'], 'Finance': ['Charlie', 'David']}"
      ]
     },
     "execution_count": 2,
     "metadata": {},
     "output_type": "execute_result"
    }
   ],
   "source": [
    "employees = [\n",
    "    {'name': 'Alice', 'dept':'Sales'},\n",
    "    {'name': 'Bob', 'dept':'Sales'},\n",
    "    {'name': 'Charlie', 'dept':'Finance'},\n",
    "    {'name': 'David', 'dept':'Finance'}\n",
    "]\n",
    "\n",
    "grouped = { }\n",
    "\n",
    "for employee in employees:\n",
    "    department = employee['dept']\n",
    "    if department not in grouped:\n",
    "        grouped[department] = []\n",
    "    grouped[department].append(employee['name'])\n",
    "\n",
    "grouped"
   ]
  },
  {
   "cell_type": "markdown",
   "id": "2c455215-feef-49db-b9bb-8ae91eded115",
   "metadata": {},
   "source": [
    "## Safely access keys"
   ]
  },
  {
   "cell_type": "markdown",
   "id": "ff4c1c77-617c-46d1-8b56-776ffd8acee4",
   "metadata": {},
   "source": [
    "By default, accessing a dictionary with an invalid key raises an error. The dict.get() method allows for safe handling of this search without throwing an error if the key does not exist. Rather it returns None or a provided value."
   ]
  },
  {
   "cell_type": "code",
   "execution_count": 14,
   "id": "de41a84f-bd5c-4eb4-b37a-0871e0e41853",
   "metadata": {},
   "outputs": [
    {
     "data": {
      "text/plain": [
       "'Not found'"
      ]
     },
     "execution_count": 14,
     "metadata": {},
     "output_type": "execute_result"
    }
   ],
   "source": [
    "grouped.get('Sales')\n",
    "grouped.get('HR', 'Not found')"
   ]
  },
  {
   "cell_type": "markdown",
   "id": "5d162a53-34df-4f44-83d5-f32b0771ae22",
   "metadata": {},
   "source": [
    "## Pop / Delete"
   ]
  },
  {
   "cell_type": "code",
   "execution_count": 14,
   "id": "bc70d423-8ee6-4968-804a-a34d5d741102",
   "metadata": {},
   "outputs": [
    {
     "name": "stdout",
     "output_type": "stream",
     "text": [
      "{'George': 24, 'Jenny': 18}\n"
     ]
    }
   ],
   "source": [
    "del d2['Tom']\n",
    "print(d2)"
   ]
  },
  {
   "cell_type": "code",
   "execution_count": 15,
   "id": "d858210f-2522-425e-a3c3-ec365bc00606",
   "metadata": {},
   "outputs": [
    {
     "name": "stdout",
     "output_type": "stream",
     "text": [
      "18\n"
     ]
    }
   ],
   "source": [
    "popped_value = d2.pop('Jenny')\n",
    "print(popped_value)"
   ]
  },
  {
   "cell_type": "code",
   "execution_count": null,
   "id": "5a390e87-7292-4626-bbac-395e341f09e2",
   "metadata": {},
   "outputs": [],
   "source": [
    "popped_again = d2."
   ]
  }
 ],
 "metadata": {
  "kernelspec": {
   "display_name": "Python 3 (ipykernel)",
   "language": "python",
   "name": "python3"
  },
  "language_info": {
   "codemirror_mode": {
    "name": "ipython",
    "version": 3
   },
   "file_extension": ".py",
   "mimetype": "text/x-python",
   "name": "python",
   "nbconvert_exporter": "python",
   "pygments_lexer": "ipython3",
   "version": "3.12.8"
  }
 },
 "nbformat": 4,
 "nbformat_minor": 5
}
