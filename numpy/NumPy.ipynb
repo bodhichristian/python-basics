{
 "cells": [
  {
   "cell_type": "markdown",
   "id": "38d3d92b-fbd1-4d7f-b76d-901420f3e638",
   "metadata": {},
   "source": [
    "# NumPy"
   ]
  },
  {
   "cell_type": "code",
   "execution_count": 5,
   "id": "24a5f68a-0cea-4475-b14c-5ac11d975214",
   "metadata": {
    "editable": true,
    "slideshow": {
     "slide_type": ""
    },
    "tags": []
   },
   "outputs": [
    {
     "name": "stdout",
     "output_type": "stream",
     "text": [
      "[[[0.46501841 0.05105642 0.89011601 0.01449786]\n",
      "  [0.18469372 0.10800833 0.13895288 0.25431311]\n",
      "  [0.24588607 0.28946891 0.42689732 0.25074096]]\n",
      "\n",
      " [[0.76777495 0.91576501 0.85663157 0.74390436]\n",
      "  [0.37838761 0.72572824 0.85603525 0.27984121]\n",
      "  [0.06361733 0.38751395 0.38725512 0.62437827]]]\n",
      "[[[0. 0.]\n",
      "  [0. 0.]]\n",
      "\n",
      " [[0. 0.]\n",
      "  [0. 0.]]]\n",
      "[[[1. 1.]\n",
      "  [1. 1.]]\n",
      "\n",
      " [[1. 1.]\n",
      "  [1. 1.]]]\n",
      "[[[7 7]\n",
      "  [7 7]]\n",
      "\n",
      " [[7 7]\n",
      "  [7 7]]]\n"
     ]
    }
   ],
   "source": [
    "import numpy as np\n",
    "\n",
    "# create an array of random elements with shape 2, 3, 4\n",
    "data = np.random.rand(2, 3, 4)\n",
    "# create an array of zeroes with shape 2, 2, 2\n",
    "zeroes = np.zeros((2, 2, 2))\n",
    "# create an array of ones with shape 2, 2, 2\n",
    "ones = np.ones((2, 2, 2))\n",
    "# create an array of <n> with shape 2, 2, 2\n",
    "full = np.full((2, 2, 2), 7)\n",
    "\n",
    "print(data)\n",
    "print(zeroes)\n",
    "print(ones)\n",
    "print(full)"
   ]
  },
  {
   "cell_type": "markdown",
   "id": "8e55f0f8-4215-45e8-80dd-9af431a85c8d",
   "metadata": {},
   "source": [
    "## Array attributes"
   ]
  },
  {
   "cell_type": "code",
   "execution_count": 6,
   "id": "054fdffa-b47b-44fe-aeea-0a75d30f17ac",
   "metadata": {},
   "outputs": [
    {
     "name": "stdout",
     "output_type": "stream",
     "text": [
      "(2, 3, 4)\n",
      "24\n",
      "float64\n"
     ]
    }
   ],
   "source": [
    "shape =  data.shape\n",
    "size = data.size\n",
    "types = data.dtype\n",
    "\n",
    "print(shape)\n",
    "print(size)\n",
    "print(types)"
   ]
  },
  {
   "cell_type": "markdown",
   "id": "68ee3592-8404-4b82-8c10-7b6fe1145da1",
   "metadata": {},
   "source": [
    "## Array slicing"
   ]
  },
  {
   "cell_type": "code",
   "execution_count": 7,
   "id": "1e388a01-fd03-49e8-9472-dfee47d76bef",
   "metadata": {},
   "outputs": [
    {
     "name": "stdout",
     "output_type": "stream",
     "text": [
      "[[0.46501841 0.05105642 0.89011601 0.01449786]\n",
      " [0.18469372 0.10800833 0.13895288 0.25431311]\n",
      " [0.24588607 0.28946891 0.42689732 0.25074096]]\n",
      "[[[0.46501841 0.05105642 0.89011601 0.01449786]\n",
      "  [0.18469372 0.10800833 0.13895288 0.25431311]\n",
      "  [0.24588607 0.28946891 0.42689732 0.25074096]]\n",
      "\n",
      " [[0.76777495 0.91576501 0.85663157 0.74390436]\n",
      "  [0.37838761 0.72572824 0.85603525 0.27984121]\n",
      "  [0.06361733 0.38751395 0.38725512 0.62437827]]]\n",
      "[[0.76777495 0.91576501 0.85663157 0.74390436]\n",
      " [0.37838761 0.72572824 0.85603525 0.27984121]\n",
      " [0.06361733 0.38751395 0.38725512 0.62437827]]\n",
      "0.4650184104263375\n"
     ]
    }
   ],
   "source": [
    "first_array = data[0]\n",
    "sliced = data[0:2]\n",
    "last_array = data[-1]\n",
    "single_value = data[0][0][0]\n",
    "\n",
    "print(first_array)\n",
    "print(sliced)\n",
    "print(last_array)\n",
    "print(single_value)"
   ]
  },
  {
   "cell_type": "markdown",
   "id": "cd640801-1a3a-4478-8f1d-317c75e91440",
   "metadata": {},
   "source": [
    "## Array math"
   ]
  },
  {
   "cell_type": "code",
   "execution_count": 8,
   "id": "ab763652-16e4-4db3-b288-59a5229ae4fa",
   "metadata": {},
   "outputs": [
    {
     "name": "stdout",
     "output_type": "stream",
     "text": [
      "[0.84814075 0.94485193 1.16510929 1.27024479 1.09079092 0.52444716\n",
      " 0.46590499 0.34434473 1.01932501 1.43188973]\n",
      "[ 0.23566017  0.22564692  0.77681384 -0.22158655 -0.52731101  0.23686783\n",
      "  0.20024058 -0.26554618  0.71437655  0.28846523]\n",
      "[1.76952701 1.62748985 5.00114831 0.70293351 0.34823511 2.64732164\n",
      " 2.50747012 0.12920107 5.68522808 1.50456366]\n",
      "[0.16595176 0.21045716 0.18850998 0.3911053  0.22794198 0.05473461\n",
      " 0.04424279 0.01201463 0.13217241 0.49177401]\n"
     ]
    }
   ],
   "source": [
    "array1 = np.random.rand(10)\n",
    "array2 = np.random.rand(10)\n",
    "\n",
    "sum = np.add(array1, array2)\n",
    "diff = np.subtract(array1, array2)\n",
    "quotient = np.divide(array1, array2)\n",
    "product = np.multiply(array1, array2)\n",
    "\n",
    "print(sum)\n",
    "print(diff)\n",
    "print(quotient)\n",
    "print(product)"
   ]
  },
  {
   "cell_type": "markdown",
   "id": "f3b979fd-8276-44c6-951c-e500cbe54c3f",
   "metadata": {},
   "source": [
    "## Dot product\n",
    "\n",
    "For 1-D arrays (Vectors), dot computes the dot product of the two vectors. For 2-D arrays, dot performs matrix multiplication. For N-D arrays, dot performs a generalized dot product, summing the product of elements ofver the last axis of the first array and the second-to-last axis of the second array."
   ]
  },
  {
   "cell_type": "code",
   "execution_count": 9,
   "id": "b91725f8-3bea-4971-a709-6ebe1f421ec7",
   "metadata": {},
   "outputs": [
    {
     "name": "stdout",
     "output_type": "stream",
     "text": [
      "1.9189046289694187\n"
     ]
    }
   ],
   "source": [
    "dot = np.dot(array1, array2)\n",
    "\n",
    "print(dot)"
   ]
  },
  {
   "cell_type": "markdown",
   "id": "32dcd10a-a23a-43b1-bd21-4c2568e91d6d",
   "metadata": {},
   "source": [
    "## NumPy Boolean operations"
   ]
  },
  {
   "cell_type": "markdown",
   "id": "9cbf91d3-d2e6-474c-a137-3aa895f847e8",
   "metadata": {},
   "source": [
    "NumPy arrays do not support and, or, and not.  \n",
    "Instead, np.logical_and(bool, bool) and it's related functions are available."
   ]
  },
  {
   "cell_type": "code",
   "execution_count": 10,
   "id": "107d5f64-722c-4cb4-b966-0bfe496bb61c",
   "metadata": {},
   "outputs": [
    {
     "name": "stdout",
     "output_type": "stream",
     "text": [
      "[False  True  True False  True False]\n",
      "[ True  True  True False  True  True]\n",
      "[ True False False  True False  True]\n"
     ]
    }
   ],
   "source": [
    "import numpy as np\n",
    "\n",
    "arr1 = np.array([12, 456, 32, 1, 234, 10])\n",
    "arr2 = np.array([29, 111, 98, 6, 773, 44])\n",
    "\n",
    "ands = np.logical_and(arr1 > 20, arr2 > 20)\n",
    "ors = np.logical_or(arr1 > 20, arr2 > 20)\n",
    "nots = np.logical_not(arr1 > 20, arr2 > 20)\n",
    "\n",
    "print(ands)\n",
    "print(ors)\n",
    "print(nots)"
   ]
  },
  {
   "cell_type": "markdown",
   "id": "dbd15bf8-72ad-487d-b873-3cffa61e06b2",
   "metadata": {},
   "source": [
    "## Stat functions"
   ]
  },
  {
   "cell_type": "code",
   "execution_count": 11,
   "id": "7492be53-11d9-4a60-a674-204111a9cae9",
   "metadata": {},
   "outputs": [
    {
     "name": "stdout",
     "output_type": "stream",
     "text": [
      "5.0\n",
      "2\n",
      "128\n",
      "3.2188758248682006\n",
      "[ 7.3890561  20.08553692]\n",
      "0.03939927834751744\n",
      "0.8090509659534323\n"
     ]
    }
   ],
   "source": [
    "sqrt = np.sqrt(25)\n",
    "ab = np.abs(-2)\n",
    "power = np.power(2, 7)\n",
    "log = np.log(25)\n",
    "exp = np.exp([2, 3])\n",
    "mins = np.min(array1)\n",
    "maxs = np.max(array2)\n",
    "\n",
    "print(sqrt)\n",
    "print(ab)\n",
    "print(power)\n",
    "print(log)\n",
    "print(exp)\n",
    "print(mins)\n",
    "print(maxs)"
   ]
  },
  {
   "cell_type": "markdown",
   "id": "7b6e6c9c-b30a-468f-86af-c125e54f6037",
   "metadata": {},
   "source": [
    "## Append / Insert"
   ]
  },
  {
   "cell_type": "markdown",
   "id": "80f59b17-62a7-484f-b8a0-816027fd7100",
   "metadata": {},
   "source": [
    "np.append takes two arguments:\n",
    "- array being appended to\n",
    "- element to append\n",
    "\n",
    "np.insert takes three arguments:\n",
    "- array taking an insertion\n",
    "- insertion index\n",
    "- element to insert"
   ]
  },
  {
   "cell_type": "code",
   "execution_count": 12,
   "id": "d4967f6a-ade0-4b15-b953-686392ca9c86",
   "metadata": {},
   "outputs": [
    {
     "name": "stdout",
     "output_type": "stream",
     "text": [
      "[0. 0. 0. 0. 0. 0. 0. 0.]\n",
      "[0. 0. 0. 0. 0. 0. 0. 0. 3. 4.]\n",
      "[0. 0. 1. 0. 0. 0. 0. 0. 0. 3. 4.]\n"
     ]
    }
   ],
   "source": [
    "zeros = np.zeros((8))\n",
    "print(zeros)\n",
    "\n",
    "zeros = np.append(zeros, [3, 4]) \n",
    "print(zeros)\n",
    "\n",
    "zeros = np.insert(zeros, 2, 1) \n",
    "print(zeros)"
   ]
  },
  {
   "cell_type": "markdown",
   "id": "f7e39ec6-f3b7-40b0-890b-3595d584162a",
   "metadata": {},
   "source": [
    "## Reshape a dataset"
   ]
  },
  {
   "cell_type": "markdown",
   "id": "8f17a51c-b446-46a1-8486-8a04ab41f1fe",
   "metadata": {},
   "source": [
    "## Loop over NumPy arrays"
   ]
  },
  {
   "cell_type": "markdown",
   "id": "b7dcf415-4301-42f8-b1fb-2d3b01c87f7b",
   "metadata": {},
   "source": [
    "np.nditer() provides iterable functionality for np arrays, allowing access to variables nested in N-D arrays"
   ]
  },
  {
   "cell_type": "code",
   "execution_count": null,
   "id": "d00f039d-1748-45f2-a495-66f0b3de066f",
   "metadata": {},
   "outputs": [],
   "source": []
  },
  {
   "cell_type": "code",
   "execution_count": null,
   "id": "f8531981-70ed-44c0-a1f2-46b0e847ef7d",
   "metadata": {},
   "outputs": [],
   "source": []
  },
  {
   "cell_type": "code",
   "execution_count": 13,
   "id": "4f547eb8-691b-4e59-b4c9-e8319b525e05",
   "metadata": {},
   "outputs": [
    {
     "name": "stdout",
     "output_type": "stream",
     "text": [
      "0.7174040801185293\n",
      "0.800016073791161\n",
      "0.5403494519148737\n",
      "0.49993127895142175\n",
      "0.2704489754151549\n",
      "0.26322089592650044\n",
      "0.1785922813648182\n",
      "0.6288657235163713\n",
      "0.7342220297910622\n",
      "0.7566842137171851\n",
      "0.08353596125402307\n",
      "0.14992650115938988\n",
      "0.7546554000950326\n",
      "0.7823621749933001\n",
      "0.5627922576649905\n",
      "0.3465379294250912\n",
      "0.43760109733460895\n",
      "0.39138640925694324\n",
      "0.6306706177967687\n",
      "0.17844363212814018\n",
      "0.9222912131291015\n",
      "0.22976322186540377\n",
      "0.6454486115072855\n",
      "0.3606783777500957\n"
     ]
    }
   ],
   "source": [
    "random_array = np.random.rand(2, 3, 4)\n",
    "for i in np.nditer(random_array):\n",
    "    print(i)"
   ]
  },
  {
   "cell_type": "code",
   "execution_count": null,
   "id": "943373c5-0f88-42ff-8049-c9fd8c458bfb",
   "metadata": {},
   "outputs": [],
   "source": []
  }
 ],
 "metadata": {
  "kernelspec": {
   "display_name": "Python 3 (ipykernel)",
   "language": "python",
   "name": "python3"
  },
  "language_info": {
   "codemirror_mode": {
    "name": "ipython",
    "version": 3
   },
   "file_extension": ".py",
   "mimetype": "text/x-python",
   "name": "python",
   "nbconvert_exporter": "python",
   "pygments_lexer": "ipython3",
   "version": "3.12.8"
  }
 },
 "nbformat": 4,
 "nbformat_minor": 5
}
