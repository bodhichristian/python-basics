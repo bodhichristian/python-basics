{
 "cells": [
  {
   "cell_type": "markdown",
   "id": "32dcd10a-a23a-43b1-bd21-4c2568e91d6d",
   "metadata": {},
   "source": [
    "## Boolean operations"
   ]
  },
  {
   "cell_type": "markdown",
   "id": "9cbf91d3-d2e6-474c-a137-3aa895f847e8",
   "metadata": {},
   "source": [
    "NumPy arrays do not support and, or, and not.  \n",
    "Instead, np.logical_and(bool, bool) and it's related functions are available."
   ]
  },
  {
   "cell_type": "code",
   "execution_count": 3,
   "id": "107d5f64-722c-4cb4-b966-0bfe496bb61c",
   "metadata": {},
   "outputs": [
    {
     "name": "stdout",
     "output_type": "stream",
     "text": [
      "[False  True  True False  True False]\n",
      "[ True  True  True False  True  True]\n",
      "[ True False False  True False  True]\n"
     ]
    }
   ],
   "source": [
    "import numpy as np\n",
    "\n",
    "arr1 = np.array([12, 456, 32, 1, 234, 10])\n",
    "arr2 = np.array([29, 111, 98, 6, 773, 44])\n",
    "\n",
    "ands = np.logical_and(arr1 > 20, arr2 > 20)\n",
    "ors = np.logical_or(arr1 > 20, arr2 > 20)\n",
    "nots = np.logical_not(arr1 > 20, arr2 > 20)\n",
    "\n",
    "print(ands)\n",
    "print(ors)\n",
    "print(nots)"
   ]
  },
  {
   "cell_type": "code",
   "execution_count": null,
   "id": "11321de7-8639-47fe-af06-0e688b1106bc",
   "metadata": {},
   "outputs": [],
   "source": []
  }
 ],
 "metadata": {
  "kernelspec": {
   "display_name": "Python 3 (ipykernel)",
   "language": "python",
   "name": "python3"
  },
  "language_info": {
   "codemirror_mode": {
    "name": "ipython",
    "version": 3
   },
   "file_extension": ".py",
   "mimetype": "text/x-python",
   "name": "python",
   "nbconvert_exporter": "python",
   "pygments_lexer": "ipython3",
   "version": "3.12.8"
  }
 },
 "nbformat": 4,
 "nbformat_minor": 5
}
