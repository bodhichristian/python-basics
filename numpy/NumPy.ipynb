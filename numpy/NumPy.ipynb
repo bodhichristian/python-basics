{
 "cells": [
  {
   "cell_type": "markdown",
   "id": "38d3d92b-fbd1-4d7f-b76d-901420f3e638",
   "metadata": {},
   "source": [
    "# NumPy"
   ]
  },
  {
   "cell_type": "code",
   "execution_count": 12,
   "id": "24a5f68a-0cea-4475-b14c-5ac11d975214",
   "metadata": {
    "editable": true,
    "slideshow": {
     "slide_type": ""
    },
    "tags": []
   },
   "outputs": [
    {
     "name": "stdout",
     "output_type": "stream",
     "text": [
      "[[[0.1353629  0.87572044 0.39445497 0.60144973]\n",
      "  [0.92840782 0.54526281 0.75463459 0.48092887]\n",
      "  [0.23799462 0.24203026 0.62334647 0.35199257]]\n",
      "\n",
      " [[0.80319554 0.822218   0.72857951 0.92217097]\n",
      "  [0.69245555 0.94475156 0.06947593 0.84504294]\n",
      "  [0.03448742 0.78303173 0.65204828 0.69555765]]]\n",
      "[[[0. 0.]\n",
      "  [0. 0.]]\n",
      "\n",
      " [[0. 0.]\n",
      "  [0. 0.]]]\n",
      "[[[1. 1.]\n",
      "  [1. 1.]]\n",
      "\n",
      " [[1. 1.]\n",
      "  [1. 1.]]]\n",
      "[[[7 7]\n",
      "  [7 7]]\n",
      "\n",
      " [[7 7]\n",
      "  [7 7]]]\n"
     ]
    }
   ],
   "source": [
    "import numpy as np\n",
    "\n",
    "# create an array of random elements with shape 2, 3, 4\n",
    "data = np.random.rand(2, 3, 4)\n",
    "# create an array of zeroes with shape 2, 2, 2\n",
    "zeroes = np.zeros((2, 2, 2))\n",
    "# create an array of ones with shape 2, 2, 2\n",
    "ones = np.ones((2, 2, 2))\n",
    "# create an array of <n> with shape 2, 2, 2\n",
    "full = np.full((2, 2, 2), 7)\n",
    "\n",
    "print(data)\n",
    "print(zeroes)\n",
    "print(ones)\n",
    "print(full)"
   ]
  },
  {
   "cell_type": "markdown",
   "id": "8e55f0f8-4215-45e8-80dd-9af431a85c8d",
   "metadata": {},
   "source": [
    "## Array attributes"
   ]
  },
  {
   "cell_type": "code",
   "execution_count": 13,
   "id": "054fdffa-b47b-44fe-aeea-0a75d30f17ac",
   "metadata": {},
   "outputs": [
    {
     "name": "stdout",
     "output_type": "stream",
     "text": [
      "(2, 3, 4)\n",
      "24\n",
      "float64\n"
     ]
    }
   ],
   "source": [
    "shape =  data.shape\n",
    "size = data.size\n",
    "types = data.dtype\n",
    "\n",
    "print(shape)\n",
    "print(size)\n",
    "print(types)"
   ]
  },
  {
   "cell_type": "code",
   "execution_count": 14,
   "id": "3a5fcf4e-1244-4541-b04a-b9078241996d",
   "metadata": {},
   "outputs": [],
   "source": [
    "## Array slicing"
   ]
  },
  {
   "cell_type": "code",
   "execution_count": 15,
   "id": "1e388a01-fd03-49e8-9472-dfee47d76bef",
   "metadata": {},
   "outputs": [
    {
     "name": "stdout",
     "output_type": "stream",
     "text": [
      "[[0.1353629  0.87572044 0.39445497 0.60144973]\n",
      " [0.92840782 0.54526281 0.75463459 0.48092887]\n",
      " [0.23799462 0.24203026 0.62334647 0.35199257]]\n",
      "[[[0.1353629  0.87572044 0.39445497 0.60144973]\n",
      "  [0.92840782 0.54526281 0.75463459 0.48092887]\n",
      "  [0.23799462 0.24203026 0.62334647 0.35199257]]\n",
      "\n",
      " [[0.80319554 0.822218   0.72857951 0.92217097]\n",
      "  [0.69245555 0.94475156 0.06947593 0.84504294]\n",
      "  [0.03448742 0.78303173 0.65204828 0.69555765]]]\n",
      "[[0.80319554 0.822218   0.72857951 0.92217097]\n",
      " [0.69245555 0.94475156 0.06947593 0.84504294]\n",
      " [0.03448742 0.78303173 0.65204828 0.69555765]]\n",
      "0.13536289634579013\n"
     ]
    }
   ],
   "source": [
    "first_array = data[0]\n",
    "sliced = data[0:2]\n",
    "last_array = data[-1]\n",
    "single_value = data[0][0][0]\n",
    "\n",
    "print(first_array)\n",
    "print(sliced)\n",
    "print(last_array)\n",
    "print(single_value)"
   ]
  },
  {
   "cell_type": "markdown",
   "id": "cd640801-1a3a-4478-8f1d-317c75e91440",
   "metadata": {},
   "source": [
    "## Array math"
   ]
  },
  {
   "cell_type": "code",
   "execution_count": 18,
   "id": "ab763652-16e4-4db3-b288-59a5229ae4fa",
   "metadata": {},
   "outputs": [
    {
     "name": "stdout",
     "output_type": "stream",
     "text": [
      "[0.29971601 0.55436103 1.70843433 1.17538528 0.68860787 0.84090523\n",
      " 1.67996571 1.1188988  1.03125174 1.14482446]\n",
      "[ 0.16356265  0.38307204 -0.18776135  0.45681248  0.21881634  0.14826286\n",
      "  0.21958965  0.7964406   0.1580458   0.21583659]\n",
      "[3.40262395 5.47281582 0.80195994 2.27144384 1.93154656 1.42810797\n",
      " 1.30073027 5.9398067  1.36198974 1.46467042]\n",
      "[0.01576924 0.04014299 0.72087339 0.29321323 0.10657505 0.17128493\n",
      " 0.6935163  0.15440423 0.25962542 0.3160094 ]\n"
     ]
    }
   ],
   "source": [
    "array1 = np.random.rand(10)\n",
    "array2 = np.random.rand(10)\n",
    "\n",
    "sum = np.add(array1, array2)\n",
    "diff = np.subtract(array1, array2)\n",
    "quotient = np.divide(array1, array2)\n",
    "product = np.multiply(array1, array2)\n",
    "\n",
    "print(sum)\n",
    "print(diff)\n",
    "print(quotient)\n",
    "print(product)"
   ]
  },
  {
   "cell_type": "markdown",
   "id": "f3b979fd-8276-44c6-951c-e500cbe54c3f",
   "metadata": {},
   "source": [
    "## Dot product\n",
    "\n",
    "For 1-D arrays (Vectors), dot computes the dot product of the two vectors. For 2-D arrays, dot performs matrix multiplication. For N-D arrays, dot performs a generalized dot product, summing the product of elements ofver the last axis of the first array and the second-to-last axis of the second array."
   ]
  },
  {
   "cell_type": "code",
   "execution_count": 19,
   "id": "b91725f8-3bea-4971-a709-6ebe1f421ec7",
   "metadata": {},
   "outputs": [
    {
     "name": "stdout",
     "output_type": "stream",
     "text": [
      "2.77141416935783\n"
     ]
    }
   ],
   "source": [
    "dot = np.dot(array1, array2)\n",
    "\n",
    "print(dot)"
   ]
  },
  {
   "cell_type": "markdown",
   "id": "32dcd10a-a23a-43b1-bd21-4c2568e91d6d",
   "metadata": {},
   "source": [
    "## NumPy Boolean operations"
   ]
  },
  {
   "cell_type": "markdown",
   "id": "9cbf91d3-d2e6-474c-a137-3aa895f847e8",
   "metadata": {},
   "source": [
    "NumPy arrays do not support and, or, and not.  \n",
    "Instead, np.logical_and(bool, bool) and it's related functions are available."
   ]
  },
  {
   "cell_type": "code",
   "execution_count": 17,
   "id": "107d5f64-722c-4cb4-b966-0bfe496bb61c",
   "metadata": {},
   "outputs": [
    {
     "name": "stdout",
     "output_type": "stream",
     "text": [
      "[False  True  True False  True False]\n",
      "[ True  True  True False  True  True]\n",
      "[ True False False  True False  True]\n"
     ]
    }
   ],
   "source": [
    "import numpy as np\n",
    "\n",
    "arr1 = np.array([12, 456, 32, 1, 234, 10])\n",
    "arr2 = np.array([29, 111, 98, 6, 773, 44])\n",
    "\n",
    "ands = np.logical_and(arr1 > 20, arr2 > 20)\n",
    "ors = np.logical_or(arr1 > 20, arr2 > 20)\n",
    "nots = np.logical_not(arr1 > 20, arr2 > 20)\n",
    "\n",
    "print(ands)\n",
    "print(ors)\n",
    "print(nots)"
   ]
  },
  {
   "cell_type": "markdown",
   "id": "7b6e6c9c-b30a-468f-86af-c125e54f6037",
   "metadata": {},
   "source": [
    "## Append / Insert"
   ]
  },
  {
   "cell_type": "markdown",
   "id": "80f59b17-62a7-484f-b8a0-816027fd7100",
   "metadata": {},
   "source": [
    "np.append takes two arguments:\n",
    "- array being appended to\n",
    "- element to append\n",
    "\n",
    "np.insert takes three arguments:\n",
    "- array taking an insertion\n",
    "- insertion index\n",
    "- element to insert"
   ]
  },
  {
   "cell_type": "code",
   "execution_count": 20,
   "id": "d4967f6a-ade0-4b15-b953-686392ca9c86",
   "metadata": {},
   "outputs": [
    {
     "name": "stdout",
     "output_type": "stream",
     "text": [
      "[0. 0. 0. 0. 0. 0. 0. 0.]\n",
      "[0. 0. 0. 0. 0. 0. 0. 0. 3. 4.]\n",
      "[0. 0. 1. 0. 0. 0. 0. 0. 0. 3. 4.]\n"
     ]
    }
   ],
   "source": [
    "zeros = np.zeros((8))\n",
    "print(zeros)\n",
    "\n",
    "zeros = np.append(zeros, [3, 4]) \n",
    "print(zeros)\n",
    "\n",
    "zeros = np.insert(zeros, 2, 1) \n",
    "print(zeros)"
   ]
  },
  {
   "cell_type": "code",
   "execution_count": null,
   "id": "5fd80513-1aff-4a23-a40f-4a38a2d93db6",
   "metadata": {},
   "outputs": [],
   "source": []
  }
 ],
 "metadata": {
  "kernelspec": {
   "display_name": "Python 3 (ipykernel)",
   "language": "python",
   "name": "python3"
  },
  "language_info": {
   "codemirror_mode": {
    "name": "ipython",
    "version": 3
   },
   "file_extension": ".py",
   "mimetype": "text/x-python",
   "name": "python",
   "nbconvert_exporter": "python",
   "pygments_lexer": "ipython3",
   "version": "3.12.8"
  }
 },
 "nbformat": 4,
 "nbformat_minor": 5
}
