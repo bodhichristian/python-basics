{
 "cells": [
  {
   "cell_type": "markdown",
   "id": "9444b99a-6ba8-4430-b8c7-721942b5a02b",
   "metadata": {},
   "source": [
    "# Lists"
   ]
  },
  {
   "cell_type": "markdown",
   "id": "289d117a-dfe5-4c2b-9a5f-da6f82643d6e",
   "metadata": {},
   "source": [
    "## Access an element by index"
   ]
  },
  {
   "cell_type": "code",
   "execution_count": 8,
   "id": "32ca1c0d-ca97-4c30-8eaa-a95b50841ed4",
   "metadata": {},
   "outputs": [
    {
     "data": {
      "text/plain": [
       "1"
      ]
     },
     "execution_count": 8,
     "metadata": {},
     "output_type": "execute_result"
    }
   ],
   "source": [
    "nums = [1, 2, 3, 4, 5]\n",
    "nums[0]"
   ]
  },
  {
   "cell_type": "markdown",
   "id": "ecda7a53-6418-4bea-945d-9b1592630a52",
   "metadata": {},
   "source": [
    "## Retrieve the index of an element"
   ]
  },
  {
   "cell_type": "code",
   "execution_count": 10,
   "id": "bccb2181-59b8-4a66-b15e-035b8ad076d1",
   "metadata": {},
   "outputs": [
    {
     "data": {
      "text/plain": [
       "3"
      ]
     },
     "execution_count": 10,
     "metadata": {},
     "output_type": "execute_result"
    }
   ],
   "source": [
    "nums[2]"
   ]
  },
  {
   "cell_type": "markdown",
   "id": "314f7461-70ce-43a9-87b0-a3580a4789a5",
   "metadata": {},
   "source": [
    "## Slicing"
   ]
  },
  {
   "cell_type": "raw",
   "id": "fd0f82d1-7617-493e-ba70-d10f682c366a",
   "metadata": {},
   "source": [
    "slice = list[start_index:end_index]"
   ]
  },
  {
   "cell_type": "code",
   "execution_count": 3,
   "id": "196f4b9c-45f4-4609-b944-095cf852af8d",
   "metadata": {},
   "outputs": [
    {
     "name": "stdout",
     "output_type": "stream",
     "text": [
      "['hallway', 11.25, 'kitchen', 18.0, 'living room', 20.0]\n",
      "['bedroom', 10.75, 'bathroom', 9.5]\n"
     ]
    }
   ],
   "source": [
    "areas = [\"hallway\", 11.25, \"kitchen\", 18.0, \"living room\", 20.0, \"bedroom\", 10.75, \"bathroom\", 9.50]\n",
    "\n",
    "# Access the first 6 elements\n",
    "downstairs = areas[:6]\n",
    "\n",
    "# Access the last 4 elements\n",
    "upstairs = areas[-4:]\n",
    "\n",
    "print(downstairs)\n",
    "print(upstairs)"
   ]
  },
  {
   "cell_type": "markdown",
   "id": "7b5b45d8-9bba-4176-9375-4c0a833ac316",
   "metadata": {},
   "source": [
    "## Nested Lists"
   ]
  },
  {
   "cell_type": "code",
   "execution_count": 1,
   "id": "32fdf488-9b47-4abd-9fb3-dd9a30654181",
   "metadata": {},
   "outputs": [
    {
     "name": "stdout",
     "output_type": "stream",
     "text": [
      "9.5\n"
     ]
    }
   ],
   "source": [
    "house = [[\"hallway\", 11.25],\n",
    "         [\"kitchen\", 18.0],\n",
    "         [\"living room\", 20.0],\n",
    "         [\"bedroom\", 10.75],\n",
    "         [\"bathroom\", 9.50]]\n",
    "\n",
    "print(house[-1][1])"
   ]
  },
  {
   "cell_type": "markdown",
   "id": "1994714d-4602-483b-8e73-5f4e05642bbb",
   "metadata": {},
   "source": [
    "## Update List Values"
   ]
  },
  {
   "cell_type": "code",
   "execution_count": 4,
   "id": "7a93529f-37c8-4ac5-b2d6-8ea22c17083f",
   "metadata": {},
   "outputs": [
    {
     "name": "stdout",
     "output_type": "stream",
     "text": [
      "[-1, -2, -3, 3, 4, 5]\n",
      "[-3, 3, 4, 5]\n"
     ]
    }
   ],
   "source": [
    "nums = [1, 2, 3, 4, 5]\n",
    "nums[0:2] = [-1, -2, -3] # pass a slice to update values at the provided series of positions\n",
    "print(nums)\n",
    "\n",
    "del nums[0:2] # delete items in place\n",
    "print(nums)"
   ]
  },
  {
   "cell_type": "markdown",
   "id": "63944774-11cf-4986-8b60-9e67c2b75bdb",
   "metadata": {},
   "source": [
    "## Behind the Scenes"
   ]
  },
  {
   "cell_type": "markdown",
   "id": "9d454ea7-ae9a-4ebd-a00a-6728fdb0f862",
   "metadata": {},
   "source": [
    "Copying a list to a new variable copies the reference to the values, not the values themselves. In the example below, y is a list copied from x. When the value at index 0 of y is updated, x is updated accordingly."
   ]
  },
  {
   "cell_type": "code",
   "execution_count": 5,
   "id": "656d95da-a624-4537-ba5f-4798de619002",
   "metadata": {},
   "outputs": [
    {
     "name": "stdout",
     "output_type": "stream",
     "text": [
      "[-1, 2, 3]\n",
      "[-1, 2, 3]\n"
     ]
    }
   ],
   "source": [
    "x = [1, 2, 3]\n",
    "y = x\n",
    "y[0] = -1\n",
    "print(y)\n",
    "print(x)"
   ]
  },
  {
   "cell_type": "markdown",
   "id": "2cd5d0b5-8fda-444c-b50e-6dbd22e0ae44",
   "metadata": {},
   "source": [
    "To explicitly copy values rather than reference, there are two approaches:"
   ]
  },
  {
   "cell_type": "code",
   "execution_count": 6,
   "id": "78333175-397a-478a-b025-7b75c81e2f2f",
   "metadata": {},
   "outputs": [
    {
     "name": "stdout",
     "output_type": "stream",
     "text": [
      "[1, 2, 3]\n",
      "[0, 2, 3]\n",
      "[1, 2, 3]\n",
      "[True, False, False]\n",
      "[False, False, False]\n",
      "[True, False, False]\n"
     ]
    }
   ],
   "source": [
    "x = [1, 2, 3]\n",
    "y = list(x)\n",
    "print(y)\n",
    "y[0] = 0\n",
    "print(y)\n",
    "print(x) # x is unchanged\n",
    "\n",
    "\n",
    "a = [True, False, False]\n",
    "b = a[:]\n",
    "print(b)\n",
    "b[0] = False\n",
    "print(b)\n",
    "print(a) # a is unchanged"
   ]
  },
  {
   "cell_type": "markdown",
   "id": "63bb6d08-8282-4d18-9d8f-434454da5977",
   "metadata": {},
   "source": [
    "## Extend"
   ]
  },
  {
   "cell_type": "code",
   "execution_count": 7,
   "id": "8d3cf11f-92ed-43a5-94c7-166c6aac720c",
   "metadata": {},
   "outputs": [
    {
     "name": "stdout",
     "output_type": "stream",
     "text": [
      "['a', 'b', 'c', 'd', 'e', 'f']\n"
     ]
    }
   ],
   "source": [
    "list_a = ['a', 'b', 'c']\n",
    "list_b = ['d', 'e', 'f']\n",
    "list_a.extend(list_b)\n",
    "print(list_a)"
   ]
  },
  {
   "cell_type": "markdown",
   "id": "fe314974-6499-4f38-804d-99a055a9e09c",
   "metadata": {},
   "source": [
    "## List comprehension"
   ]
  },
  {
   "cell_type": "code",
   "execution_count": null,
   "id": "20ca0039-3f96-49ff-a4d4-004504d2d085",
   "metadata": {},
   "outputs": [],
   "source": []
  },
  {
   "cell_type": "markdown",
   "id": "a0b0b4d7-d16f-4199-9b03-5c228ef5c08b",
   "metadata": {},
   "source": [
    "List comprehensions take the form of [action for item in list] and return a new list."
   ]
  },
  {
   "cell_type": "code",
   "execution_count": 17,
   "id": "14c22689-9b97-4409-9778-28d7317e4d1f",
   "metadata": {},
   "outputs": [
    {
     "data": {
      "text/plain": [
       "['Chocolate Chip', 'Sugar', 'Peanut Butter', 'Madeline']"
      ]
     },
     "execution_count": 17,
     "metadata": {},
     "output_type": "execute_result"
    }
   ],
   "source": [
    "cookies = ['chocolate chip', 'sugar', 'peanut butter', 'madeline']\n",
    "titlecase_cookies = [cookie.title() for cookie in cookies]\n",
    "titlecase_cookies"
   ]
  },
  {
   "cell_type": "code",
   "execution_count": 18,
   "id": "17f20bb4-441f-4acd-ade3-82bdfaf937c3",
   "metadata": {},
   "outputs": [
    {
     "data": {
      "text/plain": [
       "['Chocolate Chip', 'Madeline', 'Peanut Butter', 'Sugar']"
      ]
     },
     "execution_count": 18,
     "metadata": {},
     "output_type": "execute_result"
    }
   ],
   "source": [
    "sorted(titlecase_cookies) # sorts strings in alphabetical order"
   ]
  },
  {
   "cell_type": "code",
   "execution_count": null,
   "id": "4cf473f4-e549-40d3-aa06-5ea49b93dbfd",
   "metadata": {},
   "outputs": [],
   "source": []
  }
 ],
 "metadata": {
  "kernelspec": {
   "display_name": "Python 3 (ipykernel)",
   "language": "python",
   "name": "python3"
  },
  "language_info": {
   "codemirror_mode": {
    "name": "ipython",
    "version": 3
   },
   "file_extension": ".py",
   "mimetype": "text/x-python",
   "name": "python",
   "nbconvert_exporter": "python",
   "pygments_lexer": "ipython3",
   "version": "3.12.8"
  }
 },
 "nbformat": 4,
 "nbformat_minor": 5
}
