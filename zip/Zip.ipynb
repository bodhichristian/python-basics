{
 "cells": [
  {
   "cell_type": "markdown",
   "id": "9e957089-9073-4baf-8ebe-56944e2734fd",
   "metadata": {},
   "source": [
    "# Zip"
   ]
  },
  {
   "cell_type": "markdown",
   "id": "618b21bc-5df8-48ef-8b9a-4a7a977f8ec6",
   "metadata": {},
   "source": [
    "Gets values from each argued iterable, and groups by index. Continues until the shortest argument's inputs are exhausted."
   ]
  },
  {
   "cell_type": "code",
   "execution_count": 5,
   "id": "e0d89b8b-b7e4-47dd-a0f7-1f87dd6fa500",
   "metadata": {},
   "outputs": [
    {
     "name": "stdout",
     "output_type": "stream",
     "text": [
      "[(1, 'a', False), (2, 'b', True), (3, 'c', True)]\n"
     ]
    }
   ],
   "source": [
    "a = [1, 2, 3]\n",
    "b = ['a', 'b', 'c']\n",
    "c = (False, True, True)\n",
    "\n",
    "abc = zip(a,b, c)\n",
    "print(list(abc))"
   ]
  },
  {
   "cell_type": "markdown",
   "id": "181f819a-24e0-44c8-ab7b-a24daaf9845f",
   "metadata": {},
   "source": [
    "## zip_longest"
   ]
  },
  {
   "cell_type": "markdown",
   "id": "932350c5-64d5-4895-a8c5-2a44f1bf5f26",
   "metadata": {},
   "source": [
    "Continues to insert None while arguments with remaining indicies have yet to exhaust its values."
   ]
  },
  {
   "cell_type": "code",
   "execution_count": 8,
   "id": "ca96567d-9d9b-4105-941d-79c01f9e0c81",
   "metadata": {},
   "outputs": [
    {
     "name": "stdout",
     "output_type": "stream",
     "text": [
      "[(1, 'd', 'F'), (2, 'e', 'a'), (3, 'f', 'l'), (4, None, 's'), (5, None, 'e')]\n",
      "[(1, 'd', 'F'), (2, 'e', 'a'), (3, 'f', 'l')]\n"
     ]
    }
   ],
   "source": [
    "from itertools import zip_longest\n",
    "\n",
    "a1 = [1, 2, 3, 4, 5]\n",
    "b1 = ['d', 'e', 'f']\n",
    "c1 = ('False')\n",
    "\n",
    "full_zip = zip_longest(a1, b1, c1)\n",
    "partial_zip = zip(a1, b1, c1)\n",
    "print(list(full_zip))\n",
    "print(list(partial_zip))"
   ]
  },
  {
   "cell_type": "markdown",
   "id": "3837a055-1737-42ff-a818-c1788aa9954a",
   "metadata": {},
   "source": [
    "`fillvalue` may be used to define the value to fill when an iterable's values have been exhausted."
   ]
  },
  {
   "cell_type": "code",
   "execution_count": 10,
   "id": "14de1423-f150-4d00-b0e1-059752f4a3ff",
   "metadata": {},
   "outputs": [
    {
     "name": "stdout",
     "output_type": "stream",
     "text": [
      "[(1, 'd', 'F'), (2, 'e', 'a'), (3, 'f', 'l'), (4, 'N/A', 's'), (5, 'N/A', 'e')]\n"
     ]
    }
   ],
   "source": [
    "filled_zip = zip_longest(a1, b1, c1, fillvalue = 'N/A')\n",
    "print(list(filled_zip))"
   ]
  },
  {
   "cell_type": "code",
   "execution_count": 11,
   "id": "ea726ba0-93ad-46cf-8ca4-8e35724a0dcf",
   "metadata": {},
   "outputs": [
    {
     "name": "stdout",
     "output_type": "stream",
     "text": [
      "[(1,), (2,), (3,), (4,), (5,)]\n"
     ]
    }
   ],
   "source": [
    "print(list(zip(a1))) # returns a list of 1-tuples"
   ]
  },
  {
   "cell_type": "code",
   "execution_count": 12,
   "id": "03c13c0e-e85a-465b-bbfc-e0f6f65c3426",
   "metadata": {},
   "outputs": [
    {
     "name": "stdout",
     "output_type": "stream",
     "text": [
      "[]\n"
     ]
    }
   ],
   "source": [
    "print(list(zip())) # returns an empty iterable (list)"
   ]
  },
  {
   "cell_type": "code",
   "execution_count": null,
   "id": "a1afe1de-fb27-4a03-8bb3-718610b43b31",
   "metadata": {},
   "outputs": [],
   "source": []
  }
 ],
 "metadata": {
  "kernelspec": {
   "display_name": "Python 3 (ipykernel)",
   "language": "python",
   "name": "python3"
  },
  "language_info": {
   "codemirror_mode": {
    "name": "ipython",
    "version": 3
   },
   "file_extension": ".py",
   "mimetype": "text/x-python",
   "name": "python",
   "nbconvert_exporter": "python",
   "pygments_lexer": "ipython3",
   "version": "3.12.8"
  }
 },
 "nbformat": 4,
 "nbformat_minor": 5
}
