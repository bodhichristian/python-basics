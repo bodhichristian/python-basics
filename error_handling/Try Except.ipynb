{
 "cells": [
  {
   "cell_type": "markdown",
   "id": "81bfaec9-e6f8-4800-9688-ff5dc271896b",
   "metadata": {},
   "source": [
    "# Error Handling"
   ]
  },
  {
   "cell_type": "markdown",
   "id": "19e55a82-ec4c-4044-a210-21dfb2d74bd7",
   "metadata": {},
   "source": [
    "## Try, Except"
   ]
  },
  {
   "cell_type": "markdown",
   "id": "7f6ce4b1-ebc4-492e-864e-dbb795baccf3",
   "metadata": {},
   "source": [
    "Useful for when errors may be thrown. Attempted code is placed inside the try block, and exceptions may be caught as general or specific errors."
   ]
  },
  {
   "cell_type": "code",
   "execution_count": 1,
   "id": "36ebeee0-996f-41cb-a8d4-426fe7a2d6e0",
   "metadata": {},
   "outputs": [
    {
     "ename": "FileNotFoundError",
     "evalue": "[Errno 2] No such file or directory: 'testfile.txt'",
     "output_type": "error",
     "traceback": [
      "\u001b[0;31m---------------------------------------------------------------------------\u001b[0m",
      "\u001b[0;31mFileNotFoundError\u001b[0m                         Traceback (most recent call last)",
      "Cell \u001b[0;32mIn[1], line 1\u001b[0m\n\u001b[0;32m----> 1\u001b[0m f \u001b[38;5;241m=\u001b[39m \u001b[38;5;28;43mopen\u001b[39;49m\u001b[43m(\u001b[49m\u001b[38;5;124;43m'\u001b[39;49m\u001b[38;5;124;43mtestfile.txt\u001b[39;49m\u001b[38;5;124;43m'\u001b[39;49m\u001b[43m)\u001b[49m\n",
      "File \u001b[0;32m/Library/Frameworks/Python.framework/Versions/3.12/lib/python3.12/site-packages/IPython/core/interactiveshell.py:324\u001b[0m, in \u001b[0;36m_modified_open\u001b[0;34m(file, *args, **kwargs)\u001b[0m\n\u001b[1;32m    317\u001b[0m \u001b[38;5;28;01mif\u001b[39;00m file \u001b[38;5;129;01min\u001b[39;00m {\u001b[38;5;241m0\u001b[39m, \u001b[38;5;241m1\u001b[39m, \u001b[38;5;241m2\u001b[39m}:\n\u001b[1;32m    318\u001b[0m     \u001b[38;5;28;01mraise\u001b[39;00m \u001b[38;5;167;01mValueError\u001b[39;00m(\n\u001b[1;32m    319\u001b[0m         \u001b[38;5;124mf\u001b[39m\u001b[38;5;124m\"\u001b[39m\u001b[38;5;124mIPython won\u001b[39m\u001b[38;5;124m'\u001b[39m\u001b[38;5;124mt let you open fd=\u001b[39m\u001b[38;5;132;01m{\u001b[39;00mfile\u001b[38;5;132;01m}\u001b[39;00m\u001b[38;5;124m by default \u001b[39m\u001b[38;5;124m\"\u001b[39m\n\u001b[1;32m    320\u001b[0m         \u001b[38;5;124m\"\u001b[39m\u001b[38;5;124mas it is likely to crash IPython. If you know what you are doing, \u001b[39m\u001b[38;5;124m\"\u001b[39m\n\u001b[1;32m    321\u001b[0m         \u001b[38;5;124m\"\u001b[39m\u001b[38;5;124myou can use builtins\u001b[39m\u001b[38;5;124m'\u001b[39m\u001b[38;5;124m open.\u001b[39m\u001b[38;5;124m\"\u001b[39m\n\u001b[1;32m    322\u001b[0m     )\n\u001b[0;32m--> 324\u001b[0m \u001b[38;5;28;01mreturn\u001b[39;00m \u001b[43mio_open\u001b[49m\u001b[43m(\u001b[49m\u001b[43mfile\u001b[49m\u001b[43m,\u001b[49m\u001b[43m \u001b[49m\u001b[38;5;241;43m*\u001b[39;49m\u001b[43margs\u001b[49m\u001b[43m,\u001b[49m\u001b[43m \u001b[49m\u001b[38;5;241;43m*\u001b[39;49m\u001b[38;5;241;43m*\u001b[39;49m\u001b[43mkwargs\u001b[49m\u001b[43m)\u001b[49m\n",
      "\u001b[0;31mFileNotFoundError\u001b[0m: [Errno 2] No such file or directory: 'testfile.txt'"
     ]
    }
   ],
   "source": [
    "f = open('testfile.txt') # Intentional typo to throw error"
   ]
  },
  {
   "cell_type": "markdown",
   "id": "78582ea4-80a6-460c-8037-2c4e36412121",
   "metadata": {},
   "source": [
    "`except Exception as e` catches any error that is thrown in the try body. The error is stored in the declared variable, e here."
   ]
  },
  {
   "cell_type": "code",
   "execution_count": 8,
   "id": "f2046bc8-4099-4c28-82f6-2dd39812a942",
   "metadata": {},
   "outputs": [
    {
     "name": "stdout",
     "output_type": "stream",
     "text": [
      "[Errno 2] No such file or directory: 'testfile.txt'\n"
     ]
    }
   ],
   "source": [
    "try:\n",
    "    f = open('testfile.txt') # Intentional typo to throw error\n",
    "except Exception as e:\n",
    "    print(e)"
   ]
  },
  {
   "cell_type": "markdown",
   "id": "99aea4fb-56ec-4513-9011-a50168a63927",
   "metadata": {},
   "source": [
    "`except FileNotFoundError` catches FNF errors"
   ]
  },
  {
   "cell_type": "code",
   "execution_count": 9,
   "id": "2ec4a16a-e4fe-4704-aa92-29396b4106e9",
   "metadata": {},
   "outputs": [
    {
     "name": "stdout",
     "output_type": "stream",
     "text": [
      "name 'bad_var' is not defined\n"
     ]
    }
   ],
   "source": [
    "try:\n",
    "    f = open('test_file.txt')\n",
    "    var = bad_var\n",
    "except FileNotFoundError: # catch a specific error type\n",
    "    print('This file does not exist.')\n",
    "except Exception as e:\n",
    "    print(e)"
   ]
  },
  {
   "cell_type": "markdown",
   "id": "19fd5c6c-8a17-4b93-8680-3dfe156d8c69",
   "metadata": {},
   "source": [
    "## Else, Finally\n"
   ]
  },
  {
   "cell_type": "markdown",
   "id": "87e5334e-f66f-4d6e-95ca-1ce1043c6603",
   "metadata": {},
   "source": [
    "The `else` block will run if <b>no exceptions have been caught.</b>\n",
    "The `finally` block will run last, in all scenarios."
   ]
  },
  {
   "cell_type": "code",
   "execution_count": 12,
   "id": "eab25838-2592-4d0b-b401-c5714a2cf45c",
   "metadata": {},
   "outputs": [
    {
     "name": "stdout",
     "output_type": "stream",
     "text": [
      "Congratulations. You have found the test file! What are you going to do now?\n",
      "\n",
      "File found, program complete.\n"
     ]
    }
   ],
   "source": [
    "try: \n",
    "    f = open('test_file.txt')\n",
    "except FileNotFoundError as e:\n",
    "    print(e)\n",
    "except Exception as e:\n",
    "    print(e)\n",
    "else:\n",
    "    print(f.read())\n",
    "    f.close()\n",
    "finally:\n",
    "    print('File found, program complete.')"
   ]
  },
  {
   "cell_type": "markdown",
   "id": "f2014f8a-b75c-4c24-a41b-b254b72be772",
   "metadata": {},
   "source": [
    "## Raise custom errors"
   ]
  },
  {
   "cell_type": "code",
   "execution_count": null,
   "id": "6c471088-c5a2-431c-88c7-20b7de052ade",
   "metadata": {},
   "outputs": [],
   "source": [
    "try: \n",
    "    f = open('test_file.txt')\n",
    "    if f.name == 'test_file.txt':\n",
    "        ra\n",
    "except FileNotFoundError as e:\n",
    "    print(e)\n"
   ]
  }
 ],
 "metadata": {
  "kernelspec": {
   "display_name": "Python 3 (ipykernel)",
   "language": "python",
   "name": "python3"
  },
  "language_info": {
   "codemirror_mode": {
    "name": "ipython",
    "version": 3
   },
   "file_extension": ".py",
   "mimetype": "text/x-python",
   "name": "python",
   "nbconvert_exporter": "python",
   "pygments_lexer": "ipython3",
   "version": "3.12.8"
  }
 },
 "nbformat": 4,
 "nbformat_minor": 5
}
